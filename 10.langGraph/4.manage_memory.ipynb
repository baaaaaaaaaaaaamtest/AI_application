{
 "cells": [
  {
   "cell_type": "code",
   "execution_count": null,
   "id": "73ad8b8d",
   "metadata": {},
   "outputs": [],
   "source": [
    "from typing import Annotated,Literal\n",
    "from typing_extensions import TypedDict\n",
    "from langchain_openai import ChatOpenAI\n",
    "from langchain_teddynote.tools.tavily import TavilySearch\n",
    "from langgraph.graph import StateGraph, START, END\n",
    "from langgraph.graph.message import add_messages\n",
    "from langgraph.prebuilt import ToolNode, tools_condition\n",
    "from langgraph.checkpoint.memory import MemorySaver\n",
    "from langchain_core.messages import RemoveMessage\n"
   ]
  },
  {
   "cell_type": "code",
   "execution_count": 2,
   "id": "0c33f4ac",
   "metadata": {},
   "outputs": [
    {
     "name": "stdout",
     "output_type": "stream",
     "text": [
      "LangSmith 추적을 시작합니다.\n",
      "[프로젝트명]\n",
      "CH17-LangGraph-Modules\n"
     ]
    }
   ],
   "source": [
    "from langchain_teddynote import logging\n",
    "\n",
    "# 프로젝트 이름을 입력합니다.\n",
    "logging.langsmith(\"CH17-LangGraph-Modules\")"
   ]
  },
  {
   "cell_type": "code",
   "execution_count": 3,
   "id": "f1bc2904",
   "metadata": {},
   "outputs": [],
   "source": [
    "\n",
    "\n",
    "########## 1. 상태 정의 ##########\n",
    "# 상태 정의\n",
    "class State(TypedDict):\n",
    "    # 메시지 목록 주석 추가\n",
    "    messages: Annotated[list, add_messages]\n",
    "\n",
    "\n",
    "########## 2. 도구 정의 및 바인딩 ##########\n",
    "# 도구 초기화\n",
    "tool = TavilySearch(max_results=3)\n",
    "tools = [tool]\n",
    "\n",
    "# LLM 초기화\n",
    "llm = ChatOpenAI(model=\"gpt-4o-mini\",temperature=0)\n",
    "\n",
    "# 도구와 LLM 결합\n",
    "llm_with_tools = llm.bind_tools(tools)\n"
   ]
  },
  {
   "cell_type": "code",
   "execution_count": 4,
   "id": "ddc84f0a",
   "metadata": {},
   "outputs": [
    {
     "data": {
      "text/plain": [
       "AIMessage(content='안녕하세요, 김태훈님! 어떻게 도와드릴까요?', additional_kwargs={'refusal': None}, response_metadata={'token_usage': {'completion_tokens': 16, 'prompt_tokens': 98, 'total_tokens': 114, 'completion_tokens_details': {'accepted_prediction_tokens': 0, 'audio_tokens': 0, 'reasoning_tokens': 0, 'rejected_prediction_tokens': 0}, 'prompt_tokens_details': {'audio_tokens': 0, 'cached_tokens': 0}}, 'model_name': 'gpt-4o-mini-2024-07-18', 'system_fingerprint': 'fp_51db84afab', 'id': 'chatcmpl-CIvSYO245gllwS9JUmsnCUKyRddxo', 'service_tier': 'default', 'finish_reason': 'stop', 'logprobs': None}, id='run--3df621dd-506b-4276-86a2-ec920ea3a0b9-0', usage_metadata={'input_tokens': 98, 'output_tokens': 16, 'total_tokens': 114, 'input_token_details': {'audio': 0, 'cache_read': 0}, 'output_token_details': {'audio': 0, 'reasoning': 0}})"
      ]
     },
     "execution_count": 4,
     "metadata": {},
     "output_type": "execute_result"
    }
   ],
   "source": [
    "llm_with_tools.invoke('안녕하세요 저는 김태훈입니다')"
   ]
  },
  {
   "cell_type": "code",
   "execution_count": 5,
   "id": "dbd64b98",
   "metadata": {},
   "outputs": [
    {
     "data": {
      "text/plain": [
       "<langgraph.graph.state.StateGraph at 0x759e540bf8d0>"
      ]
     },
     "execution_count": 5,
     "metadata": {},
     "output_type": "execute_result"
    }
   ],
   "source": [
    "\n",
    "\n",
    "########## 3. 노드 추가 ##########\n",
    "# 챗봇 함수 정의\n",
    "def chatbot(state: State):\n",
    "    # 메시지 호출 및 반환\n",
    "    result = llm_with_tools.invoke(state[\"messages\"])\n",
    "    return State({\"messages\": [result]})\n",
    "\n",
    "# 메시지 개수가 3개 초과 시 오래된 메시지 삭제 및 최신 메시지만 유지\n",
    "def delete_messages(state:State):\n",
    "    messages = state[\"messages\"]\n",
    "    if len(messages) > 3:\n",
    "        return {\"messages\": [RemoveMessage(id=m.id) for m in messages[:-3]]}\n",
    "\n",
    "\n",
    "# 메시지 상태에 따른 다음 실행 노드 결정 로직\n",
    "def should_continue(state: State) -> Literal[\"tools\", \"delete_messages\"]:\n",
    "    \"\"\"Return the next node to execute.\"\"\"\n",
    "    if messages := state.get(\"messages\", []):\n",
    "        # 가장 최근 AI 메시지 추출\n",
    "        ai_message = messages[-1]\n",
    "    else:\n",
    "        # 입력 상태에 메시지가 없는 경우 예외 발생\n",
    "        raise ValueError(f\"No messages found in input state to tool_edge: {state}\")\n",
    "\n",
    "    # AI 메시지에 도구 호출이 있는 경우 \"tools\" 반환\n",
    "    if hasattr(ai_message, \"tool_calls\") and len(ai_message.tool_calls) > 0:\n",
    "        # 도구 호출이 있는 경우 \"tools\" 반환\n",
    "        return \"tools\"\n",
    "    # 도구 호출이 없는 경우 \"END\" 반환\n",
    "    return 'delete_messages'\n",
    "\n",
    "\n",
    "# 상태 그래프 생성\n",
    "graph_state = StateGraph(State)\n",
    "\n",
    "# 챗봇 노드 추가\n",
    "graph_state.add_node(\"chatbot\", chatbot)\n",
    "\n",
    "# 도구 노드 생성 및 추가\n",
    "tool_node = ToolNode(tools=[tool])\n",
    "\n",
    "# 도구 노드 추가\n",
    "graph_state.add_node(\"tools\", tool_node)\n",
    "\n",
    "graph_state.add_node(\"delete_messages\", delete_messages)\n",
    "\n",
    "# 조건부 엣지\n",
    "graph_state.add_conditional_edges(\n",
    "    \"chatbot\",\n",
    "    should_continue,\n",
    ")\n",
    "\n",
    "########## 4. 엣지 추가 ##########\n",
    "\n",
    "graph_state.add_edge(START, \"chatbot\")\n",
    "\n",
    "graph_state.add_edge(\"tools\", \"chatbot\")\n",
    "\n",
    "graph_state.add_edge(\"chatbot\", \"delete_messages\")\n",
    "\n",
    "graph_state.add_edge(\"delete_messages\", END)"
   ]
  },
  {
   "cell_type": "code",
   "execution_count": 15,
   "id": "db2f22ff",
   "metadata": {},
   "outputs": [
    {
     "name": "stdout",
     "output_type": "stream",
     "text": [
      "---\n",
      "config:\n",
      "  flowchart:\n",
      "    curve: linear\n",
      "---\n",
      "graph TD;\n",
      "\t__start__([<p>__start__</p>]):::first\n",
      "\tchatbot(chatbot)\n",
      "\ttools(tools)\n",
      "\tdelete_messages(delete_messages)\n",
      "\t__end__([<p>__end__</p>]):::last\n",
      "\t__start__ --> chatbot;\n",
      "\tchatbot --> delete_messages;\n",
      "\tchatbot -.-> tools;\n",
      "\ttools --> chatbot;\n",
      "\tdelete_messages --> __end__;\n",
      "\tclassDef default fill:#f2f0ff,line-height:1.2\n",
      "\tclassDef first fill-opacity:0\n",
      "\tclassDef last fill:#bfb6fc\n",
      "\n"
     ]
    }
   ],
   "source": [
    "# 메모리 저장소 생성\n",
    "memory = MemorySaver()\n",
    "graph = graph_state.compile(checkpointer=memory)\n",
    "mermaid_code = graph.get_graph().draw_mermaid()\n",
    "print(mermaid_code)"
   ]
  },
  {
   "cell_type": "code",
   "execution_count": 7,
   "id": "7741e147",
   "metadata": {},
   "outputs": [
    {
     "name": "stdout",
     "output_type": "stream",
     "text": [
      "그래프 시각화 실패 (추가 종속성 필요): Failed to reach https://mermaid.ink/ API while trying to render your graph. Status code: 502.\n",
      "\n",
      "To resolve this issue:\n",
      "1. Check your internet connection and try again\n",
      "2. Try with higher retry settings: `draw_mermaid_png(..., max_retries=5, retry_delay=2.0)`\n",
      "3. Use the Pyppeteer rendering method which will render your graph locally in a browser: `draw_mermaid_png(..., draw_method=MermaidDrawMethod.PYPPETEER)`\n",
      "ASCII로 그래프 표시:\n",
      "          +-----------+               \n",
      "          | __start__ |               \n",
      "          +-----------+               \n",
      "                *                     \n",
      "                *                     \n",
      "                *                     \n",
      "          +---------+                 \n",
      "          | chatbot |                 \n",
      "          +---------+                 \n",
      "         ***         ***              \n",
      "        *               *             \n",
      "      **                 **           \n",
      "+-------+         +-----------------+ \n",
      "| tools |         | delete_messages | \n",
      "+-------+         +-----------------+ \n",
      "                            *         \n",
      "                            *         \n",
      "                            *         \n",
      "                      +---------+     \n",
      "                      | __end__ |     \n",
      "                      +---------+     \n"
     ]
    }
   ],
   "source": [
    "from langchain_teddynote.graphs import visualize_graph\n",
    "# 그래프 시각화\n",
    "visualize_graph(graph)"
   ]
  },
  {
   "cell_type": "code",
   "execution_count": 16,
   "id": "3e604a25",
   "metadata": {},
   "outputs": [],
   "source": [
    "from langchain_core.runnables import RunnableConfig\n",
    "\n",
    "config = RunnableConfig(\n",
    "    recursion_limit=6,  # 최대 10개의 노드까지 방문. 그 이상은 RecursionError 발생\n",
    "    configurable={\"thread_id\": \"0012\"},  # 스레드 ID 설정\n",
    ")"
   ]
  },
  {
   "cell_type": "code",
   "execution_count": 17,
   "id": "fda9e91d",
   "metadata": {},
   "outputs": [
    {
     "name": "stdout",
     "output_type": "stream",
     "text": [
      "[('human', '안녕하세요! 제 이름은 Teddy입니다. 잘 부탁드립니다.')]\n",
      "[('human', '안녕하세요! 제 이름은 Teddy입니다. 잘 부탁드립니다.'), ('ai', '안녕하세요, Teddy님! 만나서 반갑습니다. 어떻게 도와드릴까요?')]\n"
     ]
    }
   ],
   "source": [
    "# LangChain 메시지 처리를 위한 HumanMessage 클래스 임포트\n",
    "from langchain_core.messages import HumanMessage\n",
    "\n",
    "# 1번째 질문 수행\n",
    "# input_message = HumanMessage(\n",
    "#     content=\"안녕하세요! 제 이름은 Teddy입니다. 잘 부탁드립니다.\"\n",
    "# )\n",
    "\n",
    "question=\"안녕하세요! 제 이름은 Teddy입니다. 잘 부탁드립니다.\"\n",
    "\n",
    "for event in graph.stream({\"messages\": [question]}, config=config, stream_mode=\"values\"):\n",
    "    print([(message.type, message.content) for message in event[\"messages\"]])"
   ]
  },
  {
   "cell_type": "code",
   "execution_count": 18,
   "id": "3e8579c7",
   "metadata": {},
   "outputs": [
    {
     "name": "stdout",
     "output_type": "stream",
     "text": [
      "[('human', '안녕하세요! 제 이름은 Teddy입니다. 잘 부탁드립니다.'), ('ai', '안녕하세요, Teddy님! 만나서 반갑습니다. 어떻게 도와드릴까요?'), ('human', '내이름이머라고 ?.')]\n",
      "[('human', '안녕하세요! 제 이름은 Teddy입니다. 잘 부탁드립니다.'), ('ai', '안녕하세요, Teddy님! 만나서 반갑습니다. 어떻게 도와드릴까요?'), ('human', '내이름이머라고 ?.'), ('ai', 'Teddy님이라고 하셨습니다! 맞나요?')]\n",
      "[('ai', '안녕하세요, Teddy님! 만나서 반갑습니다. 어떻게 도와드릴까요?'), ('human', '내이름이머라고 ?.'), ('ai', 'Teddy님이라고 하셨습니다! 맞나요?')]\n"
     ]
    }
   ],
   "source": [
    "question=\"내이름이머라고 ?.\"\n",
    "\n",
    "for event in graph.stream({\"messages\": [question]}, config=config, stream_mode=\"values\"):\n",
    "    print([(message.type, message.content) for message in event[\"messages\"]])"
   ]
  },
  {
   "cell_type": "code",
   "execution_count": 19,
   "id": "7fa15c33",
   "metadata": {},
   "outputs": [
    {
     "name": "stdout",
     "output_type": "stream",
     "text": [
      "[('ai', '안녕하세요, Teddy님! 만나서 반갑습니다. 어떻게 도와드릴까요?'), ('human', '내이름이머라고 ?.'), ('ai', 'Teddy님이라고 하셨습니다! 맞나요?'), ('human', '맞아 내직업은 개발자야 잘알아둬 ?.')]\n",
      "[('ai', '안녕하세요, Teddy님! 만나서 반갑습니다. 어떻게 도와드릴까요?'), ('human', '내이름이머라고 ?.'), ('ai', 'Teddy님이라고 하셨습니다! 맞나요?'), ('human', '맞아 내직업은 개발자야 잘알아둬 ?.'), ('ai', '네, Teddy님은 개발자시군요! 개발 관련 질문이나 도움이 필요하시면 언제든지 말씀해 주세요.')]\n",
      "[('ai', 'Teddy님이라고 하셨습니다! 맞나요?'), ('human', '맞아 내직업은 개발자야 잘알아둬 ?.'), ('ai', '네, Teddy님은 개발자시군요! 개발 관련 질문이나 도움이 필요하시면 언제든지 말씀해 주세요.')]\n"
     ]
    }
   ],
   "source": [
    "question=\"맞아 내직업은 개발자야 잘알아둬 ?.\"\n",
    "\n",
    "for event in graph.stream({\"messages\": [question]}, config=config, stream_mode=\"values\"):\n",
    "    print([(message.type, message.content) for message in event[\"messages\"]])"
   ]
  },
  {
   "cell_type": "code",
   "execution_count": 23,
   "id": "2335a235",
   "metadata": {},
   "outputs": [
    {
     "name": "stdout",
     "output_type": "stream",
     "text": [
      "[('ai', '미술학을 전공하셨군요! 정말 흥미로운 전공입니다. 미술과 개발을 결합한 프로젝트나 관심 있는 분야가 있으신가요? 예를 들어, 디지털 아트, 인터랙티브 아트, 또는 게임 디자인 같은 분야에 관심이 있으신지 궁금합니다.'), ('human', '아니 딱히 없는데?'), ('ai', '그렇군요! 미술학을 전공하셨지만 특별한 분야에 관심이 없으시다면, 다른 취미나 관심사에 대해 이야기해 보실까요? 예를 들어, 좋아하는 예술가나 작품, 혹은 최근에 감명 깊게 본 전시회 같은 것이 있을까요?'), ('human', '내이름이 머라고 ?')]\n",
      "[('ai', '미술학을 전공하셨군요! 정말 흥미로운 전공입니다. 미술과 개발을 결합한 프로젝트나 관심 있는 분야가 있으신가요? 예를 들어, 디지털 아트, 인터랙티브 아트, 또는 게임 디자인 같은 분야에 관심이 있으신지 궁금합니다.'), ('human', '아니 딱히 없는데?'), ('ai', '그렇군요! 미술학을 전공하셨지만 특별한 분야에 관심이 없으시다면, 다른 취미나 관심사에 대해 이야기해 보실까요? 예를 들어, 좋아하는 예술가나 작품, 혹은 최근에 감명 깊게 본 전시회 같은 것이 있을까요?'), ('human', '내이름이 머라고 ?'), ('ai', '죄송하지만, 당신의 이름을 알 수 있는 정보가 없습니다. 이름을 알려주시면 그에 맞춰 대화할 수 있습니다!')]\n",
      "[('ai', '그렇군요! 미술학을 전공하셨지만 특별한 분야에 관심이 없으시다면, 다른 취미나 관심사에 대해 이야기해 보실까요? 예를 들어, 좋아하는 예술가나 작품, 혹은 최근에 감명 깊게 본 전시회 같은 것이 있을까요?'), ('human', '내이름이 머라고 ?'), ('ai', '죄송하지만, 당신의 이름을 알 수 있는 정보가 없습니다. 이름을 알려주시면 그에 맞춰 대화할 수 있습니다!')]\n"
     ]
    }
   ],
   "source": [
    "question=\"내이름이 머라고 ?\"\n",
    "\n",
    "for event in graph.stream({\"messages\": [question]}, config=config, stream_mode=\"values\"):\n",
    "    print([(message.type, message.content) for message in event[\"messages\"]])"
   ]
  }
 ],
 "metadata": {
  "kernelspec": {
   "display_name": "langchain-kr-EGILWU2T-py3.11",
   "language": "python",
   "name": "python3"
  },
  "language_info": {
   "codemirror_mode": {
    "name": "ipython",
    "version": 3
   },
   "file_extension": ".py",
   "mimetype": "text/x-python",
   "name": "python",
   "nbconvert_exporter": "python",
   "pygments_lexer": "ipython3",
   "version": "3.11.11"
  }
 },
 "nbformat": 4,
 "nbformat_minor": 5
}
