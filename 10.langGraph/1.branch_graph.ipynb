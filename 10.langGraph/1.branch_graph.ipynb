{
 "cells": [
  {
   "cell_type": "code",
   "execution_count": null,
   "id": "04bcef1a",
   "metadata": {},
   "outputs": [],
   "source": [
    "from langgraph.graph import StateGraph,START,END\n",
    "from langgraph.graph.message import add_messages\n",
    "from typing import Annotated, TypedDict\n",
    "from langchain_openai import ChatOpenAI\n",
    "from langchain_teddynote.tools.tavily import TavilySearch\n",
    "\n",
    "from langchain_teddynote.graphs import visualize_graph\n",
    "from langgraph.prebuilt import ToolNode, tools_condition\n",
    "\n"
   ]
  },
  {
   "cell_type": "markdown",
   "id": "99d664d9",
   "metadata": {},
   "source": [
    "## 도구 사용 분기 처리\n",
    "\n",
    "1. state 생성\n",
    "2. llm 생성\n",
    "3. 도구 리스트 생성\n",
    "4. llm과 도구 연결\n",
    "5. 노드 생성\n",
    "6. 노드 추가\n",
    "7. 노드간 엣지 추가\n",
    "8. 분기 조건처리\n",
    "9. 그래프 확인"
   ]
  },
  {
   "cell_type": "code",
   "execution_count": null,
   "id": "f671a16d",
   "metadata": {},
   "outputs": [],
   "source": [
    "\n",
    "# 1. state\n",
    "class State(TypedDict):\n",
    "    messages : Annotated[list,add_messages]\n",
    "\n",
    "# 2. llm \n",
    "llm = ChatOpenAI(model=\"gpt-4.1-mini\",temperature=0)\n",
    "\n",
    "# 3. 도구 생성\n",
    "tool = TavilySearch(max_results=3)\n",
    "tools = [tool]\n",
    "tool_node = ToolNode(tools)"
   ]
  },
  {
   "cell_type": "code",
   "execution_count": null,
   "id": "54ff190d",
   "metadata": {},
   "outputs": [],
   "source": [
    "\n",
    "# 4. llm 과 구 연결\n",
    "llm_bind_tool = llm.bind_tools(tools)\n",
    "\n",
    "# 5. 노드 생성\n",
    "def chatbot(state:State):\n",
    "    # print(state[('messages')])\n",
    "    return State({'messages':[llm_bind_tool.invoke(state['messages'])]})\n",
    "\n",
    "# 8. 분기 처리\n",
    "def route_tool_use(state:State):\n",
    "    if messages := state.get(\"messages\", []):\n",
    "        # 가장 최근 AI 메시지 추출\n",
    "        ai_message = messages[-1]\n",
    "    else:\n",
    "        # 입력 상태에 메시지가 없는 경우 예외 발생\n",
    "        raise ValueError(f\"No messages found in input state to tool_edge: {state}\")\n",
    "\n",
    "    # AI 메시지에 도구 호출이 있는 경우 \"tools\" 반환\n",
    "    if hasattr(ai_message, \"tool_calls\") and len(ai_message.tool_calls) > 0:\n",
    "        # 도구 호출이 있는 경우 \"tools\" 반환\n",
    "        return \"tool_node\"\n",
    "    # 도구 호출이 없는 경우 \"END\" 반환\n",
    "    return END\n",
    "    \n",
    "\n",
    "# 6. 노드 추가\n",
    "state_graph = StateGraph(State)\n",
    "state_graph.add_node('chatbot',chatbot)\n",
    "state_graph.add_node('tool_node',tool_node)\n",
    "# 7. 엣지 추가\n",
    "state_graph.add_edge(START,'chatbot')\n",
    "# 8. 분기 처리\n",
    "state_graph.add_conditional_edges(\n",
    "    source='chatbot',\n",
    "    path=route_tool_use,\n",
    "    path_map={\n",
    "        'tool_node':'tool_node',\n",
    "        END:END\n",
    "    }\n",
    ")\n",
    "# 위에랑 같은 처리 route_tool_use 직접 구현없이 tools_condition으로 구현가능\n",
    "# state_graph.add_conditional_edges(\n",
    "#     source='chatbot',\n",
    "#     path=tools_condition\n",
    "# )\n",
    "state_graph.add_edge('tool_node','chatbot')\n",
    "state_graph.add_edge('chatbot',END)\n"
   ]
  },
  {
   "cell_type": "code",
   "execution_count": null,
   "id": "9e8e2b84",
   "metadata": {},
   "outputs": [],
   "source": [
    "\n",
    "graph = state_graph.compile()\n",
    "\n",
    "\n",
    "# 그래프 시각화\n",
    "visualize_graph(graph)"
   ]
  },
  {
   "cell_type": "code",
   "execution_count": null,
   "id": "0afa0509",
   "metadata": {},
   "outputs": [],
   "source": [
    "graph.invoke({\"messages\":\"오늘의뉴스\"})"
   ]
  }
 ],
 "metadata": {
  "kernelspec": {
   "display_name": "langchain-kr-EGILWU2T-py3.11",
   "language": "python",
   "name": "python3"
  },
  "language_info": {
   "codemirror_mode": {
    "name": "ipython",
    "version": 3
   },
   "file_extension": ".py",
   "mimetype": "text/x-python",
   "name": "python",
   "nbconvert_exporter": "python",
   "pygments_lexer": "ipython3",
   "version": "3.11.11"
  }
 },
 "nbformat": 4,
 "nbformat_minor": 5
}
