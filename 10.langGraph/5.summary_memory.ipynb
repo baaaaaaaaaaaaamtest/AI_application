{
 "cells": [
  {
   "cell_type": "code",
   "execution_count": 1,
   "id": "1c7caba7",
   "metadata": {},
   "outputs": [],
   "source": [
    "from typing import Annotated,Literal\n",
    "from typing_extensions import TypedDict\n",
    "from langchain_openai import ChatOpenAI\n",
    "from langgraph.graph.message import add_messages\n",
    "from langchain_teddynote.tools.tavily import TavilySearch\n",
    "from langgraph.prebuilt import ToolNode, tools_condition\n",
    "from langgraph.graph import StateGraph, START, END\n",
    "from langgraph.checkpoint.memory import MemorySaver\n",
    "from langchain_core.messages import SystemMessage, RemoveMessage, HumanMessage\n",
    "\n"
   ]
  },
  {
   "cell_type": "code",
   "execution_count": 2,
   "id": "a67416a2",
   "metadata": {},
   "outputs": [],
   "source": [
    "llm = ChatOpenAI(model='gpt-4.1-mini',temperature=0)\n",
    "\n",
    "class State(TypedDict):\n",
    "    messages: Annotated[list,add_messages]\n",
    "    summary: str\n",
    "\n",
    "def ask_llm(state: State):\n",
    "    summary = state.get(\"summary\",\"\")\n",
    "    if summary:\n",
    "        system_message = f\"summary of conversation earlier: {summary}\"\n",
    "        messages = [SystemMessage(context=system_message)]+state[\"messages\"]\n",
    "    else:\n",
    "        messages = state[\"messages\"]\n",
    "    \n",
    "    response = llm.invoke(messages)\n",
    "    return {\"messages\":[response]}\n",
    "\n",
    "\n",
    "def should_continue(state:State)->Literal[\"summarization\", END]:\n",
    "    messages = state.get(\"messages\",\"\")\n",
    "    if len(messages) > 6 :\n",
    "        return \"summarization\"\n",
    "    return END\n",
    "\n",
    "\n",
    "def summarization(state : State ):\n",
    "    summary = state.get(\"summary\")\n",
    "    \n",
    "    if summary:\n",
    "        # 이전 요약 정보가 있다면 요약 메시지 생성\n",
    "        summary_message = (\n",
    "            f\"This is summary of the conversation to date: {summary}\\n\\n\"\n",
    "            \"Extend the summary by taking into account the new messages above in Korean:\"\n",
    "        )\n",
    "    else:\n",
    "        # 요약 메시지 생성\n",
    "        summary_message = \"Create a summary of the conversation above in Korean:\"\n",
    "\n",
    "    messages_and_summary = state[\"messages\"] + [HumanMessage(content=summary_message)]\n",
    "    total_summary = llm.invoke(messages_and_summary)\n",
    "    delete_messages = [RemoveMessage(id=m.id) for m in state[\"messages\"][:-2]]\n",
    "    return {\"summary\":total_summary.content, \"messages\":delete_messages}\n",
    "\n",
    "\n",
    "state_graph = StateGraph(State)\n",
    "state_graph.add_node('ask_llm',ask_llm)\n",
    "state_graph.add_node('summarization',summarization)\n",
    "\n",
    "state_graph.add_edge(START,'ask_llm')\n",
    "state_graph.add_conditional_edges(\n",
    "    source='ask_llm',\n",
    "    path=should_continue\n",
    ")\n",
    "state_graph.add_edge('summarization',END)\n",
    "\n",
    "graph = state_graph.compile()\n"
   ]
  },
  {
   "cell_type": "code",
   "execution_count": 3,
   "id": "0b12c74a",
   "metadata": {},
   "outputs": [
    {
     "name": "stdout",
     "output_type": "stream",
     "text": [
      "---\n",
      "config:\n",
      "  flowchart:\n",
      "    curve: linear\n",
      "---\n",
      "graph TD;\n",
      "\t__start__([<p>__start__</p>]):::first\n",
      "\task_llm(ask_llm)\n",
      "\tsummarization(summarization)\n",
      "\t__end__([<p>__end__</p>]):::last\n",
      "\t__start__ --> ask_llm;\n",
      "\task_llm -.-> __end__;\n",
      "\task_llm -.-> summarization;\n",
      "\tsummarization --> __end__;\n",
      "\tclassDef default fill:#f2f0ff,line-height:1.2\n",
      "\tclassDef first fill-opacity:0\n",
      "\tclassDef last fill:#bfb6fc\n",
      "\n"
     ]
    }
   ],
   "source": [
    "# 메모리 저장소 생성\n",
    "memory = MemorySaver()\n",
    "graph = state_graph.compile(checkpointer=memory)\n",
    "mermaid_code = graph.get_graph().draw_mermaid()\n",
    "print(mermaid_code)"
   ]
  },
  {
   "cell_type": "code",
   "execution_count": 4,
   "id": "b1a787f0",
   "metadata": {},
   "outputs": [],
   "source": [
    "\n",
    "# query = \"2025년 10월 초 서울 근교 데이터 코스 찾아줘\"\n",
    "\n",
    "# graph.invoke({\"messages\":query})"
   ]
  },
  {
   "cell_type": "code",
   "execution_count": 5,
   "id": "83bb2415",
   "metadata": {},
   "outputs": [],
   "source": [
    "from langchain_core.runnables import RunnableConfig\n",
    "\n",
    "config = RunnableConfig(\n",
    "    recursion_limit=6,  # 최대 10개의 노드까지 방문. 그 이상은 RecursionError 발생\n",
    "    configurable={\"thread_id\": \"0012\"},  # 스레드 ID 설정\n",
    ")"
   ]
  },
  {
   "cell_type": "code",
   "execution_count": 6,
   "id": "ebfd948b",
   "metadata": {},
   "outputs": [
    {
     "name": "stdout",
     "output_type": "stream",
     "text": [
      "[('human', '안녕 나는 김자윤이야 ?')]\n",
      "[('human', '안녕 나는 김자윤이야 ?'), ('ai', '안녕, 김자윤! 만나서 반가워요. 어떻게 도와줄까요?')]\n"
     ]
    }
   ],
   "source": [
    "query = \"안녕 나는 김자윤이야 ?\"\n",
    "\n",
    "for event in graph.stream({\"messages\":query},config=config,stream_mode=\"values\"):\n",
    "    # messages = event[\"messages\"]\n",
    "    # print(len(messages))\n",
    "    print([(message.type, message.content) for message in event[\"messages\"]])"
   ]
  },
  {
   "cell_type": "code",
   "execution_count": 7,
   "id": "cfdb0d17",
   "metadata": {},
   "outputs": [
    {
     "name": "stdout",
     "output_type": "stream",
     "text": [
      "[('human', '안녕 나는 김자윤이야 ?'), ('ai', '안녕, 김자윤! 만나서 반가워요. 어떻게 도와줄까요?'), ('human', '이번주 여행 스케줄 짜고싶어')]\n",
      "[('human', '안녕 나는 김자윤이야 ?'), ('ai', '안녕, 김자윤! 만나서 반가워요. 어떻게 도와줄까요?'), ('human', '이번주 여행 스케줄 짜고싶어'), ('ai', '좋아요, 김자윤님! 이번 주 여행 스케줄을 함께 짜볼게요. 어디로 여행 가실 예정인가요? 그리고 여행 기간, 선호하는 활동이나 장소, 예산 같은 정보도 알려주시면 더 도움이 될 것 같아요!')]\n"
     ]
    }
   ],
   "source": [
    "query = \"이번주 여행 스케줄 짜고싶어\"\n",
    "\n",
    "for event in graph.stream({\"messages\":query},config=config,stream_mode=\"values\"):\n",
    "    # messages = event[\"messages\"]\n",
    "    # print(len(messages))\n",
    "    print([(message.type, message.content) for message in event[\"messages\"]])"
   ]
  },
  {
   "cell_type": "code",
   "execution_count": 8,
   "id": "e06641b8",
   "metadata": {},
   "outputs": [
    {
     "name": "stdout",
     "output_type": "stream",
     "text": [
      "[('human', '안녕 나는 김자윤이야 ?'), ('ai', '안녕, 김자윤! 만나서 반가워요. 어떻게 도와줄까요?'), ('human', '이번주 여행 스케줄 짜고싶어'), ('ai', '좋아요, 김자윤님! 이번 주 여행 스케줄을 함께 짜볼게요. 어디로 여행 가실 예정인가요? 그리고 여행 기간, 선호하는 활동이나 장소, 예산 같은 정보도 알려주시면 더 도움이 될 것 같아요!'), ('human', '설악산으로 2박 3일 갈 예정이야')]\n",
      "[('human', '안녕 나는 김자윤이야 ?'), ('ai', '안녕, 김자윤! 만나서 반가워요. 어떻게 도와줄까요?'), ('human', '이번주 여행 스케줄 짜고싶어'), ('ai', '좋아요, 김자윤님! 이번 주 여행 스케줄을 함께 짜볼게요. 어디로 여행 가실 예정인가요? 그리고 여행 기간, 선호하는 활동이나 장소, 예산 같은 정보도 알려주시면 더 도움이 될 것 같아요!'), ('human', '설악산으로 2박 3일 갈 예정이야'), ('ai', '설악산 2박 3일 여행, 정말 멋지네요! 김자윤님께 맞는 스케줄을 제안해드릴게요.\\n\\n---\\n\\n### 1일차  \\n- **오전:** 출발 및 설악산 도착  \\n- **점심:** 속초 시내에서 간단히 식사 (예: 닭강정, 해물칼국수)  \\n- **오후:** 설악산 국립공원 입장 후 권금성 케이블카 타기  \\n- **저녁:** 숙소 체크인 및 휴식, 근처 맛집 탐방  \\n\\n### 2일차  \\n- **아침:** 일찍 출발, 대청봉 등반 (체력에 따라 코스 조절 가능)  \\n- **점심:** 산에서 간단한 도시락 또는 산장 식사  \\n- **오후:** 울산바위 트레킹 또는 비선대 산책  \\n- **저녁:** 숙소 복귀 후 온천이나 마사지로 피로 풀기  \\n\\n### 3일차  \\n- **아침:** 설악해변 산책 또는 속초 중앙시장 방문  \\n- **점심:** 속초에서 해산물 식사 (회, 생선구이 등)  \\n- **오후:** 귀가  \\n\\n---\\n\\n추가로 원하시는 활동이나 숙소 스타일, 이동 수단 알려주시면 더 맞춤형으로 도와드릴게요!')]\n"
     ]
    }
   ],
   "source": [
    "query = \"설악산으로 2박 3일 갈 예정이야\"\n",
    "\n",
    "for event in graph.stream({\"messages\":query},config=config,stream_mode=\"values\"):\n",
    "    # messages = event[\"messages\"]\n",
    "    # print(len(messages))\n",
    "    print([(message.type, message.content) for message in event[\"messages\"]])"
   ]
  },
  {
   "cell_type": "code",
   "execution_count": 9,
   "id": "15c543ad",
   "metadata": {},
   "outputs": [
    {
     "data": {
      "text/plain": [
       "{'messages': [HumanMessage(content='안녕 나는 김자윤이야 ?', additional_kwargs={}, response_metadata={}, id='4c153b01-4b17-454f-92f5-adaa7ffda707'),\n",
       "  AIMessage(content='안녕, 김자윤! 만나서 반가워요. 어떻게 도와줄까요?', additional_kwargs={'refusal': None}, response_metadata={'token_usage': {'completion_tokens': 20, 'prompt_tokens': 16, 'total_tokens': 36, 'completion_tokens_details': {'accepted_prediction_tokens': 0, 'audio_tokens': 0, 'reasoning_tokens': 0, 'rejected_prediction_tokens': 0}, 'prompt_tokens_details': {'audio_tokens': 0, 'cached_tokens': 0}}, 'model_name': 'gpt-4.1-mini-2025-04-14', 'system_fingerprint': 'fp_4fce0778af', 'id': 'chatcmpl-CIxVaNpwxqIeE4SNLD1YxxTez9T2x', 'service_tier': 'default', 'finish_reason': 'stop', 'logprobs': None}, id='run--6bf37c6f-4a44-4fb3-8335-f50031ab8c82-0', usage_metadata={'input_tokens': 16, 'output_tokens': 20, 'total_tokens': 36, 'input_token_details': {'audio': 0, 'cache_read': 0}, 'output_token_details': {'audio': 0, 'reasoning': 0}}),\n",
       "  HumanMessage(content='이번주 여행 스케줄 짜고싶어', additional_kwargs={}, response_metadata={}, id='7a42809b-c2c3-4034-977d-9a4232ed7a1a'),\n",
       "  AIMessage(content='좋아요, 김자윤님! 이번 주 여행 스케줄을 함께 짜볼게요. 어디로 여행 가실 예정인가요? 그리고 여행 기간, 선호하는 활동이나 장소, 예산 같은 정보도 알려주시면 더 도움이 될 것 같아요!', additional_kwargs={'refusal': None}, response_metadata={'token_usage': {'completion_tokens': 57, 'prompt_tokens': 55, 'total_tokens': 112, 'completion_tokens_details': {'accepted_prediction_tokens': 0, 'audio_tokens': 0, 'reasoning_tokens': 0, 'rejected_prediction_tokens': 0}, 'prompt_tokens_details': {'audio_tokens': 0, 'cached_tokens': 0}}, 'model_name': 'gpt-4.1-mini-2025-04-14', 'system_fingerprint': 'fp_4fce0778af', 'id': 'chatcmpl-CIxVb2EcAej4UCvwlAdA2yn34nW2w', 'service_tier': 'default', 'finish_reason': 'stop', 'logprobs': None}, id='run--3cd2fcf8-0a6e-4ab3-80fa-8bf2f7419630-0', usage_metadata={'input_tokens': 55, 'output_tokens': 57, 'total_tokens': 112, 'input_token_details': {'audio': 0, 'cache_read': 0}, 'output_token_details': {'audio': 0, 'reasoning': 0}}),\n",
       "  HumanMessage(content='설악산으로 2박 3일 갈 예정이야', additional_kwargs={}, response_metadata={}, id='dc7c238c-b5ae-4aaa-a6b1-1c8419bab36d'),\n",
       "  AIMessage(content='설악산 2박 3일 여행, 정말 멋지네요! 김자윤님께 맞는 스케줄을 제안해드릴게요.\\n\\n---\\n\\n### 1일차  \\n- **오전:** 출발 및 설악산 도착  \\n- **점심:** 속초 시내에서 간단히 식사 (예: 닭강정, 해물칼국수)  \\n- **오후:** 설악산 국립공원 입장 후 권금성 케이블카 타기  \\n- **저녁:** 숙소 체크인 및 휴식, 근처 맛집 탐방  \\n\\n### 2일차  \\n- **아침:** 일찍 출발, 대청봉 등반 (체력에 따라 코스 조절 가능)  \\n- **점심:** 산에서 간단한 도시락 또는 산장 식사  \\n- **오후:** 울산바위 트레킹 또는 비선대 산책  \\n- **저녁:** 숙소 복귀 후 온천이나 마사지로 피로 풀기  \\n\\n### 3일차  \\n- **아침:** 설악해변 산책 또는 속초 중앙시장 방문  \\n- **점심:** 속초에서 해산물 식사 (회, 생선구이 등)  \\n- **오후:** 귀가  \\n\\n---\\n\\n추가로 원하시는 활동이나 숙소 스타일, 이동 수단 알려주시면 더 맞춤형으로 도와드릴게요!', additional_kwargs={'refusal': None}, response_metadata={'token_usage': {'completion_tokens': 308, 'prompt_tokens': 134, 'total_tokens': 442, 'completion_tokens_details': {'accepted_prediction_tokens': 0, 'audio_tokens': 0, 'reasoning_tokens': 0, 'rejected_prediction_tokens': 0}, 'prompt_tokens_details': {'audio_tokens': 0, 'cached_tokens': 0}}, 'model_name': 'gpt-4.1-mini-2025-04-14', 'system_fingerprint': 'fp_6d7dcc9a98', 'id': 'chatcmpl-CIxVd4jDeGCKCmlQQ4HW5HPzkTfea', 'service_tier': 'default', 'finish_reason': 'stop', 'logprobs': None}, id='run--09790932-0ec1-4a05-83b5-6fa959eb6a36-0', usage_metadata={'input_tokens': 134, 'output_tokens': 308, 'total_tokens': 442, 'input_token_details': {'audio': 0, 'cache_read': 0}, 'output_token_details': {'audio': 0, 'reasoning': 0}})]}"
      ]
     },
     "execution_count": 9,
     "metadata": {},
     "output_type": "execute_result"
    }
   ],
   "source": [
    "values = graph.get_state(config).values\n",
    "values"
   ]
  },
  {
   "cell_type": "code",
   "execution_count": 10,
   "id": "322d36eb",
   "metadata": {},
   "outputs": [
    {
     "name": "stdout",
     "output_type": "stream",
     "text": [
      "[('human', '안녕 나는 김자윤이야 ?'), ('ai', '안녕, 김자윤! 만나서 반가워요. 어떻게 도와줄까요?'), ('human', '이번주 여행 스케줄 짜고싶어'), ('ai', '좋아요, 김자윤님! 이번 주 여행 스케줄을 함께 짜볼게요. 어디로 여행 가실 예정인가요? 그리고 여행 기간, 선호하는 활동이나 장소, 예산 같은 정보도 알려주시면 더 도움이 될 것 같아요!'), ('human', '설악산으로 2박 3일 갈 예정이야'), ('ai', '설악산 2박 3일 여행, 정말 멋지네요! 김자윤님께 맞는 스케줄을 제안해드릴게요.\\n\\n---\\n\\n### 1일차  \\n- **오전:** 출발 및 설악산 도착  \\n- **점심:** 속초 시내에서 간단히 식사 (예: 닭강정, 해물칼국수)  \\n- **오후:** 설악산 국립공원 입장 후 권금성 케이블카 타기  \\n- **저녁:** 숙소 체크인 및 휴식, 근처 맛집 탐방  \\n\\n### 2일차  \\n- **아침:** 일찍 출발, 대청봉 등반 (체력에 따라 코스 조절 가능)  \\n- **점심:** 산에서 간단한 도시락 또는 산장 식사  \\n- **오후:** 울산바위 트레킹 또는 비선대 산책  \\n- **저녁:** 숙소 복귀 후 온천이나 마사지로 피로 풀기  \\n\\n### 3일차  \\n- **아침:** 설악해변 산책 또는 속초 중앙시장 방문  \\n- **점심:** 속초에서 해산물 식사 (회, 생선구이 등)  \\n- **오후:** 귀가  \\n\\n---\\n\\n추가로 원하시는 활동이나 숙소 스타일, 이동 수단 알려주시면 더 맞춤형으로 도와드릴게요!'), ('human', '비가오면어떻해야해?')]\n",
      "[('human', '안녕 나는 김자윤이야 ?'), ('ai', '안녕, 김자윤! 만나서 반가워요. 어떻게 도와줄까요?'), ('human', '이번주 여행 스케줄 짜고싶어'), ('ai', '좋아요, 김자윤님! 이번 주 여행 스케줄을 함께 짜볼게요. 어디로 여행 가실 예정인가요? 그리고 여행 기간, 선호하는 활동이나 장소, 예산 같은 정보도 알려주시면 더 도움이 될 것 같아요!'), ('human', '설악산으로 2박 3일 갈 예정이야'), ('ai', '설악산 2박 3일 여행, 정말 멋지네요! 김자윤님께 맞는 스케줄을 제안해드릴게요.\\n\\n---\\n\\n### 1일차  \\n- **오전:** 출발 및 설악산 도착  \\n- **점심:** 속초 시내에서 간단히 식사 (예: 닭강정, 해물칼국수)  \\n- **오후:** 설악산 국립공원 입장 후 권금성 케이블카 타기  \\n- **저녁:** 숙소 체크인 및 휴식, 근처 맛집 탐방  \\n\\n### 2일차  \\n- **아침:** 일찍 출발, 대청봉 등반 (체력에 따라 코스 조절 가능)  \\n- **점심:** 산에서 간단한 도시락 또는 산장 식사  \\n- **오후:** 울산바위 트레킹 또는 비선대 산책  \\n- **저녁:** 숙소 복귀 후 온천이나 마사지로 피로 풀기  \\n\\n### 3일차  \\n- **아침:** 설악해변 산책 또는 속초 중앙시장 방문  \\n- **점심:** 속초에서 해산물 식사 (회, 생선구이 등)  \\n- **오후:** 귀가  \\n\\n---\\n\\n추가로 원하시는 활동이나 숙소 스타일, 이동 수단 알려주시면 더 맞춤형으로 도와드릴게요!'), ('human', '비가오면어떻해야해?'), ('ai', '비 오는 날에도 설악산 여행을 즐길 수 있도록 몇 가지 팁과 대안을 알려드릴게요!\\n\\n---\\n\\n### 비 오는 날 설악산 여행 팁\\n\\n1. **방수 장비 준비**  \\n   - 방수 자켓, 우산, 방수 신발 꼭 챙기세요.  \\n   - 배낭도 방수 커버로 보호하면 좋아요.\\n\\n2. **안전 우선!**  \\n   - 비가 많이 오면 산길이 미끄럽고 위험할 수 있으니 무리한 등산은 피하세요.  \\n   - 산행 전 기상 상황을 꼭 확인하세요.\\n\\n3. **대체 일정 추천**  \\n   - **설악 워터피아**: 속초에 있는 온천 테마파크로 비 오는 날 실내에서 즐기기 좋아요.  \\n   - **속초 중앙시장**: 다양한 해산물과 먹거리를 즐기며 시장 구경하기.  \\n   - **아바이마을 방문**: 속초의 전통 마을로 실내 카페나 식당에서 휴식 가능.  \\n   - **박물관, 갤러리 방문**: 속초 주변에 있는 박물관이나 갤러리 탐방.\\n\\n4. **숙소에서 휴식**  \\n   - 좋은 숙소를 예약했다면, 휴식과 함께 독서나 영화 감상 등 여유로운 시간을 보내는 것도 좋아요.\\n\\n---\\n\\n비 오는 날에도 안전하고 즐거운 여행 되시길 바랄게요! 필요하면 비 오는 날 맞춤 일정도 더 자세히 짜드릴 수 있어요.')]\n",
      "[('human', '비가오면어떻해야해?'), ('ai', '비 오는 날에도 설악산 여행을 즐길 수 있도록 몇 가지 팁과 대안을 알려드릴게요!\\n\\n---\\n\\n### 비 오는 날 설악산 여행 팁\\n\\n1. **방수 장비 준비**  \\n   - 방수 자켓, 우산, 방수 신발 꼭 챙기세요.  \\n   - 배낭도 방수 커버로 보호하면 좋아요.\\n\\n2. **안전 우선!**  \\n   - 비가 많이 오면 산길이 미끄럽고 위험할 수 있으니 무리한 등산은 피하세요.  \\n   - 산행 전 기상 상황을 꼭 확인하세요.\\n\\n3. **대체 일정 추천**  \\n   - **설악 워터피아**: 속초에 있는 온천 테마파크로 비 오는 날 실내에서 즐기기 좋아요.  \\n   - **속초 중앙시장**: 다양한 해산물과 먹거리를 즐기며 시장 구경하기.  \\n   - **아바이마을 방문**: 속초의 전통 마을로 실내 카페나 식당에서 휴식 가능.  \\n   - **박물관, 갤러리 방문**: 속초 주변에 있는 박물관이나 갤러리 탐방.\\n\\n4. **숙소에서 휴식**  \\n   - 좋은 숙소를 예약했다면, 휴식과 함께 독서나 영화 감상 등 여유로운 시간을 보내는 것도 좋아요.\\n\\n---\\n\\n비 오는 날에도 안전하고 즐거운 여행 되시길 바랄게요! 필요하면 비 오는 날 맞춤 일정도 더 자세히 짜드릴 수 있어요.')]\n"
     ]
    }
   ],
   "source": [
    "query = \"비가오면어떻해야해?\"\n",
    "\n",
    "for event in graph.stream({\"messages\":query},config=config,stream_mode=\"values\"):\n",
    "    # messages = event[\"messages\"]\n",
    "    # print(len(messages))\n",
    "    print([(message.type, message.content) for message in event[\"messages\"]])\n"
   ]
  },
  {
   "cell_type": "code",
   "execution_count": 11,
   "id": "dbf4a7ff",
   "metadata": {},
   "outputs": [
    {
     "data": {
      "text/plain": [
       "{'messages': [HumanMessage(content='비가오면어떻해야해?', additional_kwargs={}, response_metadata={}, id='cc9e4569-07f9-46a2-b0bc-f6bb3e9285ba'),\n",
       "  AIMessage(content='비 오는 날에도 설악산 여행을 즐길 수 있도록 몇 가지 팁과 대안을 알려드릴게요!\\n\\n---\\n\\n### 비 오는 날 설악산 여행 팁\\n\\n1. **방수 장비 준비**  \\n   - 방수 자켓, 우산, 방수 신발 꼭 챙기세요.  \\n   - 배낭도 방수 커버로 보호하면 좋아요.\\n\\n2. **안전 우선!**  \\n   - 비가 많이 오면 산길이 미끄럽고 위험할 수 있으니 무리한 등산은 피하세요.  \\n   - 산행 전 기상 상황을 꼭 확인하세요.\\n\\n3. **대체 일정 추천**  \\n   - **설악 워터피아**: 속초에 있는 온천 테마파크로 비 오는 날 실내에서 즐기기 좋아요.  \\n   - **속초 중앙시장**: 다양한 해산물과 먹거리를 즐기며 시장 구경하기.  \\n   - **아바이마을 방문**: 속초의 전통 마을로 실내 카페나 식당에서 휴식 가능.  \\n   - **박물관, 갤러리 방문**: 속초 주변에 있는 박물관이나 갤러리 탐방.\\n\\n4. **숙소에서 휴식**  \\n   - 좋은 숙소를 예약했다면, 휴식과 함께 독서나 영화 감상 등 여유로운 시간을 보내는 것도 좋아요.\\n\\n---\\n\\n비 오는 날에도 안전하고 즐거운 여행 되시길 바랄게요! 필요하면 비 오는 날 맞춤 일정도 더 자세히 짜드릴 수 있어요.', additional_kwargs={'refusal': None}, response_metadata={'token_usage': {'completion_tokens': 350, 'prompt_tokens': 460, 'total_tokens': 810, 'completion_tokens_details': {'accepted_prediction_tokens': 0, 'audio_tokens': 0, 'reasoning_tokens': 0, 'rejected_prediction_tokens': 0}, 'prompt_tokens_details': {'audio_tokens': 0, 'cached_tokens': 0}}, 'model_name': 'gpt-4.1-mini-2025-04-14', 'system_fingerprint': 'fp_6d7dcc9a98', 'id': 'chatcmpl-CIxVifYzLGL98vGiplXTXygj76ozD', 'service_tier': 'default', 'finish_reason': 'stop', 'logprobs': None}, id='run--689a2cd7-8594-4cb3-a7c4-64fe7ac4ac1b-0', usage_metadata={'input_tokens': 460, 'output_tokens': 350, 'total_tokens': 810, 'input_token_details': {'audio': 0, 'cache_read': 0}, 'output_token_details': {'audio': 0, 'reasoning': 0}})],\n",
       " 'summary': '사용자 김자윤님은 설악산으로 2박 3일 여행을 계획하고 있으며, 여행 스케줄을 요청했습니다. 이에 설악산 2박 3일 일정(권금성 케이블카, 대청봉 등반, 울산바위 트레킹, 속초 해산물 식사 등)을 제안해 드렸습니다. 이후 비가 올 경우 대처 방법과 대체 일정(설악 워터피아 온천, 속초 중앙시장, 아바이마을 방문 등)을 안내해 드렸습니다.'}"
      ]
     },
     "execution_count": 11,
     "metadata": {},
     "output_type": "execute_result"
    }
   ],
   "source": [
    "values = graph.get_state(config).values\n",
    "values"
   ]
  },
  {
   "cell_type": "code",
   "execution_count": 12,
   "id": "a42c9c6e",
   "metadata": {},
   "outputs": [
    {
     "data": {
      "text/plain": [
       "[HumanMessage(content='비가오면어떻해야해?', additional_kwargs={}, response_metadata={}, id='cc9e4569-07f9-46a2-b0bc-f6bb3e9285ba'),\n",
       " AIMessage(content='비 오는 날에도 설악산 여행을 즐길 수 있도록 몇 가지 팁과 대안을 알려드릴게요!\\n\\n---\\n\\n### 비 오는 날 설악산 여행 팁\\n\\n1. **방수 장비 준비**  \\n   - 방수 자켓, 우산, 방수 신발 꼭 챙기세요.  \\n   - 배낭도 방수 커버로 보호하면 좋아요.\\n\\n2. **안전 우선!**  \\n   - 비가 많이 오면 산길이 미끄럽고 위험할 수 있으니 무리한 등산은 피하세요.  \\n   - 산행 전 기상 상황을 꼭 확인하세요.\\n\\n3. **대체 일정 추천**  \\n   - **설악 워터피아**: 속초에 있는 온천 테마파크로 비 오는 날 실내에서 즐기기 좋아요.  \\n   - **속초 중앙시장**: 다양한 해산물과 먹거리를 즐기며 시장 구경하기.  \\n   - **아바이마을 방문**: 속초의 전통 마을로 실내 카페나 식당에서 휴식 가능.  \\n   - **박물관, 갤러리 방문**: 속초 주변에 있는 박물관이나 갤러리 탐방.\\n\\n4. **숙소에서 휴식**  \\n   - 좋은 숙소를 예약했다면, 휴식과 함께 독서나 영화 감상 등 여유로운 시간을 보내는 것도 좋아요.\\n\\n---\\n\\n비 오는 날에도 안전하고 즐거운 여행 되시길 바랄게요! 필요하면 비 오는 날 맞춤 일정도 더 자세히 짜드릴 수 있어요.', additional_kwargs={'refusal': None}, response_metadata={'token_usage': {'completion_tokens': 350, 'prompt_tokens': 460, 'total_tokens': 810, 'completion_tokens_details': {'accepted_prediction_tokens': 0, 'audio_tokens': 0, 'reasoning_tokens': 0, 'rejected_prediction_tokens': 0}, 'prompt_tokens_details': {'audio_tokens': 0, 'cached_tokens': 0}}, 'model_name': 'gpt-4.1-mini-2025-04-14', 'system_fingerprint': 'fp_6d7dcc9a98', 'id': 'chatcmpl-CIxVifYzLGL98vGiplXTXygj76ozD', 'service_tier': 'default', 'finish_reason': 'stop', 'logprobs': None}, id='run--689a2cd7-8594-4cb3-a7c4-64fe7ac4ac1b-0', usage_metadata={'input_tokens': 460, 'output_tokens': 350, 'total_tokens': 810, 'input_token_details': {'audio': 0, 'cache_read': 0}, 'output_token_details': {'audio': 0, 'reasoning': 0}})]"
      ]
     },
     "execution_count": 12,
     "metadata": {},
     "output_type": "execute_result"
    }
   ],
   "source": [
    "messages = values[\"messages\"]\n",
    "messages"
   ]
  },
  {
   "cell_type": "code",
   "execution_count": 13,
   "id": "d01612c4",
   "metadata": {},
   "outputs": [
    {
     "data": {
      "text/plain": [
       "'사용자 김자윤님은 설악산으로 2박 3일 여행을 계획하고 있으며, 여행 스케줄을 요청했습니다. 이에 설악산 2박 3일 일정(권금성 케이블카, 대청봉 등반, 울산바위 트레킹, 속초 해산물 식사 등)을 제안해 드렸습니다. 이후 비가 올 경우 대처 방법과 대체 일정(설악 워터피아 온천, 속초 중앙시장, 아바이마을 방문 등)을 안내해 드렸습니다.'"
      ]
     },
     "execution_count": 13,
     "metadata": {},
     "output_type": "execute_result"
    }
   ],
   "source": [
    "summary = values[\"summary\"]\n",
    "summary"
   ]
  }
 ],
 "metadata": {
  "kernelspec": {
   "display_name": "langchain-kr-EGILWU2T-py3.11",
   "language": "python",
   "name": "python3"
  },
  "language_info": {
   "codemirror_mode": {
    "name": "ipython",
    "version": 3
   },
   "file_extension": ".py",
   "mimetype": "text/x-python",
   "name": "python",
   "nbconvert_exporter": "python",
   "pygments_lexer": "ipython3",
   "version": "3.11.11"
  }
 },
 "nbformat": 4,
 "nbformat_minor": 5
}
