{
 "cells": [
  {
   "cell_type": "code",
   "execution_count": null,
   "id": "656d2293",
   "metadata": {},
   "outputs": [],
   "source": [
    "from langchain_openai import ChatOpenAI\n",
    "from typing import Annotated,TypedDict\n",
    "from langgraph.graph.message import add_messages\n",
    "from langchain_teddynote.tools.tavily import TavilySearch\n",
    "from langgraph.prebuilt import ToolNode, tools_condition\n",
    "from langgraph.graph import StateGraph,START,END\n",
    "from langgraph.checkpoint.memory import MemorySaver\n",
    "\n",
    "from langchain.text_splitter import RecursiveCharacterTextSplitter\n",
    "from langchain_community.vectorstores import FAISS\n",
    "from langchain_openai import OpenAIEmbeddings\n",
    "from langchain.document_loaders import PyPDFLoader\n",
    "from langchain.tools.retriever import create_retriever_tool\n"
   ]
  },
  {
   "cell_type": "code",
   "execution_count": null,
   "id": "e351a968",
   "metadata": {},
   "outputs": [],
   "source": [
    "\n",
    "class State(TypedDict):\n",
    "    messages:Annotated[list,add_messages]\n"
   ]
  },
  {
   "cell_type": "code",
   "execution_count": null,
   "id": "00f81ae6",
   "metadata": {},
   "outputs": [],
   "source": [
    "# PDF 파일 로드. 파일의 경로 입력\n",
    "loader = PyPDFLoader(\"../data/SPRI_AI_Brief_2023년12월호_F.pdf\")\n",
    "\n",
    "# 텍스트 분할기를 사용하여 문서를 분할합니다.\n",
    "text_splitter = RecursiveCharacterTextSplitter(chunk_size=1000, chunk_overlap=100)\n",
    "\n",
    "# 문서를 로드하고 분할합니다.\n",
    "split_docs = loader.load_and_split(text_splitter)\n",
    "\n",
    "# VectorStore를 생성합니다.\n",
    "vector = FAISS.from_documents(split_docs, OpenAIEmbeddings())\n",
    "\n",
    "# Retriever를 생성합니다.\n",
    "retriever = vector.as_retriever()\n",
    "\n",
    "retriever_tool = create_retriever_tool(\n",
    "    retriever,\n",
    "    name=\"pdf_search\",  # 도구의 이름을 입력합니다.\n",
    "    description=\"use this tool to search information from the PDF document\",  # 도구에 대한 설명을 자세히 기입해야 합니다!!\n",
    ")"
   ]
  },
  {
   "cell_type": "code",
   "execution_count": null,
   "id": "714e86bd",
   "metadata": {},
   "outputs": [],
   "source": [
    "\n",
    "search_tool = TavilySearch()\n",
    "\n",
    "tools = [search_tool,retriever_tool]\n",
    "\n",
    "tool_node = ToolNode(tools)\n",
    "\n",
    "llm = ChatOpenAI(model='gpt-4.1-mini',temperature=0)\n",
    "\n",
    "llm_with_bind = llm.bind_tools(tools)\n",
    "\n",
    "def chatbot(state:State):\n",
    "    action = llm_with_bind.invoke(state['messages'])\n",
    "    print(action)\n",
    "    return State({'messages':[action]})\n",
    "\n",
    "state_graph = StateGraph(State)\n",
    "\n",
    "state_graph.add_node('chatbot',chatbot)\n",
    "state_graph.add_node('tools',tool_node)\n",
    "\n",
    "state_graph.add_edge(START,'chatbot')\n",
    "state_graph.add_conditional_edges(\n",
    "    source='chatbot',\n",
    "    path=tools_condition\n",
    ")\n",
    "state_graph.add_edge('tools','chatbot')\n",
    "state_graph.add_edge('chatbot',END)\n",
    "graph = state_graph.compile()\n"
   ]
  },
  {
   "cell_type": "code",
   "execution_count": null,
   "id": "75e950fa",
   "metadata": {},
   "outputs": [],
   "source": [
    "# 메모리 저장소 생성\n",
    "graph = state_graph.compile(checkpointer=MemorySaver())"
   ]
  },
  {
   "cell_type": "code",
   "execution_count": null,
   "id": "18d8d733",
   "metadata": {},
   "outputs": [],
   "source": [
    "from langchain_teddynote.graphs import visualize_graph\n",
    "\n",
    "# 그래프 시각화\n",
    "visualize_graph(graph)"
   ]
  },
  {
   "cell_type": "code",
   "execution_count": null,
   "id": "9c49bbe8",
   "metadata": {},
   "outputs": [],
   "source": [
    "from langchain_core.runnables import RunnableConfig\n",
    "\n",
    "config = RunnableConfig(\n",
    "    recursion_limit=10,  # 최대 10개의 노드까지 방문. 그 이상은 RecursionError 발생\n",
    "    configurable={\"thread_id\": \"1\"},  # 스레드 ID 설정\n",
    ")"
   ]
  },
  {
   "cell_type": "code",
   "execution_count": null,
   "id": "80e65f08",
   "metadata": {},
   "outputs": [],
   "source": [
    "query = \"2025년 하반기 행사\"\n",
    "for event in graph.stream({\"messages\": [(\"user\", query)]}, config=config):\n",
    "    for value in event.values():\n",
    "        value[\"messages\"][-1].pretty_print()"
   ]
  },
  {
   "cell_type": "code",
   "execution_count": null,
   "id": "ee52d7d0",
   "metadata": {},
   "outputs": [],
   "source": [
    "query = \"내부 문서중 삼성 AI 모델 정보\"\n",
    "for event in graph.stream({\"messages\": [(\"user\", query)]}, config=config):\n",
    "    for value in event.values():\n",
    "        value[\"messages\"][-1].pretty_print()"
   ]
  },
  {
   "cell_type": "code",
   "execution_count": null,
   "id": "9b92b10a",
   "metadata": {},
   "outputs": [],
   "source": [
    "query = \"안녕/\"\n",
    "for event in graph.stream({\"messages\": [(\"user\", query)]}, config=config):\n",
    "    for value in event.values():\n",
    "        value[\"messages\"][-1].pretty_print()"
   ]
  },
  {
   "cell_type": "code",
   "execution_count": null,
   "id": "1235bc5d",
   "metadata": {},
   "outputs": [],
   "source": [
    "snapshot = graph.get_state(config)\n",
    "snapshot.values"
   ]
  }
 ],
 "metadata": {
  "kernelspec": {
   "display_name": "langchain-kr-EGILWU2T-py3.11",
   "language": "python",
   "name": "python3"
  },
  "language_info": {
   "codemirror_mode": {
    "name": "ipython",
    "version": 3
   },
   "file_extension": ".py",
   "mimetype": "text/x-python",
   "name": "python",
   "nbconvert_exporter": "python",
   "pygments_lexer": "ipython3",
   "version": "3.11.11"
  }
 },
 "nbformat": 4,
 "nbformat_minor": 5
}
