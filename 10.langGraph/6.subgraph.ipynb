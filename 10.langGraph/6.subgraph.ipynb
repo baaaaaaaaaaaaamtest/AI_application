{
 "cells": [
  {
   "cell_type": "code",
   "execution_count": null,
   "id": "f29eaff8",
   "metadata": {},
   "outputs": [],
   "source": [
    "from typing import Annotated,Literal\n",
    "from typing_extensions import TypedDict\n",
    "from langchain_openai import ChatOpenAI\n",
    "from langgraph.graph.message import add_messages\n",
    "from langchain_teddynote.tools.tavily import TavilySearch\n",
    "from langgraph.prebuilt import ToolNode, tools_condition\n",
    "from langgraph.graph import StateGraph, START, END\n",
    "from langgraph.checkpoint.memory import MemorySaver\n",
    "from langchain_core.messages import SystemMessage, RemoveMessage, HumanMessage\n"
   ]
  },
  {
   "cell_type": "code",
   "execution_count": null,
   "id": "106d9bb2",
   "metadata": {},
   "outputs": [],
   "source": [
    "# API 키를 환경변수로 관리하기 위한 설정 파일\n",
    "from dotenv import load_dotenv\n",
    "\n",
    "# API 키 정보 로드\n",
    "load_dotenv()\n"
   ]
  },
  {
   "cell_type": "code",
   "execution_count": null,
   "id": "977584e6",
   "metadata": {},
   "outputs": [],
   "source": [
    "# LangSmith 추적을 설정합니다. https://smith.langchain.com\n",
    "# !pip install -qU langchain-teddynote\n",
    "from langchain_teddynote import logging\n",
    "\n",
    "# 프로젝트 이름을 입력합니다.\n",
    "logging.langsmith(\"CH17-LangGraph-Modules\")"
   ]
  },
  {
   "cell_type": "code",
   "execution_count": null,
   "id": "7bf6b4a6",
   "metadata": {},
   "outputs": [],
   "source": [
    "class SubState(TypedDict):\n",
    "    name : str\n",
    "    family_name : str\n",
    "\n",
    "def subgraph_node_1(state:SubState):\n",
    "    return SubState({\"family_name\":\"LEE\"})\n",
    "\n",
    "def subgraph_node_2(state:SubState):\n",
    "    return SubState({\"name\":f\"{state['name']} {state['family_name']}\"})\n",
    "\n",
    "\n",
    "state_graph = StateGraph(SubState)\n",
    "state_graph.add_node('sub1',subgraph_node_1)\n",
    "state_graph.add_node('sub2',subgraph_node_2)\n",
    "state_graph.add_edge(START, \"sub1\")\n",
    "state_graph.add_edge(\"sub1\", \"sub2\")\n",
    "state_graph.add_edge(\"sub2\",END)\n",
    "subgraph = state_graph.compile()\n",
    "from langchain_teddynote.graphs import visualize_graph\n",
    "\n",
    "visualize_graph(subgraph, xray=True)"
   ]
  },
  {
   "cell_type": "code",
   "execution_count": null,
   "id": "6a9bd3bb",
   "metadata": {},
   "outputs": [],
   "source": [
    "class priState(TypedDict):\n",
    "    name : str\n",
    "\n",
    "def primary_node_1(state:priState):\n",
    "    return priState({\"name\":f\"My name is {state['name']}\"})\n",
    "\n",
    "\n",
    "\n",
    "\n",
    "\n",
    "state_graph = StateGraph(priState)\n",
    "state_graph.add_node('pri1',primary_node_1)\n",
    "state_graph.add_node('pri2',subgraph)\n",
    "state_graph.add_edge(START, \"pri1\")\n",
    "state_graph.add_edge(\"pri1\", \"pri2\")\n",
    "state_graph.add_edge(\"pri2\",END)\n",
    "prigraph = state_graph.compile()\n",
    "from langchain_teddynote.graphs import visualize_graph\n",
    "\n",
    "visualize_graph(prigraph, xray=True)"
   ]
  },
  {
   "cell_type": "code",
   "execution_count": 18,
   "id": "389850c8",
   "metadata": {},
   "outputs": [
    {
     "name": "stdout",
     "output_type": "stream",
     "text": [
      "((), {'pri1': {'name': 'My name is Teddy'}})\n",
      "(('pri2:d91c6802-79b1-824c-0917-1ff939548746',), {'sub1': {'family_name': 'LEE'}})\n",
      "(('pri2:d91c6802-79b1-824c-0917-1ff939548746',), {'sub2': {'name': 'My name is Teddy LEE'}})\n",
      "((), {'pri2': {'name': 'My name is Teddy LEE'}})\n"
     ]
    }
   ],
   "source": [
    "# 그래프 스트리밍 처리를 통한 서브그래프 데이터 청크 단위 순차 출력\n",
    "# subgraphs 파라미터를 True로 설정하여 하위 그래프 포함 스트리밍 처리\n",
    "for chunk in prigraph.stream({\"name\": \"Teddy\"}, subgraphs=True):\n",
    "    print(chunk)"
   ]
  }
 ],
 "metadata": {
  "kernelspec": {
   "display_name": "langchain-kr-EGILWU2T-py3.11",
   "language": "python",
   "name": "python3"
  },
  "language_info": {
   "codemirror_mode": {
    "name": "ipython",
    "version": 3
   },
   "file_extension": ".py",
   "mimetype": "text/x-python",
   "name": "python",
   "nbconvert_exporter": "python",
   "pygments_lexer": "ipython3",
   "version": "3.11.11"
  }
 },
 "nbformat": 4,
 "nbformat_minor": 5
}
