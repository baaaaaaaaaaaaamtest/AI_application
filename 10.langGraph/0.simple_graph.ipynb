{
 "cells": [
  {
   "cell_type": "code",
   "execution_count": 1,
   "id": "cec4d87f",
   "metadata": {},
   "outputs": [],
   "source": [
    "from langgraph.graph import StateGraph, START, END\n",
    "from typing import Annotated, TypedDict\n",
    "from langgraph.graph.message import add_messages\n",
    "from langchain_openai import ChatOpenAI\n",
    "from langchain_teddynote.graphs import visualize_graph"
   ]
  },
  {
   "cell_type": "code",
   "execution_count": 7,
   "id": "2c76f468",
   "metadata": {},
   "outputs": [],
   "source": [
    "class State(TypedDict):\n",
    "    input : Annotated[str,'query message']\n",
    "    context : Annotated[list,add_messages]\n",
    "    answer : Annotated[str,'result message']\n",
    "    step : Annotated[str,'current step']\n",
    "    is_evaluation : Annotated[bool,'current step']\n"
   ]
  },
  {
   "cell_type": "code",
   "execution_count": 8,
   "id": "6d75c7df",
   "metadata": {},
   "outputs": [],
   "source": [
    "llm = ChatOpenAI(model='gpt-4o-mini',temperature=0)"
   ]
  },
  {
   "cell_type": "code",
   "execution_count": 9,
   "id": "e07bce6c",
   "metadata": {},
   "outputs": [],
   "source": [
    "\n",
    "def retriever(state : State):\n",
    "    result = State({\n",
    "        \"context\":\"12313123\",\n",
    "        \"input\":state[\"input\"],\n",
    "        \"step\":\"retriever\"\n",
    "        })\n",
    "    return result\n",
    "\n",
    "def is_evaluation(state : State):\n",
    "    state['step']='is_evaluation'\n",
    "    is_bool= False\n",
    "    if is_bool:\n",
    "        state['is_evaluation']=True\n",
    "    else:\n",
    "        state['is_evaluation']=False\n",
    "    return state"
   ]
  },
  {
   "cell_type": "code",
   "execution_count": 10,
   "id": "265bb4c9",
   "metadata": {},
   "outputs": [
    {
     "name": "stdout",
     "output_type": "stream",
     "text": [
      "---\n",
      "config:\n",
      "  flowchart:\n",
      "    curve: linear\n",
      "---\n",
      "graph TD;\n",
      "\t__start__([<p>__start__</p>]):::first\n",
      "\tretriever(retriever)\n",
      "\tis_evaluation(is_evaluation)\n",
      "\t__end__([<p>__end__</p>]):::last\n",
      "\t__start__ --> retriever;\n",
      "\tretriever --> is_evaluation;\n",
      "\tis_evaluation --> __end__;\n",
      "\tclassDef default fill:#f2f0ff,line-height:1.2\n",
      "\tclassDef first fill-opacity:0\n",
      "\tclassDef last fill:#bfb6fc\n",
      "\n"
     ]
    }
   ],
   "source": [
    "state_graph = StateGraph(State)\n",
    "\n",
    "state_graph.add_node('retriever',retriever)\n",
    "\n",
    "state_graph.add_node('is_evaluation',is_evaluation)\n",
    "\n",
    "state_graph.add_edge(START,'retriever')\n",
    "\n",
    "state_graph.add_edge('retriever','is_evaluation')\n",
    "\n",
    "state_graph.add_edge('is_evaluation',END)\n",
    "\n",
    "graph = state_graph.compile()\n",
    "\n",
    "mermaid_code = graph.get_graph().draw_mermaid()\n",
    "print(mermaid_code)"
   ]
  },
  {
   "cell_type": "code",
   "execution_count": 11,
   "id": "5bd6aea1",
   "metadata": {},
   "outputs": [
    {
     "name": "stdout",
     "output_type": "stream",
     "text": [
      "==============================\n",
      "{'context': '12313123', 'input': [('user', '서울의 유명한 맛집 TOP 10 추천해줘')], 'step': 'retriever'}\n",
      "==============================\n",
      "{'input': [('user', '서울의 유명한 맛집 TOP 10 추천해줘')], 'context': [HumanMessage(content='12313123', additional_kwargs={}, response_metadata={}, id='2307691f-0e79-419c-bf50-e6f07a832b20')], 'step': 'is_evaluation', 'is_evaluation': False}\n"
     ]
    }
   ],
   "source": [
    "###### STEP 7. 그래프 실행 ######\n",
    "question = \"서울의 유명한 맛집 TOP 10 추천해줘\"\n",
    "\n",
    "for event in graph.stream({\"input\": [(\"user\", question)]}):\n",
    "    # 이벤트 값 출력\n",
    "    for value in event.values():\n",
    "        print(\"=\"*30)\n",
    "        print(value)\n",
    "        # print(value[\"input\"][-1].content)"
   ]
  },
  {
   "cell_type": "code",
   "execution_count": null,
   "id": "5d0dc976",
   "metadata": {},
   "outputs": [],
   "source": []
  }
 ],
 "metadata": {
  "kernelspec": {
   "display_name": "langchain-kr-EGILWU2T-py3.11",
   "language": "python",
   "name": "python3"
  },
  "language_info": {
   "codemirror_mode": {
    "name": "ipython",
    "version": 3
   },
   "file_extension": ".py",
   "mimetype": "text/x-python",
   "name": "python",
   "nbconvert_exporter": "python",
   "pygments_lexer": "ipython3",
   "version": "3.11.11"
  }
 },
 "nbformat": 4,
 "nbformat_minor": 5
}
