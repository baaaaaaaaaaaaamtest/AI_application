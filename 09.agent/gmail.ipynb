{
 "cells": [
  {
   "cell_type": "code",
   "execution_count": 1,
   "id": "50bce21e",
   "metadata": {},
   "outputs": [
    {
     "name": "stderr",
     "output_type": "stream",
     "text": [
      "USER_AGENT environment variable not set, consider setting it to identify your requests.\n"
     ]
    }
   ],
   "source": [
    "import sys\n",
    "import os\n",
    "sys.path.append(os.path.abspath(os.path.join(os.path.dirname('get_naver_news'), '..')))\n",
    "from module.get_mcp_client import get_mcp_client\n",
    "import json"
   ]
  },
  {
   "cell_type": "code",
   "execution_count": 2,
   "id": "9d7a7b7c",
   "metadata": {},
   "outputs": [],
   "source": [
    "\n",
    "client = get_mcp_client()\n",
    "# tools = await client.get_tools(server_name=\"gmail\")\n"
   ]
  },
  {
   "cell_type": "code",
   "execution_count": 3,
   "id": "d1222021",
   "metadata": {},
   "outputs": [],
   "source": [
    "tools = await client.get_tools(server_name=\"gmail-mcp\")"
   ]
  },
  {
   "cell_type": "code",
   "execution_count": null,
   "id": "1ebe7166",
   "metadata": {},
   "outputs": [],
   "source": [
    "print(tools[3])"
   ]
  },
  {
   "cell_type": "code",
   "execution_count": 4,
   "id": "acb313ee",
   "metadata": {},
   "outputs": [],
   "source": [
    "tool = next(tool for tool in tools if tool.name == \"list_messages\")\n"
   ]
  },
  {
   "cell_type": "code",
   "execution_count": 5,
   "id": "92de1fd5",
   "metadata": {},
   "outputs": [],
   "source": [
    "response = await tool.ainvoke({\n",
    "    \"user_id\":'me',\n",
    "    \"maxResults\": 3,\n",
    "})\n"
   ]
  },
  {
   "cell_type": "code",
   "execution_count": 6,
   "id": "43e4e84e",
   "metadata": {},
   "outputs": [
    {
     "name": "stdout",
     "output_type": "stream",
     "text": [
      "Response for 19970de057d13838: data json.loads(response) # JSON 문자열을 dict로 변환 messages data[&#39;messages&#39;] tool next(tool for tool in tools if tool.name &quot;get_message&quot;) # print(tool) async def invoke_messages(tool,\n",
      "Response for 19970a6aafddf607: data json.loads(response) # JSON 문자열을 dict로 변환 messages data[&#39;messages&#39;] tool next(tool for tool in tools if tool.name &quot;get_message&quot;) # print(tool) async def invoke_messages(tool,\n",
      "Response for 19970a64d6da1719: data json.loads(response) # JSON 문자열을 dict로 변환 messages data[&#39;messages&#39;] tool next(tool for tool in tools if tool.name &quot;get_message&quot;) # print(tool) async def invoke_messages(tool,\n"
     ]
    }
   ],
   "source": [
    "data = json.loads(response)  # JSON 문자열을 dict로 변환\n",
    "messages = data['messages']\n",
    "tool = next(tool for tool in tools if tool.name == \"get_message\")\n",
    "# print(tool)\n",
    "\n",
    "async def invoke_messages(tool, messages):\n",
    "    for msg in messages:\n",
    "        msg_id = msg['id']\n",
    "        result = await tool.ainvoke({'id':msg_id})\n",
    "        data = json.loads(result)  # JSON 문자열을 dict로 변환\n",
    "        print(f\"Response for {msg_id}: {data['snippet']}\")\n",
    "\n",
    "\n",
    "await invoke_messages(tool,messages)\n"
   ]
  },
  {
   "cell_type": "code",
   "execution_count": 7,
   "id": "57d75fb1",
   "metadata": {},
   "outputs": [
    {
     "name": "stdout",
     "output_type": "stream",
     "text": [
      "메일이 성공적으로 전송되었습니다.\n"
     ]
    }
   ],
   "source": [
    "from email.header import Header\n",
    "# 제목에 한글 포함\n",
    "subject = \"코드 예시 전달\"\n",
    "\n",
    "# 제목을 MIME Header로 인코딩 (utf-8, base64 방식)\n",
    "encoded_subject = Header(subject, 'utf-8').encode()\n",
    "\n",
    "body = \"\"\"\n",
    "data = json.loads(response)  # JSON 문자열을 dict로 변환\n",
    "messages = data['messages']\n",
    "tool = next(tool for tool in tools if tool.name == \"get_message\")\n",
    "# print(tool)\n",
    "\n",
    "async def invoke_messages(tool, messages):\n",
    "    for msg in messages:\n",
    "        msg_id = msg['id']\n",
    "        result = await tool.ainvoke({'id':msg_id})\n",
    "        data = json.loads(result)  # JSON 문자열을 dict로 변환\n",
    "        print(f\"Response for {msg_id}: {data['snippet']}\")\n",
    "\n",
    "await invoke_messages(tool,messages)\n",
    "\"\"\"\n",
    "\n",
    "tool = next(tool for tool in tools if tool.name == \"send_message\")\n",
    "\n",
    "response = await tool.ainvoke({\n",
    "    \"to\":[\"ansgyqja@naver.com\"],\n",
    "    \"subject\":encoded_subject,\n",
    "    \"body\":body,\n",
    "})\n",
    "\n",
    "print(\"메일이 성공적으로 전송되었습니다.\")"
   ]
  },
  {
   "cell_type": "code",
   "execution_count": null,
   "id": "088a9ac5",
   "metadata": {},
   "outputs": [],
   "source": []
  }
 ],
 "metadata": {
  "kernelspec": {
   "display_name": "langchain-kr-EGILWU2T-py3.11",
   "language": "python",
   "name": "python3"
  },
  "language_info": {
   "codemirror_mode": {
    "name": "ipython",
    "version": 3
   },
   "file_extension": ".py",
   "mimetype": "text/x-python",
   "name": "python",
   "nbconvert_exporter": "python",
   "pygments_lexer": "ipython3",
   "version": "3.11.11"
  }
 },
 "nbformat": 4,
 "nbformat_minor": 5
}
