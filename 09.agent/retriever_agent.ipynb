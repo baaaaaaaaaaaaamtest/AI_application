{
 "cells": [
  {
   "cell_type": "code",
   "execution_count": 1,
   "id": "ba855f7f",
   "metadata": {},
   "outputs": [
    {
     "data": {
      "text/plain": [
       "True"
      ]
     },
     "execution_count": 1,
     "metadata": {},
     "output_type": "execute_result"
    }
   ],
   "source": [
    "# API 키를 환경변수로 관리하기 위한 설정 파일\n",
    "from dotenv import load_dotenv\n",
    "\n",
    "# API 키 정보 로드\n",
    "load_dotenv()"
   ]
  },
  {
   "cell_type": "code",
   "execution_count": 2,
   "id": "a86bfa91",
   "metadata": {},
   "outputs": [
    {
     "name": "stdout",
     "output_type": "stream",
     "text": [
      "LangSmith 추적을 시작합니다.\n",
      "[프로젝트명]\n",
      "CH15-Agentic-RAG\n"
     ]
    }
   ],
   "source": [
    "# LangSmith 추적을 설정합니다. https://smith.langchain.com\n",
    "# !pip install -qU langchain-teddynote\n",
    "from langchain_teddynote import logging\n",
    "\n",
    "# 프로젝트 이름을 입력합니다.\n",
    "logging.langsmith(\"CH15-Agentic-RAG\")"
   ]
  },
  {
   "cell_type": "code",
   "execution_count": 3,
   "id": "a8eb001d",
   "metadata": {},
   "outputs": [
    {
     "name": "stderr",
     "output_type": "stream",
     "text": [
      "/tmp/ipykernel_51975/2001628515.py:6: LangChainDeprecationWarning: The class `TavilySearchResults` was deprecated in LangChain 0.3.25 and will be removed in 1.0. An updated version of the class exists in the :class:`~langchain-tavily package and should be used instead. To use it run `pip install -U :class:`~langchain-tavily` and import as `from :class:`~langchain_tavily import TavilySearch``.\n",
      "  search = TavilySearchResults(k=6)\n"
     ]
    }
   ],
   "source": [
    "# TavilySearchResults 클래스를 langchain_community.tools.tavily_search 모듈에서 가져옵니다.\n",
    "from langchain_community.tools.tavily_search import TavilySearchResults\n",
    "\n",
    "# TavilySearchResults 클래스의 인스턴스를 생성합니다\n",
    "# k=6은 검색 결과를 6개까지 가져오겠다는 의미입니다\n",
    "search = TavilySearchResults(k=6)"
   ]
  },
  {
   "cell_type": "code",
   "execution_count": 4,
   "id": "fd0afc70",
   "metadata": {},
   "outputs": [
    {
     "data": {
      "text/plain": [
       "[{'title': '분당 카카오프렌즈 판교 아지트 주차정보 카카오 캐릭터 굿즈샵',\n",
       "  'url': 'https://blog.naver.com/dayslog/223559550059',\n",
       "  'content': '오늘은 어, 분당 판교다! \\u200b. 카카오프렌즈 판교아지트점. 경기도 성남시 분당구 판교역로 166 카카오판교아지트 1층 카카오프렌즈. 저장. 전화. 이 블로그',\n",
       "  'score': 0.86024034},\n",
       " {'title': '[판교] 카카오 본사에 있는 카카오프렌즈샵 구경 : 네이버 블로그',\n",
       "  'url': 'https://blog.naver.com/kimsso333/223186761448',\n",
       "  'content': '... 카카오프렌즈샵을 소개해드려요! \\u200b. \\u200b. \\u200b. 판교 카카오프렌즈샵 ... 아지트점. 경기도 성남시 분당구 판교역로 166 카카오판교아지트 1층 카카오프렌즈.',\n",
       "  'score': 0.8524574},\n",
       " {'title': '리테일매거진 [라이프스타일숍] 카카오프렌즈 판교아지트점',\n",
       "  'url': 'https://www.retailing.co.kr/article/a_view.php?art_idx=4697',\n",
       "  'content': '회사명 : 코카리테일인사이트\\n   대표 : 허영재\\n   주소 : 서울시 마포구 서강로 60 유니세프빌딩 8층\\n   tel : 02-522-1271~4\\n   fax : 02-522-1275\\n   E-mail : kocarm@naver.com\\n   사업자 등록번호 : 486-81-00770\\n   통신판매업신고번호 : 서울마포 제3484호\\n   Copyright © RETAIL MAGAZINE All Rights Reserved.\\n\\nDesign by HIHOMPY [...] 리테일매거진;)\\n       매거진 기사 PDF;)\\n       유통 전문도서;)\\n       보고서 & 통계자료;)\\n       데이터;)\\n\\n   ##### event\\n\\n       교육;)\\n       세미나;)\\n       전시;)\\n\\n### 검색\\n\\n홈  special  커버스토리\\n\\n   [라이프스타일숍] 카카오프렌즈 판교아지트점\\n   전문점 2023년 1월호\\n\\n\\n   광고문의)\\n   이용약관)\\n   개인정보취급방침)\\n   이메일 집단수집거부)\\n   사이트맵\\n   고객센터 [...] 글로벌\\n       미국;)\\n       영국;)\\n       프랑스;)\\n       독일;)\\n       일본;)\\n       중국;)\\n\\n   머천다이징\\n       시장동향;)\\n       신제품;)\\n\\n   실무\\n       필드스터디;)\\n       스토어 가이드;)\\n\\n   shop & data\\n\\n       리테일매거진;)\\n\\n       매거진 기사 PDF;)\\n\\n       유통 전문도서;)\\n\\n       보고서 & 통계자료;)\\n\\n       데이터;)\\n\\n   event\\n\\n       교육;)\\n\\n       세미나;)\\n\\n       전시;)\\n\\n로그인장바구니회원가입ID/PW찾기\\n\\nsearch\\n\\n\\n       스페셜리포트;)\\n       비즈인사이트;)\\n\\n   스토어\\n       대형마트;)\\n       백화점;)\\n       슈퍼마켓;)\\n       편의점;)\\n       전문점;)\\n       복합몰/아울렛;)',\n",
       "  'score': 0.7942736},\n",
       " {'title': '멋진 카카오 아지트 판교역 카카오 프렌즈샵 방문 후기',\n",
       "  'url': 'https://promenade7.tistory.com/entry/%EB%A9%8B%EC%A7%84-%EC%B9%B4%EC%B9%B4%EC%98%A4-%EC%95%84%EC%A7%80%ED%8A%B8-%ED%8C%90%EA%B5%90%EC%97%AD-%EC%B9%B4%EC%B9%B4%EC%98%A4-%ED%94%84%EB%A0%8C%EC%A6%88%EC%83%B5-%EB%B0%A9%EB%AC%B8-%ED%9B%84%EA%B8%B0',\n",
       "  'content': '카카오프렌즈 판교아지트점은 판교역 4번출구 인근의 카카오 아지트 1층에 있습니다.   \\n  \\n판교역 광장에서 반대편 화랑공원쪽 동안 사거리쪽 코너에 있습니다.   \\n  \\n알파리움 1단지, 화랑공원 쪽 방향이고 얼마전까지 공영주차장으로 쓰던 곳과 가까워요.    \\n  \\n판교역쪽에서 들어가면 카카오 아지트 1층 구경도 하고 재밌습니다.\\n\\n카카오 아지트 건물입니다. 판교역 위에 4동의 커다란 건물이 있는데 서로 통로로 이어져 있습니다.\\n\\n통로도 한번 더 올라가보고 싶은데 언제 함 또 돌아봐야겠어요.\\n\\n그중 한 건물이 카카오 아지트 건물이에요. 입구로 들어가봅니다.\\n\\n건물이 3층보다 더 큰데 3층까지 안내판이 있네요. 3층까지만 카카오가 쓰는건가..ㅎ\\n\\n1층에 실내 조경, 식재가 잘 되어 있는데 보니깐 AGIT Forest 였군요! [...] 카카오판교아지트, 카카오프렌즈, 카카오프렌즈다이어리세트, 카카오프렌즈샵, 카카오프렌즈샵판교, 카카오프렌즈샵판교아지트점, 판교아지트, 판교역가볼만한곳, 판교역카카오, 판교역카카오프렌즈샵\\n\\n## 관련글\\n\\n 부여 가족여행 숙소 추천 롯데리조트 부여 숙박, 조식 후기\\n 서울 근교 글램핑 추천 김포한강오토캠핑장 후기\\n 성남 금토동 청계산 빵맛집 페리에피스 김영모 빵집 추천\\n 용인 어정역 루프탑 회식하고 가기 좋은 옥상포차\\n\\n## 댓글77\\n\\n프롬나드의 경험담 모음집프롬나드의 경험담 모음집 입니다. 공간에 대한 경험담, 아이들 교육, 미국주식 공부 등 다양한 이야기를 담아봅니다.\\n\\n 이전 댓글 더보기\\n 우리집 개똥이2\\n  2024.01.15 14:36 신고\\n\\n  댓글주소\\n  수정/삭제\\n\\n  월요일 오후시간도 행복하게 보내세요. 정보글 보고가면서 꾹.꾹 누르고 공감 또한 하고 가요~~^^  \\n  답글\\n 식빵이네\\n  2024.01.15 18:42 신고\\n\\n  댓글주소\\n  수정/삭제 [...] 이번 포스팅은 판교역에 있는 카카오프렌즈샵 판교아지트점 방문 후기입니다.   \\n  \\n얼마전에 포스팅한 내용으로 연말에 티스토리의 댓글 이벤트에 참여해서   \\n  \\n카카오 프렌즈 블랙 다이어리 세트를 받았었어요.   \\n  \\n배송 박스 보니깐 티스토리 팀이 판교역 카카오 아지트 건물 3층에 있더라구요.   \\n  \\n찾아가서 고맙습니다! 하고 싶었지만 오피스 건물이라 당연히 못올라가겠죠.  \\n  \\n안그래도 회식날이나 주변 지나가다 자주 판교 아지트 옆을 지나다니는데   \\n  \\n건물 1층에 카카오프렌즈샵이 있다는게 생각 났습니다.   \\n  \\n시간이 맞아서 아이들과 함께 주말에 심지어 오픈런(?)으로 가보게 되었습니다.   \\n  \\n넓은 공간에 아기자기한 인테리어가 인상적이고 재밌고 귀여운 상품들이 많았습니다.   \\n  \\n카카오프렌즈샵 판교아지트점 후기 써보겠습니다.\\n\\n### 1\\\\_판교역 카카오프렌즈 판교아지트점 위치, 오픈시간',\n",
       "  'score': 0.55391616},\n",
       " {'title': '카카오프렌즈',\n",
       "  'url': 'https://www.shoppingplus.co.kr/ko/coupon/1025',\n",
       "  'content': '주소 : 서울시 강남구 봉은사로 524\\n 전화 : 02-6002-1880\\n 영업시간 : 오전 10시 30분 ~ 오후 22시\\n\\n￭ 카카오프렌즈샵 :\\n\\n￭ 카카오프렌즈 인스타그램 :\\n\\n## Store Info\\n\\n|  |  |\\n --- |\\n| `←` | 왼쪽으로 이동 |\\n| `→` | 오른쪽으로 이동 |\\n| `↑` | 위로 이동 |\\n| `↓` | 아래로 이동 |\\n| `+` | 확대 |\\n| `-` | 축소 |\\n| `Home` | 왼쪽으로 75% 이동 |\\n| `End` | 오른쪽으로 75% 이동 |\\n| `Page Up` | 위로 75% 이동 |\\n| `Page Down` | 아래로 75% 이동 |\\n\\n죄송합니다. 이미지가 없습니다.\\n\\n죄송합니다. 이미지가 없습니다.\\n\\n죄송합니다. 이미지가 없습니다.\\n\\n죄송합니다. 이미지가 없습니다.\\n\\n죄송합니다. 이미지가 없습니다.\\n\\n죄송합니다. 이미지가 없습니다.\\n\\n죄송합니다. 이미지가 없습니다.\\n\\n죄송합니다. 이미지가 없습니다. [...] Tax Refund\\n\\nLiving강남\\n\\n# 카카오프렌즈\\n\\nEnded₩10,000 할인쿠폰\\n\\nCoupon\\n\\n## 이 혜택은 글로벌텍스프리에서 보증합니다.\\n\\n English Available\\n Japanese Available\\n Chinese(Simplified) Available\\n\\n\\\\ 100,000원 이상 구매시 10,000원 할인쿠폰 증정\\n\\n> ##### 이용 가능한 매장\\n>\\n> · 강남 플래그십 스토어\\n>\\n> · 홍대 플래그십 스토어\\n>\\n> · 부산 플래그십 스토어\\n>\\n> · 잠실롯데월드몰\\n>\\n> · 스타필드 코엑스몰\\n>\\n> · 타임스퀘어 영등포\\n>\\n> · 명동롯데영플라자\\n>\\n> · 신세계 DPS 동대구\\n>\\n> · 전주한옥마을점\\n>\\n> · 판교 아지트 매장\\n\\n카카오프렌즈는 카카오톡에서 이모티콘으로 시작된 캐릭터를 기반으로 여러분의 일상에 즐거움을 선사할 다양한 상품을 선보입니다. [...] 주소 : 서울시 서초구 강남대로 429\\n 전화 : 02-6494-1100\\n 영업시간 : 오전 10시 30분 ~ 오후 22시\\n\\n##### 2. 홍대 플래그십 스토어\\n\\n힙스터들의 천국 홍대 한복판에서 공미학과 함께 카카오프렌즈를 즐길 수 있는 놀이터!\\n\\n 주소 : 서울시 마포구 양화로 162\\n 전화 : 02-6010-0104\\n 영업시간 : 오전 10시 30분 ~ 오후 22시\\n\\n### 리테일 스토어\\n\\n카카오프렌즈 직영점에서 진행 중인 콘텐츠와 다양한 상품을 만나보세요. 카카오프렌즈의 귀여움으로 일상에 즐거움을 더해보세요!\\n\\n##### 1. 롯데 영플라자 명동점\\n\\n쇼핑과 문화의 메카 명동 롯데 영플라자 카카오프렌즈 매장을 놓치지 마세요!\\n\\n 주소 : 서울시 중구 남대문로 67\\n 전화 : 02-2118-5150\\n 영업시간 : 오전 11시 30분 ~ 오후 21시 30분\\n\\n##### 2. 스타필드 코엑스몰\\n\\n스타필드 도서관 옆에서 카카오프렌즈와 함께 도심 속 힐링과 휴식을 즐겨보세요!',\n",
       "  'score': 0.39277983}]"
      ]
     },
     "execution_count": 4,
     "metadata": {},
     "output_type": "execute_result"
    }
   ],
   "source": [
    "# 검색 결과를 가져옵니다.\n",
    "search.invoke(\"판교 카카오 프렌즈샵 아지트점의 전화번호는 무엇인가요?\")"
   ]
  },
  {
   "cell_type": "code",
   "execution_count": 6,
   "id": "d838391d",
   "metadata": {},
   "outputs": [],
   "source": [
    "from langchain.text_splitter import RecursiveCharacterTextSplitter\n",
    "from langchain_community.vectorstores import FAISS\n",
    "from langchain_openai import OpenAIEmbeddings\n",
    "from langchain.document_loaders import PyPDFLoader\n",
    "\n",
    "# PDF 파일 로드. 파일의 경로 입력\n",
    "loader = PyPDFLoader(\"../data/SPRI_AI_Brief_2023년12월호_F.pdf\")\n",
    "\n",
    "# 텍스트 분할기를 사용하여 문서를 분할합니다.\n",
    "text_splitter = RecursiveCharacterTextSplitter(chunk_size=1000, chunk_overlap=100)\n",
    "\n",
    "# 문서를 로드하고 분할합니다.\n",
    "split_docs = loader.load_and_split(text_splitter)\n",
    "\n",
    "# VectorStore를 생성합니다.\n",
    "vector = FAISS.from_documents(split_docs, OpenAIEmbeddings())\n",
    "\n",
    "# Retriever를 생성합니다.\n",
    "retriever = vector.as_retriever()"
   ]
  },
  {
   "cell_type": "code",
   "execution_count": 7,
   "id": "c36328fd",
   "metadata": {},
   "outputs": [
    {
     "data": {
      "text/plain": [
       "[Document(id='5e7a8dcb-707e-41ab-9943-acdf5dc04490', metadata={'producer': 'Hancom PDF 1.3.0.542', 'creator': 'Hwp 2018 10.0.0.13462', 'creationdate': '2023-12-08T13:28:38+09:00', 'author': 'dj', 'moddate': '2023-12-08T13:28:38+09:00', 'pdfversion': '1.4', 'source': '../data/SPRI_AI_Brief_2023년12월호_F.pdf', 'total_pages': 23, 'page': 12, 'page_label': '13'}, page_content='SPRi AI Brief |  \\n2023-12 월호\\n10삼성전자 , 자체 개발 생성 AI ‘삼성 가우스 ’ 공개\\nn삼성전자가 온디바이스에서 작동 가능하며 언어, 코드, 이미지의 3개 모델로 구성된 자체 개발 생성 \\nAI 모델 ‘삼성 가우스 ’를 공개\\nn삼성전자는 삼성 가우스를 다양한 제품에 단계적으로 탑재할 계획으로 , 온디바이스 작동이 가능한 \\n삼성 가우스는 외부로 사용자 정보가 유출될 위험이 없다는 장점을 보유KEY Contents\\n£언어, 코드, 이미지의 3개 모델로 구성된 삼성 가우스 , 온디바이스 작동 지원\\nn삼성전자가 2023 년 11월 8일 열린 ‘삼성 AI 포럼 2023’ 행사에서 자체 개발한 생성 AI 모델 \\n‘삼성 가우스 ’를 최초 공개\\n∙정규분포 이론을 정립한 천재 수학자 가우스 (Gauss) 의 이름을 본뜬 삼성 가우스는 다양한 상황에 \\n최적화된 크기의 모델 선택이 가능\\n∙삼성 가우스는 라이선스나 개인정보를 침해하지 않는 안전한 데이터를 통해 학습되었으며 , \\n온디바이스에서 작동하도록 설계되어 외부로 사용자의 정보가 유출되지 않는 장점을 보유\\n∙삼성전자는 삼성 가우스를 활용한 온디바이스 AI 기술도 소개했으며 , 생성 AI 모델을 다양한 제품에 \\n단계적으로 탑재할 계획\\nn삼성 가우스는 △텍스트를 생성하는 언어모델 △코드를 생성하는 코드 모델 △이미지를 생성하는  \\n이미지 모델의 3개 모델로 구성\\n∙언어 모델은 클라우드와 온디바이스 대상 다양한 모델로 구성되며 , 메일 작성, 문서 요약, 번역 업무의 \\n처리를 지원\\n∙코드 모델 기반의 AI 코딩 어시스턴트 ‘코드아이 (code.i)’ 는 대화형 인터페이스로 서비스를 제공하며 \\n사내 소프트웨어 개발에 최적화\\n∙이미지 모델은 창의적인 이미지를 생성하고 기존 이미지를 원하는 대로 바꿀 수 있도록 지원하며 \\n저해상도 이미지의 고해상도 전환도 지원\\nnIT 전문지 테크리퍼블릭 (TechRepublic) 은 온디바이스 AI가 주요 기술 트렌드로 부상했다며 ,'),\n",
       " Document(id='f88760bf-e95b-46dd-a18b-d90c37798d73', metadata={'producer': 'Hancom PDF 1.3.0.542', 'creator': 'Hwp 2018 10.0.0.13462', 'creationdate': '2023-12-08T13:28:38+09:00', 'author': 'dj', 'moddate': '2023-12-08T13:28:38+09:00', 'pdfversion': '1.4', 'source': '../data/SPRI_AI_Brief_2023년12월호_F.pdf', 'total_pages': 23, 'page': 12, 'page_label': '13'}, page_content='저해상도 이미지의 고해상도 전환도 지원\\nnIT 전문지 테크리퍼블릭 (TechRepublic) 은 온디바이스 AI가 주요 기술 트렌드로 부상했다며 , \\n2024 년부터 가우스를 탑재한 삼성 스마트폰이 메타의 라마(Llama)2 를 탑재한 퀄컴 기기 및 구글 \\n어시스턴트를 적용한 구글 픽셀(Pixel) 과 경쟁할 것으로 예상\\n☞ 출처 : 삼성전자 , ‘삼성 AI 포럼’서 자체 개발 생성형 AI ‘삼성 가우스 ’ 공개, 2023.11.08.\\n삼성전자 , ‘삼성 개발자 콘퍼런스 코리아 2023’ 개최, 2023.11.14.\\nTechRepublic, Samsung Gauss: Samsung Research Reveals Generative AI, 2023.11.08.'),\n",
       " Document(id='82be2916-fdad-424d-8102-aaa0077b5433', metadata={'producer': 'Hancom PDF 1.3.0.542', 'creator': 'Hwp 2018 10.0.0.13462', 'creationdate': '2023-12-08T13:28:38+09:00', 'author': 'dj', 'moddate': '2023-12-08T13:28:38+09:00', 'pdfversion': '1.4', 'source': '../data/SPRI_AI_Brief_2023년12월호_F.pdf', 'total_pages': 23, 'page': 1, 'page_label': '2'}, page_content='2023 년 12월호\\nⅠ. 인공지능 산업 동향 브리프\\n 1. 정책/법제 \\n   ▹ 미국, 안전하고 신뢰할 수 있는 AI 개발과 사용에 관한 행정명령 발표  ························· 1\\n   ▹ G7, 히로시마 AI 프로세스를 통해 AI 기업 대상 국제 행동강령에 합의··························· 2\\n   ▹ 영국 AI 안전성 정상회의에 참가한 28개국, AI 위험에 공동 대응 선언··························· 3\\n   ▹ 미국 법원, 예술가들이 생성 AI 기업에 제기한 저작권 소송 기각····································· 4\\n   ▹ 미국 연방거래위원회 , 저작권청에 소비자 보호와 경쟁 측면의 AI 의견서 제출················· 5\\n   ▹ EU AI 법 3자 협상, 기반모델 규제 관련 견해차로 난항··················································· 6\\n \\n 2. 기업/산업 \\n   ▹ 미국 프런티어 모델 포럼, 1,000 만 달러 규모의 AI 안전 기금 조성································ 7\\n   ▹ 코히어 , 데이터 투명성 확보를 위한 데이터 출처 탐색기 공개  ······································· 8\\n   ▹ 알리바바 클라우드 , 최신 LLM ‘통이치엔원 2.0’ 공개 ······················································ 9\\n   ▹ 삼성전자 , 자체 개발 생성 AI ‘삼성 가우스 ’ 공개 ··························································· 10\\n   ▹ 구글, 앤스로픽에 20억 달러 투자로 생성 AI 협력 강화 ················································ 11'),\n",
       " Document(id='f8996942-3c79-45bf-81d6-a4813a779803', metadata={'producer': 'Hancom PDF 1.3.0.542', 'creator': 'Hwp 2018 10.0.0.13462', 'creationdate': '2023-12-08T13:28:38+09:00', 'author': 'dj', 'moddate': '2023-12-08T13:28:38+09:00', 'pdfversion': '1.4', 'source': '../data/SPRI_AI_Brief_2023년12월호_F.pdf', 'total_pages': 23, 'page': 15, 'page_label': '16'}, page_content='1. 정책/법제  2. 기업/산업 3. 기술/연구  4. 인력/교육\\n빌 게이츠 , AI 에이전트로 인한 컴퓨터 사용의 패러다임 변화 전망\\nn빌 게이츠가 5년 내 일상언어로 모든 작업을 처리할 수 있는 AI 에이전트가 보급되며 컴퓨터를 \\n사용하는 방식이 완전히 바뀔 것으로 예상\\nn에이전트의 보급은 컴퓨터 분야를 넘어 산업 전 영역에 영향을 미칠 전망으로 특히 의료와 \\n교육, 생산성 , 엔터테인먼트 ·쇼핑 영역에서 고가로 제공되던 서비스가 대중화될 전망KEY Contents\\n£5년 내 기기에 일상언어로 말하기만 하면 되는 AI 에이전트의 보급 예상\\nn빌 게이츠 마이크로소프트 창업자가 2023 년 11월 9일 공식 블로그를 통해 AI 에이전트가 컴퓨터  \\n사용방식과 소프트웨어 산업을 완전히 변화시킬 것이라는 전망을 제시\\n∙자연어에 반응하고 사용자에 대한 지식을 바탕으로 다양한 작업을 수행하는 소프트웨어를 의미하는 \\n에이전트는 컴퓨터 사용방식이 키보드 입력에서 아이콘 클릭으로 바뀐 이후 최대의 컴퓨팅 혁명을 \\n가져올 전망\\n∙현재는 컴퓨터 작업 시 작업 내용에 따라 각각 다른 앱을 사용해야 하지만 5년 내 에이전트의 발전으로 \\n기기에 일상언어로 말하기만 하면 되는 미래가 도래할 것\\n∙온라인에 접속하는 모든 사람이 AI 기반의 개인 비서를 사용할 수 있게 되며, 에이전트는 사용자에 대한 \\n풍부한 지식을 바탕으로 맞춤화된 대응이 가능하며 시간이 지날수록 개선됨\\n∙일례로 여행 계획 수립 시 AI 챗봇이 예산에 맞는 호텔을 제안하는데 머문다면 , 에이전트는 사용자의 여행 \\n패턴을 분석해 여행지를 제안하고 관심사에 따른 활동을 추천하며 선호하는 스타일의 레스토랑 예약도 가능  \\n£AI 에이전트가 의료와 교육, 생산성 , 엔터테인먼트 ·쇼핑 영역의 서비스 대중화를 주도할 것\\nn에이전트로 인해 주목할 만한 변화는 고비용 서비스의 대중화로 특히 △의료 △교육 △생산성 △\\n엔터테인먼트 ·쇼핑의 4개 영역에서 대규모 변화 예상')]"
      ]
     },
     "execution_count": 7,
     "metadata": {},
     "output_type": "execute_result"
    }
   ],
   "source": [
    "# 문서에서 관련성 높은 문서를 가져옵니다.\n",
    "retriever.invoke(\"삼성전자가 개발한 생성형 AI 관련 내용을 문서에서 찾아줘\")"
   ]
  },
  {
   "cell_type": "code",
   "execution_count": 8,
   "id": "be2e05ab",
   "metadata": {},
   "outputs": [],
   "source": [
    "from langchain.tools.retriever import create_retriever_tool\n",
    "\n",
    "retriever_tool = create_retriever_tool(\n",
    "    retriever,\n",
    "    name=\"pdf_search\",  # 도구의 이름을 입력합니다.\n",
    "    description=\"use this tool to search information from the PDF document\",  # 도구에 대한 설명을 자세히 기입해야 합니다!!\n",
    ")"
   ]
  },
  {
   "cell_type": "code",
   "execution_count": 9,
   "id": "a4da6752",
   "metadata": {},
   "outputs": [],
   "source": [
    "# tools 리스트에 search와 retriever_tool을 추가합니다.\n",
    "tools = [search, retriever_tool]"
   ]
  },
  {
   "cell_type": "code",
   "execution_count": 10,
   "id": "e692ed75",
   "metadata": {},
   "outputs": [],
   "source": [
    "from langchain_openai import ChatOpenAI\n",
    "from langchain_core.prompts import ChatPromptTemplate\n",
    "\n",
    "# LLM 정의\n",
    "llm = ChatOpenAI(model=\"gpt-4o-mini\", temperature=0)\n",
    "\n",
    "# Prompt 정의\n",
    "prompt = ChatPromptTemplate.from_messages(\n",
    "    [\n",
    "        (\n",
    "            \"system\",\n",
    "            \"You are a helpful assistant. \"\n",
    "            \"Make sure to use the `pdf_search` tool for searching information from the PDF document. \"\n",
    "            \"If you can't find the information from the PDF document, use the `search` tool for searching information from the web.\",\n",
    "        ),\n",
    "        (\"placeholder\", \"{chat_history}\"),\n",
    "        (\"human\", \"{input}\"),\n",
    "        (\"placeholder\", \"{agent_scratchpad}\"),\n",
    "    ]\n",
    ")"
   ]
  },
  {
   "cell_type": "code",
   "execution_count": 11,
   "id": "64e1ca5d",
   "metadata": {},
   "outputs": [],
   "source": [
    "from langchain.agents import create_tool_calling_agent\n",
    "\n",
    "# tool calling agent 생성\n",
    "agent = create_tool_calling_agent(llm, tools, prompt)"
   ]
  },
  {
   "cell_type": "code",
   "execution_count": 12,
   "id": "bffa838f",
   "metadata": {},
   "outputs": [],
   "source": [
    "from langchain.agents import AgentExecutor\n",
    "\n",
    "# AgentExecutor 생성\n",
    "agent_executor = AgentExecutor(agent=agent, tools=tools, verbose=False)"
   ]
  },
  {
   "cell_type": "code",
   "execution_count": 13,
   "id": "9456afca",
   "metadata": {},
   "outputs": [],
   "source": [
    "from langchain_teddynote.messages import AgentStreamParser\n",
    "\n",
    "# 각 단계별 출력을 위한 파서 생성\n",
    "agent_stream_parser = AgentStreamParser()"
   ]
  },
  {
   "cell_type": "code",
   "execution_count": 14,
   "id": "dd765581",
   "metadata": {},
   "outputs": [
    {
     "name": "stdout",
     "output_type": "stream",
     "text": [
      "[도구 호출]\n",
      "Tool: tavily_search_results_json\n",
      "query: 2024년 프로야구 플레이오프 진출 팀\n",
      "Log: \n",
      "Invoking: `tavily_search_results_json` with `{'query': '2024년 프로야구 플레이오프 진출 팀'}`\n",
      "\n",
      "\n",
      "\n",
      "[관찰 내용]\n",
      "Observation: [{'title': '프로야구 2024 포스트시즌 일정과 진행 방식 정리(각 팀별 포스트시즌 ...', 'url': 'https://pathfollower.tistory.com/entry/%ED%94%84%EB%A1%9C%EC%95%BC%EA%B5%AC-2024-%ED%8F%AC%EC%8A%A4%ED%8A%B8%EC%8B%9C%EC%A6%8C-%EC%9D%BC%EC%A0%95%EA%B3%BC-%EC%A7%84%ED%96%89-%EB%B0%A9%EC%8B%9D-%EC%A0%95%EB%A6%AC%EA%B0%81-%ED%8C%80%EB%B3%84-%ED%8F%AC%EC%8A%A4%ED%8A%B8%EC%8B%9C%EC%A6%8C-%EC%A7%84%EC%B6%9C-%ED%99%95%EB%A5%A0', 'content': '플레이오프는 준플레이오프 승리팀과 정규시즌 2위 팀이 맞붙는 대결이다. 5판 3선승으로 진행된다.  \\n1,2,5경기는 정규리그 2위 팀 홈구장에서 열리며 3,4경기는 준플레이오프 승리팀 홈구장에서 열린다.  \\n   \\n2024년 프로야구 플레이오프 일정은 다음과 같다.\\n\\n 10월 13일 (일) 14:00 - 대구\\n 10월 14일 (월) 18:30 - 대구\\n 10월 16일 (수) 18:30 - 준플레이오프 승리 팀 홈구장\\n 10월 17일 (목) 18:30 - 준플레이오프 승리 팀 홈구장\\n 10월 19일 (토) 14:00 - 대구\\n\\n2024년 9월 17일 기준으로 플레이오프 경기는 두산, KT, LG 중 한 팀과 삼성이 하게 될 것이 확실시된다.\\n\\n### 프로야구 2024 포스트시즌 진행 방식 - 4. 한국시리즈 [...] 절대적으로 4위 팀에게 유리한 조건이기 때문에, 와일드카드 제도가 도입된 이후 지금까지 5위 팀이 준플레이오프에 진출한 경우는 단 한 번도 없다. 와일드카드 9번 모두 4위 팀이 진출했으며, 9번 중에서 5위 팀이 1승이라도 거둔 것도 단 두 번뿐이다(2016 기아, 2021 키움). 2024년 프로야구 와일드카드 결정전 일정은 다음과 같다.\\n\\n 10월 2일 (수) 18:30 - 4위 팀 홈구장\\n 10월 3일 (목) 14:00 - 4위 팀 홈구장\\n\\n2024년 9월 17일 기준으로 와일드카드 결정전을 벌일 팀으로는 두산과 KT가 유력하다.  \\n단, 두 팀 중 누가 4위를 하게 될지는 아직 오리무중이다.\\n\\n### 프로야구 2024 포스트시즌 진행 방식 - 2. 준플레이오프 [...] 10월 21일 (월) 18:30 - 광주\\n 10월 22일 (화) 18:30 - 광주\\n 10월 24일 (목) 18:30 - 플레이오프 승리 팀 홈구장\\n 10월 25일 (금) 18:30 - 플레이오프 승리 팀 홈구장\\n 10월 27일 (일) 14:00 - 광주\\n 10월 28일 (월) 18:30 - 광주\\n 10월 29일 (화) 18:30 - 광주\\n\\n### 프로야구 2024 포스트시즌 진행 방식 - 1. 와일드카드\\n\\n와일드카드는 4위 팀과 5위 팀이 준플레이오프 진출을 위해 벌이는 경기이다.  \\n와일드카드가 다른 포스트시즌 경기들과 다른 특징이 하나 있는데, 4위 팀과 5위 팀의 진출 조건이 다르다는 점이다.\\n\\n 4위 팀 - 2경기 중 1승(또는 1무)만 하면 준플레이오프 진출\\n 5위 팀 - 2경기 모두 이겨야 준플레이오프 진출\\n ※ 경기장은 2경기 모두 4위 팀 홈구장에서 진행', 'score': 0.8687491}, {'title': '2024 KBO 한국 프로야구 포스트시즌 일정 순위 예매 (와일드카드 준 ...', 'url': 'https://m.blog.naver.com/qhadldhaus98/223605904423', 'content': '> 2024 KBO 포스트시즌 일정\\n\\n와일드카드 결정전: KT, 두산 2-0으로 승리 (KT 준PO 진출)\\n\\n준플레이오프: 10월 5일~10월 11일 (필요 시)\\n\\n플레이오프: 10월 13일~10월 20일 (필요 시)\\n\\n한국시리즈: 10월 21일~10월 29일 (필요 시)\\n\\n경기 시간: 주중 18시 30분, 주말 및 공휴일 14시.\\n\\n존재하지 않는 이미지입니다.\\n\\n출처 KBO\\n\\n> 2024 KBO리그 한국 프로 야구 순위\\n\\n야구 골수팬들은 당연히\\n\\n팀 순위가 머리 속에 있을 수 있지만\\n\\n라이트 팬들은 상위권이랑\\n\\n내가 응원하는 팀만 알지 어느팀이 몇위였더라?\\n\\n잘 모르실 수 있습니다.\\n\\n일단 2024 프로야구 순위를 먼저 적어보겠습니다.\\n\\n\\u200b\\n\\n1.KIA 타이거즈\\n\\n2.삼성 라이온즈\\n\\n3.LG 트윈스\\n\\n4.두산 베어스\\n\\n5.KT 위즈\\n\\n6.SSG 랜더스\\n\\n7.롯데 자이언츠\\n\\n8.한화 이글스\\n\\n9.NC 다이노스\\n\\n10.키움 히어로즈\\n\\n\\u200b\\n\\n올 해 프로야구 포스트시즌에 진출한 팀들은 [...] KIA 타이거즈 삼성 라이온즈 LG 트윈스\\n\\n두산 베어스 KT위즈입니다.\\n\\n존재하지 않는 이미지입니다.\\n\\n출처 KBO\\n\\n존재하지 않는 이미지입니다.\\n\\n출처 두산베어스\\n\\n존재하지 않는 이미지입니다.\\n\\n출처 두산베어스\\n\\n존재하지 않는 이미지입니다.\\n\\n출처 KT위즈\\n\\n존재하지 않는 이미지입니다.\\n\\n출처 KT위즈\\n\\n> 2024 프로야구 일정 와일드카드 결정전\\n\\n2024 프로야구 포스트시즌 일정의 그 첫 일정은\\n\\n4위 두산 베어스와 5위 KT 위즈와의 경기였습니다.\\n\\n첫 경기인 10월 2일 4:0 오늘 경기 1:0으로\\n\\n4위 두산 베어스를 꺾고 5위 KT 위즈가\\n\\nKBO 준플레이오프에 진출하게 되었습니다.\\n\\n5위가 4위를 이긴건 KBO 와일드카드 결정전 시작하고\\n\\n처음 있는 일이었습니다. KT위즈 새역사를 쓰다.\\n\\nKT위즈는 LG 트윈스와\\n\\n10월 5일 잠실에서 KBO준플레이오프\\n\\n1차전에서 만나게 됩니다.\\n\\n존재하지 않는 이미지입니다.\\n\\n출처 LG 트윈스\\n\\n존재하지 않는 이미지입니다. [...] 과연 어떤 팀이 승리할까요?\\n\\n\\u200b\\n\\n1차전: 10월 5일 KT 3:2 LG\\n\\n2차전: 10월 6일 KT 2:7 LG\\n\\n3차전: 10월 8일 KT 5:6 LG\\n\\n4차전: 10월 9일 KT 6:5 LG\\n\\n5차전: 10월 11일 KT 1:4 LG\\n\\n\\u200b\\n\\nLG 트윈스는 11일 서울 잠실구장에서 열린\\n\\n2024 신한 SOL뱅크 KBO 포스트시즌 준플레이오프 5차전에서\\n\\nKT 위즈를 4-1로 꺾으며 승리했습니다.\\n\\n지난해 한국시리즈에서 KT를 상대로 4-1로 승리하며\\n\\n29년 만에 우승을 차지했던 LG는\\n\\n올해 가을야구에서도 다시 한 번\\n\\nKT를 제압하는 데 성공했습니다.\\n\\nLG는 하루 휴식을 취한 후,\\n\\n13일부터 정규시즌 2위인 삼성 라이온즈와의\\n\\n플레이오프(PO)를 시작할 예정입니다.\\n\\n존재하지 않는 이미지입니다.\\n\\n존재하지 않는 이미지입니다.\\n\\n존재하지 않는 이미지입니다.\\n\\n일정변경\\n\\n> 2024 프로야구 일정 KBO 플레이오프\\n\\n준플레이오프에서 승리한 팀(LG)은 정규시즌 2위', 'score': 0.82560414}, {'title': '2024 신한 SOL Bank KBO 플레이오프 - 나무위키', 'url': 'https://namu.wiki/w/2024%20%EC%8B%A0%ED%95%9C%20SOL%20Bank%20KBO%20%ED%94%8C%EB%A0%88%EC%9D%B4%EC%98%A4%ED%94%84', 'content': '준플레이오프에서 5위팀 kt wiz와 5차전까지 가는 접전 끝에 시리즈 스코어 3:2로 승리하고 플레이오프에 진출하였다. [...] 경기장: 서울종합운동장 야구장·관중: 23,750명 (매진)\\n팀선발123456789RHEB\\nImage 206Image 207: 삼성 라이온즈 엠블럼레예스0 0 0 0 0 0 0 1 013 1 4\\n삼성\\nImage 209Image 210: LG 트윈스 엠블럼엔스0 0 0 0 0 0 0 0 003 0 3\\nLG\\n승리: 레예스 · 패배: 손주영 · 세이브: 김재윤 · 홀드: 임창민\\n중계방송사: Image 212Image 213: KBS 2TV 로고Image 215Image 216: KBS 2TV 로고 화이트 | 캐스터: 김진웅 \"김진웅(아나운서)\") | 해설: 박용택( \"TBC 드림FM 캐스터 김대진 - 해설 김용국 / 대구MBC 표준FM 캐스터 서상국 - 해설 홍승규 / MBC SPORTS+ 캐스터 한명재 - 해설 박정권 / SBS Sports 캐스터 정우영 - 해설 이택근 / SPOTV, SPOTV2 캐스터 김민수 - 해설 이대형.\")\\n주요 기록 [...] 경기장: 서울종합운동장 야구장·관중: 23,750명 (매진)\\n팀선발123456789RHEB\\nImage 170Image 171: 삼성 라이온즈 엠블럼황동재0 0 0 0 0 0 0 0 005 0 2\\n삼성\\nImage 173Image 174: LG 트윈스 엠블럼임찬규0 0 0 0 1 0 0 0-15 0 5\\nLG\\n승리: 임찬규 · 패배: 이승현 \"이승현(2002)\") · 세이브: 에르난데스\\n중계방송사: Image 176Image 177: MBC 로고Image 179Image 180: MBC 로고 화이트 | 캐스터: 김나진 | 해설: 정민철, 박재홍 | 리포터: 이영은 \"이영은(아나운서)\")( \"TBC 드림FM 캐스터 김대진 - 해설 김용국 / 대구MBC 표준FM 캐스터 서상국 - 해설 홍승규 / KBS N SPORTS 캐스터 권성욱 - 해설 장성호 / SBS Sports 캐스터 정우영 - 해설 이순철 / SPOTV, SPOTV2 캐스터 김민수 - 해설 이대형.\")\\n주요 기록', 'score': 0.74697095}, {'title': '2024년 한국시리즈 - 위키백과, 우리 모두의 백과사전', 'url': 'https://ko.wikipedia.org/wiki/2024%EB%85%84_%ED%95%9C%EA%B5%AD%EC%8B%9C%EB%A6%AC%EC%A6%88', 'content': '| 순위 | 구단 | 경기 | 승 | 무 | 패 | 승률 | 연속 | 게임차 | 포스트시즌 |\\n ---  ---  ---  ---  --- |\\n| 1 | KIA 타이거즈 | 144 | 87 | 2 | 55 | 0.613 | 2승 | 0.0 | 한국시리즈 진출 |\\n| 2 | 삼성 라이온즈 | 144 | 78 | 2 | 64 | 0.549 | 1패 | 9.0 | 플레이오프 진출 |\\n| 3 | LG 트윈스 | 144 | 76 | 2 | 66 | 0.535 | 2승 | 11.0 | 준플레이오프 진출 |\\n| 4 | 두산 베어스 | 144 | 74 | 2 | 68 | 0.521 | 4승 | 13.0 | 와일드카드 결정전 진출 |\\n| 5 | kt 위즈 | 144 | 72 | 2 | 70 | 0.507 | 3승 | 15.0 | 와일드카드 결정전 진출 |\\n| 6 | SSG 랜더스 | 144 | 72 | 2 | 70 | 0.507 | 4승 | 15.0 | 진출 실패 | [...] 준플레이오프에서는 지난 시즌 우승팀이었던 정규시즌 3위 LG 트윈스와 5위 팀 역사상 최초로 와일드카드 결정전을 통과한 kt 위즈가 대결을 펼쳤다. 작년에는 한국시리즈에서 만났으나, 올해는 준플레이오프에서 만나게 됐다. 결과는 LG가 kt를 상대로 5차전까지 치열한 승부를 진행한 끝에 3승 2패를 기록하며 플레이오프에 진출했다. 시리즈 MVP는 2차전 5.1이닝 2실점과 5차전 6이닝 1실점을 기록하며 모두 LG의 승리를 이끈 선발투수 임찬규가 차지했다.\\n\\n### 플레이오프\\n\\n[편집] [...] | 7 | 롯데 자이언츠 | 144 | 66 | 4 | 74 | 0.471 | 1승 | 20.0 | 진출 실패 |\\n| 8 | 한화 이글스 | 144 | 66 | 2 | 76 | 0.465 | 2패 | 21.0 | 진출 실패 |\\n| 9 | NC 다이노스 | 144 | 61 | 2 | 81 | 0.430 | 2패 | 26.0 | 진출 실패 |\\n| 10 | 키움 히어로즈 | 144 | 58 | 0 | 86 | 0.403 | 5패 | 30.0 | 진출 실패 |', 'score': 0.73642004}, {'title': '2024년 최강팀 가릴 가을야구, 10월2일 막 오른다 - 한겨레', 'url': 'https://www.hani.co.kr/arti/sports/baseball/1159732.html', 'content': '3위로 정규리그를 마감한 엘지(LG) 트윈스는 10월5일 홈구장인 잠실야구장에서 준플레이오프 첫 경기를 치른다. 5전3선승제로 진행되는 준플레이오프는 3위 팀 홈구장에서 1·2·5차전을, 와일드카드 결정전 승리 팀의 홈구장에서 3·4차전을 치른다.\\n\\n준플레이오프 승자는 플레이오프에 진출해 정규리그 2위 삼성 라이온즈와 맞붙는다. 5전3선승제로 진행되고 1·2·5차전은 10월13일 대구 삼성라이온즈파크에서 열린다. 대망의 한국시리즈는 7전4선승제로 진행된다. 기아(KIA) 타이거즈는 플레이오프에서 이긴 팀과 10월21일 광주 기아챔피언스필드에서 1차전을 치른다.\\n\\n광고\\n\\n광고\\n\\n각 시리즈 사이 최소 1일은 이동일로 편성한다. 포스트시즌 경기가 우천 등으로 취소되면 다음 날로 미뤄진다. 연장전은 최대 15회까지 이어지고, 15회가 종료된 뒤에도 승패를 가리지 못하면 무승부 처리된다. [...] 댓글 서비스 업데이트 안내\\n\\n본문\\n\\n스포츠\\n야구·MLB\\n\\n### 2024년 최강팀 가릴 가을야구, 10월2일 막 오른다\\n\\n장필수기자\\n\\n 수정 2024-09-25 18:53\\n 등록 2024-09-25 18:45\\n\\n기사를 읽어드립니다\\n\\n2024 KBO리그 포스트시즌이 10월2일 와일드카드 1차전을 시작으로 막을 올린다.\\n\\n최대 2경기까지 이어지는 와일드카드 결정전은 10월2일부터 3일까지 정규리그 4위의 홈구장에서 열린다. 현재 최소 5위를 확보한 두산은 4위로 와일드카드 결정전을 홈인 잠실야구장에서 치르길 벼르고 있다. 가을야구 마지막 티켓을 놓고선 케이티(KT) 위즈와 에스에스지(SSG) 랜더스가 막판 경쟁을 벌이고 있다. 수원과 인천의 싸움이다.\\n\\n와일드카드 결정전에서 5위 팀은 두 경기에서 모두 이겨야만 준플레이오프에 진출할 수 있다. 만약 첫번째 경기에서 지거나 무승부를 기록하면 4위가 준플레이오프에 진출한다.\\n\\n광고 [...] “이스라엘 헬기·탱크, 연달아 가자 때렸다”…한밤중 수천명 피난길\\n 유엔조사위 “이스라엘, 팔레스타인인 집단학살” 결론\\n 이스라엘군, 가자시티 지상전 돌입 선언…“대규모 공습 후 전차 투입”\\n\\n# 트럼프 관세 전쟁\\n\\n 조현 “미국 요구대로 관세협상 문서화했다면 경제에 큰 주름살”\\n 일본, 한국보다 먼저 ‘자동차 15% 관세’ 발동됐지만…산 넘어 산\\n [[사설] 한·일 자동차 관세 역전됐지만, 시한 쫓긴 협상 안 된다](/arti/opinion/editorial/1219062.html)\\n\\n# 중대재해\\n\\n 인천서 40대 캄보디아 노동자, 공장 기계에 끼어 숨져\\n 경찰, ‘맨홀 노동자 사망 사고’ 시공업체 현장 소장 등 3명 입건\\n [[단독] 이재석 경사 순직 당시 근무일지 휴게시간 ‘허위 기록’ 정황](/arti/area/capital/1218964.html)\\n\\n# 페미사이드', 'score': 0.72559077}]\n",
      "[최종 답변]\n",
      "2024년 프로야구 플레이오프에 진출한 팀은 다음과 같습니다:\n",
      "\n",
      "1. KIA 타이거즈\n",
      "2. 삼성 라이온즈\n",
      "3. LG 트윈스\n",
      "4. 두산 베어스\n",
      "5. KT 위즈\n",
      "\n",
      "이 팀들은 각각 정규 시즌에서의 성적에 따라 포스트시즌에 진출하게 되었습니다. KIA 타이거즈는 한국시리즈에 진출하였고, 삼성 라이온즈는 플레이오프에, LG 트윈스는 준플레이오프에 진출했습니다. 두산 베어스와 KT 위즈는 와일드카드 결정전에서 경쟁하게 됩니다.\n"
     ]
    }
   ],
   "source": [
    "# 질의에 대한 답변을 스트리밍으로 출력 요청\n",
    "result = agent_executor.stream(\n",
    "    {\"input\": \"2024년 프로야구 플레이오프 진출한 5개 팀을 검색하여 알려주세요.\"}\n",
    ")\n",
    "\n",
    "for step in result:\n",
    "    # 중간 단계를 parser 를 사용하여 단계별로 출력\n",
    "    agent_stream_parser.process_agent_steps(step)"
   ]
  }
 ],
 "metadata": {
  "kernelspec": {
   "display_name": "langchain-kr-EGILWU2T-py3.11",
   "language": "python",
   "name": "python3"
  },
  "language_info": {
   "codemirror_mode": {
    "name": "ipython",
    "version": 3
   },
   "file_extension": ".py",
   "mimetype": "text/x-python",
   "name": "python",
   "nbconvert_exporter": "python",
   "pygments_lexer": "ipython3",
   "version": "3.11.11"
  }
 },
 "nbformat": 4,
 "nbformat_minor": 5
}
