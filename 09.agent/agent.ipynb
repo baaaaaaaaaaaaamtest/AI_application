{
 "cells": [
  {
   "cell_type": "code",
   "execution_count": null,
   "id": "814f3288",
   "metadata": {},
   "outputs": [],
   "source": [
    "from langchain_core.tools import tool\n",
    "from langchain_teddynote.tools import GoogleNews\n",
    "from typing import List, Dict\n",
    "\n",
    "from email.header import Header\n",
    "from langchain_community.chat_message_histories import ChatMessageHistory\n",
    "from langchain_core.runnables.history import RunnableWithMessageHistory\n",
    "import sys, os"
   ]
  },
  {
   "cell_type": "code",
   "execution_count": null,
   "id": "6390a243",
   "metadata": {},
   "outputs": [],
   "source": [
    "\n",
    "sys.path.append(os.path.abspath(os.path.join(os.path.dirname('get_naver_news'), '..')))\n",
    "from module.get_mcp_client import get_mcp_client\n",
    "from module.get_news_origin import get_news_origin\n",
    "from module.get_local_pdf import rag_pdf\n",
    "\n"
   ]
  },
  {
   "cell_type": "code",
   "execution_count": null,
   "id": "c45021d3",
   "metadata": {},
   "outputs": [],
   "source": [
    "from langchain_teddynote import logging\n",
    "\n",
    "# 프로젝트 이름을 입력합니다.\n",
    "logging.langsmith(\"CH15-Agents\")"
   ]
  },
  {
   "cell_type": "code",
   "execution_count": null,
   "id": "efbdc920",
   "metadata": {},
   "outputs": [],
   "source": [
    "\n",
    "# 도구 생성\n",
    "@tool\n",
    "def search_google_news(query: str) -> List[Dict[str, str]]:\n",
    "    \"\"\"Search Google News by input keyword\"\"\"\n",
    "    news_tool = GoogleNews()\n",
    "    return news_tool.search_by_keyword(query, k=5)\n",
    "\n",
    "\n",
    "@tool\n",
    "async def search_naver_news(query: str,k: int =10) -> List[Dict[str, str]]:\n",
    "    \"\"\"Search naver News by input keyword\"\"\"\n",
    "    client = get_mcp_client()\n",
    "    tools = await client.get_tools(server_name=\"naver-search-mcp\")\n",
    "    tool = next(tool for tool in tools if tool.name == \"search_news\")\n",
    "\n",
    "    response = await tool.ainvoke({\n",
    "        \"query\": query,\n",
    "        \"display\": k,  # 최대 100\n",
    "        \"start\": 1,\n",
    "        \"sort\": \"date\"  # 날짜순 정렬\n",
    "    })\n",
    "    return get_news_origin(response)\n",
    "\n",
    "@tool\n",
    "def search_local_data(query: str) -> List[Dict[str, str]]:\n",
    "    \"\"\"Search local data of pdf file infomation by input keyword\"\"\"\n",
    "    news_tool = rag_pdf()\n",
    "    return news_tool.search_by_keyword(query)\n",
    "\n",
    "from langchain.tools.retriever import create_retriever_tool\n",
    "\n",
    "# search_local_data = create_retriever_tool(\n",
    "#     retriever= ,\n",
    "#     name = \"pdf_search\",\n",
    "#     description=\"use this tool to search information from the PDF document\"\n",
    "# )\n",
    "\n",
    "@tool\n",
    "async def send_google_mail(email:str, body: str,subject:str = \"안녕하세요\") -> List[Dict[str, str]]:\n",
    "    \"\"\"A function that can send an email by receiving an address and subject and body\"\"\"\n",
    "    client = get_mcp_client()\n",
    "    tools = await client.get_tools(server_name=\"gmail-mcp\")\n",
    "    tool = next(tool for tool in tools if tool.name == \"send_message\")\n",
    "    encoded_subject = Header(subject, 'utf-8').encode()\n",
    "    response = await tool.ainvoke({\n",
    "        \"to\":[email],\n",
    "        \"subject\":encoded_subject,\n",
    "        \"body\":body,\n",
    "    })\n",
    "    return response\n",
    "\n",
    "# tools = [search_google_news,search_local_data]\n",
    "\n",
    "\n",
    "tools = [search_google_news, search_naver_news,search_local_data,send_google_mail]\n"
   ]
  },
  {
   "cell_type": "code",
   "execution_count": null,
   "id": "53615b36",
   "metadata": {},
   "outputs": [],
   "source": [
    "from langchain_core.prompts import ChatPromptTemplate\n",
    "\n",
    "# 프롬프트 생성\n",
    "# 프롬프트는 에이전트에게 모델이 수행할 작업을 설명하는 텍스트를 제공합니다. (도구의 이름과 역할을 입력)\n",
    "prompt = ChatPromptTemplate.from_messages(\n",
    "    [\n",
    "        (\n",
    "            \"system\",\n",
    "            \"You are a helpful assistant. \"\n",
    "            # \"Make sure to use the `search_google_news` tool for searching keyword related news in google site. Make sure to use the `search_naver_news` tool for searching keyword related news in naver site.\",\n",
    "\n",
    "        ),\n",
    "        (\"placeholder\", \"{chat_history}\"),\n",
    "        (\"human\", \"{input}\"),\n",
    "        (\"placeholder\", \"{agent_scratchpad}\"),\n",
    "    ]\n",
    ")"
   ]
  },
  {
   "cell_type": "code",
   "execution_count": null,
   "id": "a0805136",
   "metadata": {},
   "outputs": [],
   "source": [
    "from langchain_openai import ChatOpenAI\n",
    "from langchain.agents import create_tool_calling_agent\n",
    "\n",
    "llm = ChatOpenAI(model=\"gpt-4o-mini\",temperature =0 )\n",
    "agent = create_tool_calling_agent(llm, tools, prompt)"
   ]
  },
  {
   "cell_type": "code",
   "execution_count": null,
   "id": "e82ac372",
   "metadata": {},
   "outputs": [],
   "source": [
    "from langchain.agents import AgentExecutor\n",
    "\n",
    "# AgentExecutor 생성\n",
    "agent_executor = AgentExecutor(\n",
    "    agent=agent,\n",
    "    tools=tools,\n",
    "    verbose=True,\n",
    "    max_iterations=10,\n",
    "    max_execution_time=30,\n",
    "    handle_parsing_errors=True,\n",
    ")"
   ]
  },
  {
   "cell_type": "code",
   "execution_count": null,
   "id": "61722b97",
   "metadata": {},
   "outputs": [],
   "source": [
    "from langchain_teddynote.messages import AgentStreamParser\n",
    "agent_stream_parser = AgentStreamParser()\n"
   ]
  },
  {
   "cell_type": "code",
   "execution_count": null,
   "id": "de514c81",
   "metadata": {},
   "outputs": [],
   "source": [
    "query = \"사랑하는 사람에게 올해 잘해보자는 따뜻한 메시지를 담아 ansgyqja@naver.com 에게 전송해줘\"\n",
    "\n",
    "# result =await agent_executor.ainvoke({\"input\":query})\n",
    "# print(result[\"output\"])\n",
    "\n",
    "async for step in agent_executor.astream({\"input\":query}):\n",
    "    agent_stream_parser.process_agent_steps(step)"
   ]
  },
  {
   "cell_type": "code",
   "execution_count": null,
   "id": "aaa45470",
   "metadata": {},
   "outputs": [],
   "source": [
    "# session_id 를 저장할 딕셔너리 생성\n",
    "store = {}\n",
    "\n",
    "\n",
    "# session_id 를 기반으로 세션 기록을 가져오는 함수\n",
    "def get_session_history(session_ids):\n",
    "    if session_ids not in store:  # session_id 가 store에 없는 경우\n",
    "        # 새로운 ChatMessageHistory 객체를 생성하여 store에 저장\n",
    "        store[session_ids] = ChatMessageHistory()\n",
    "    return store[session_ids]  # 해당 세션 ID에 대한 세션 기록 반환\n",
    "\n",
    "\n",
    "# 채팅 메시지 기록이 추가된 에이전트를 생성합니다.\n",
    "agent_with_chat_history = RunnableWithMessageHistory(\n",
    "    agent_executor,\n",
    "    # 대화 session_id\n",
    "    get_session_history,\n",
    "    # 프롬프트의 질문이 입력되는 key: \"input\"\n",
    "    input_messages_key=\"input\",\n",
    "    # 프롬프트의 메시지가 입력되는 key: \"chat_history\"\n",
    "    history_messages_key=\"chat_history\",\n",
    ")\n"
   ]
  },
  {
   "cell_type": "code",
   "execution_count": null,
   "id": "07b150ea",
   "metadata": {},
   "outputs": [],
   "source": [
    "# 질의에 대한 답변을 스트리밍으로 출력 요청\n",
    "query = \"안녕 ?\"\n",
    "async for step in agent_with_chat_history.astream(\n",
    "    {\"input\": query},\n",
    "    # session_id 설정\n",
    "    config={\"configurable\": {\"session_id\": \"abc123\"}},\n",
    "):\n",
    "    agent_stream_parser.process_agent_steps(step)\n",
    "\n"
   ]
  },
  {
   "cell_type": "code",
   "execution_count": null,
   "id": "29cf2cc7",
   "metadata": {},
   "outputs": [],
   "source": [
    "# 질의에 대한 답변을 스트리밍으로 출력 요청\n",
    "query = \"메일 보내고싶은데\"\n",
    "async for step in agent_with_chat_history.astream(\n",
    "    {\"input\": query},\n",
    "    # session_id 설정\n",
    "    config={\"configurable\": {\"session_id\": \"abc123\"}},\n",
    "):\n",
    "    agent_stream_parser.process_agent_steps(step)\n",
    "\n"
   ]
  },
  {
   "cell_type": "code",
   "execution_count": null,
   "id": "572eb995",
   "metadata": {},
   "outputs": [],
   "source": [
    "# 질의에 대한 답변을 스트리밍으로 출력 요청\n",
    "query = \"ansgyqja@naver.com 에게 오늘 날씨 정보와 생일 축하 메시지를 전달해줘\"\n",
    "async for step in agent_with_chat_history.astream(\n",
    "    {\"input\": query},\n",
    "    # session_id 설정\n",
    "    config={\"configurable\": {\"session_id\": \"abc123\"}},\n",
    "):\n",
    "    agent_stream_parser.process_agent_steps(step)\n",
    "\n"
   ]
  },
  {
   "cell_type": "code",
   "execution_count": null,
   "id": "eed1d448",
   "metadata": {},
   "outputs": [],
   "source": [
    "# 질의에 대한 답변을 스트리밍으로 출력 요청\n",
    "query = \"제목은 사자성어로 된 올해가 잘풀렷으면 좋겟다는 의미르 가졌으면 좋겟고, 내용은 올해 운수 대박나라는 귀엽고 깜직한 html 양식으로 보내줘  \"\n",
    "async for step in agent_with_chat_history.astream(\n",
    "    {\"input\": query},\n",
    "    # session_id 설정\n",
    "    config={\"configurable\": {\"session_id\": \"abc123\"}},\n",
    "):\n",
    "    agent_stream_parser.process_agent_steps(step)\n",
    "\n"
   ]
  }
 ],
 "metadata": {
  "kernelspec": {
   "display_name": "langchain-kr-EGILWU2T-py3.11",
   "language": "python",
   "name": "python3"
  },
  "language_info": {
   "codemirror_mode": {
    "name": "ipython",
    "version": 3
   },
   "file_extension": ".py",
   "mimetype": "text/x-python",
   "name": "python",
   "nbconvert_exporter": "python",
   "pygments_lexer": "ipython3",
   "version": "3.11.11"
  }
 },
 "nbformat": 4,
 "nbformat_minor": 5
}
