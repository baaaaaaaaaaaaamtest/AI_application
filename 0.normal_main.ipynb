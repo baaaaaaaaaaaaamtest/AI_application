{
 "cells": [
  {
   "cell_type": "code",
   "execution_count": 1,
   "id": "5bb4cac0",
   "metadata": {},
   "outputs": [],
   "source": [
    "from langchain.text_splitter import RecursiveCharacterTextSplitter\n",
    "from langchain.vectorstores import FAISS\n",
    "from langchain.chains import RetrievalQA\n",
    "from langchain_ollama import OllamaLLM\n",
    "from langchain import PromptTemplate\n",
    "from langchain_community.document_loaders import TextLoader\n",
    "from langchain.schema import Document\n",
    "from langgraph.prebuilt import create_react_agent\n",
    "import datetime\n",
    "import numpy as np\n",
    "import time\n",
    "from langchain_huggingface.embeddings import HuggingFaceEmbeddings\n",
    "from langchain_openai import ChatOpenAI, OpenAIEmbeddings\n",
    "from langchain.retrievers import ContextualCompressionRetriever\n",
    "from langchain.retrievers.document_compressors import CrossEncoderReranker\n",
    "from langchain_community.cross_encoders import HuggingFaceCrossEncoder\n"
   ]
  },
  {
   "cell_type": "code",
   "execution_count": 2,
   "id": "94c2b2e3",
   "metadata": {},
   "outputs": [
    {
     "data": {
      "text/plain": [
       "True"
      ]
     },
     "execution_count": 2,
     "metadata": {},
     "output_type": "execute_result"
    }
   ],
   "source": [
    "# API 키를 환경변수로 관리하기 위한 설정 파일\n",
    "from dotenv import load_dotenv\n",
    "\n",
    "# API 키 정보 로드\n",
    "load_dotenv()"
   ]
  },
  {
   "cell_type": "code",
   "execution_count": 3,
   "id": "03ee0ae7",
   "metadata": {},
   "outputs": [
    {
     "name": "stdout",
     "output_type": "stream",
     "text": [
      "LangSmith 추적을 시작합니다.\n",
      "[프로젝트명]\n",
      "CH00-RAG-Chatbot\n"
     ]
    }
   ],
   "source": [
    "# LangSmith 추적을 설정합니다. https://smith.langchain.com\n",
    "# !pip install langchain-teddynote\n",
    "from langchain_teddynote import logging\n",
    "\n",
    "# 프로젝트 이름을 입력합니다.\n",
    "logging.langsmith(\"CH00-RAG-Chatbot\")"
   ]
  },
  {
   "cell_type": "code",
   "execution_count": 4,
   "id": "7edd4ece",
   "metadata": {},
   "outputs": [],
   "source": [
    "OLLAMA_BASE_URL = \"http://localhost:11434\" # Ollama 서버 주소\n",
    "OLLAMA_CHAT_MODEL = \"ollama-ko-0710:latest\" # Ollama에서 실행중인 모델 이름"
   ]
  },
  {
   "cell_type": "code",
   "execution_count": 10,
   "id": "86be3dbd",
   "metadata": {},
   "outputs": [],
   "source": [
    "# 문서 출력 도우미 함수\n",
    "def pretty_print_docs(docs):\n",
    "    print(\n",
    "        f\"\\n{'-' * 100}\\n\".join(\n",
    "            [f\"Document {i+1}:\\n\\n\" + d.page_content for i, d in enumerate(docs)]\n",
    "        )\n",
    "    )\n",
    "    "
   ]
  },
  {
   "cell_type": "markdown",
   "id": "a20c3363",
   "metadata": {},
   "source": [
    "## 기본 버전"
   ]
  },
  {
   "cell_type": "code",
   "execution_count": 4,
   "id": "0fbbe2e8",
   "metadata": {},
   "outputs": [],
   "source": [
    "def general_llm():\n",
    "    # 3. 텍스트 청크 분할 (chunk_size=1000, chunk_overlap=50)\n",
    "    text_splitter = RecursiveCharacterTextSplitter(chunk_size=500, chunk_overlap=100)\n",
    "    loader = TextLoader(\"./data/text.txt\", encoding=\"utf-8\")\n",
    "    split_docs = loader.load_and_split(text_splitter)\n",
    "    model_name = \"intfloat/multilingual-e5-large-instruct\"\n",
    "    hf_embeddings = HuggingFaceEmbeddings(\n",
    "        model_name=model_name,\n",
    "        model_kwargs={\"device\": \"cuda\"},  # cuda, cpu\n",
    "        encode_kwargs={\"normalize_embeddings\": True},\n",
    "    )\n",
    "\n",
    "    db = FAISS.from_documents(documents=split_docs, embedding=hf_embeddings)\n",
    "\n",
    "    # 5. 리트리버 생성\n",
    "    retriever = db.as_retriever(\n",
    "        search_type=\"mmr\", search_kwargs={\"k\": 10, \"lambda_mult\": 0.25, \"fetch_k\": 20}\n",
    "    )\n",
    "\n",
    "    template = \"\"\"당신은 유용한 AI 어시스턴트입니다. 사용자의 질의에 대해 친절하고 정확하게 답변해야 합니다.\n",
    "    You are a helpful AI assistant, you'll need to answer users' queries in a friendly and accurate manner.\n",
    "    모든 대답은 반드시 한국말로 대답해주세요.\n",
    "    \n",
    "    문서 내용:\n",
    "    {context}\n",
    "    질문: {question}\n",
    "    답변:\"\"\"\n",
    "    prompt = PromptTemplate(template=template, input_variables=[\"context\", \"question\"])\n",
    "    \n",
    "    # # 7. Ollama LLM 초기화\n",
    "    # llm = OllamaLLM(model=OLLAMA_CHAT_MODEL, base_url=OLLAMA_BASE_URL,temperature=1, max_tokens=1024)\n",
    "    llm = ChatOpenAI(model_name=\"gpt-4.1-mini\", temperature=0.7, max_tokens=1024)\n",
    "\n",
    "    # # 8. RAG 체인 생성\n",
    "    chain = RetrievalQA.from_chain_type(\n",
    "        llm=llm,\n",
    "        chain_type=\"stuff\",\n",
    "        retriever=retriever,\n",
    "        return_source_documents=True,\n",
    "        chain_type_kwargs={\"prompt\": prompt}\n",
    "    )\n",
    "\n",
    "    result = chain.invoke({\"query\": \"삼성전자 상반기 주가 실적?\"})\n",
    "    answer = result[\"result\"]\n",
    "    return answer"
   ]
  },
  {
   "cell_type": "code",
   "execution_count": 5,
   "id": "9c1ad6d6",
   "metadata": {},
   "outputs": [
    {
     "data": {
      "text/plain": [
       "'삼성전자의 2024년 상반기 주가 실적은 전반적으로 상승세를 보이고 있습니다. 9월 중순 기준으로 삼성전자 주가는 8만원대에 근접하며, 16일에는 전날보다 3.66% 오른 7만9300원에 거래를 마감했습니다. 투자자 중 외국인과 기관이 대규모로 삼성전자 주식을 매수하며 주가 상승을 견인했습니다. 특히 외국인은 하루 동안 1조 원 이상을 매수했고, 기관도 약 692억 원어치를 순매수했습니다. \\n\\n영업 실적 측면에서는 삼성전자가 올해 상반기 국내 1위 영업이익을 기록한 SK하이닉스와 함께 반도체 업종의 강세가 두드러졌습니다. 미래에셋증권은 삼성전자의 올해와 내년 영업이익 전망치를 각각 상향 조정했으며, 주가 목표도 상승시켰습니다. 반도체 공급 부족과 고대역폭 메모리(HBM) 생산 확대가 메모리 반도체 가격 상승을 이끌면서 실적 개선에 긍정적인 영향을 미치고 있습니다.\\n\\n요약하자면, 삼성전자 주가는 외국인과 기관의 강한 매수세에 힘입어 상반기 이후 꾸준히 상승 중이며, 반도체 실적 개선과 공급 제한에 따른 가격 상승 기대감이 주가 상승을 뒷받침하고 있습니다.'"
      ]
     },
     "execution_count": 5,
     "metadata": {},
     "output_type": "execute_result"
    }
   ],
   "source": [
    "general_llm()"
   ]
  }
 ],
 "metadata": {
  "kernelspec": {
   "display_name": "langchain-kr-qU3nSgPx-py3.11",
   "language": "python",
   "name": "python3"
  },
  "language_info": {
   "codemirror_mode": {
    "name": "ipython",
    "version": 3
   },
   "file_extension": ".py",
   "mimetype": "text/x-python",
   "name": "python",
   "nbconvert_exporter": "python",
   "pygments_lexer": "ipython3",
   "version": "3.11.3"
  }
 },
 "nbformat": 4,
 "nbformat_minor": 5
}
