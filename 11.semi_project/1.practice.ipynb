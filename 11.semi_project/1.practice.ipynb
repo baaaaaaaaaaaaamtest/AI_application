{
 "cells": [
  {
   "cell_type": "markdown",
   "id": "d4df572d",
   "metadata": {},
   "source": [
    "# LangGraph practice#1 구성도 \n",
    "\n",
    "![구성도](/home/ansgyqja/AI_application/images/1.practice.png)\n"
   ]
  },
  {
   "cell_type": "code",
   "execution_count": 5,
   "id": "b362a993",
   "metadata": {},
   "outputs": [],
   "source": [
    "import os,sys\n",
    "sys.path.append(os.path.abspath(os.path.join(os.path.dirname('utils'), '..')))\n",
    "from module.utils import * \n",
    "from module.prompt import * "
   ]
  },
  {
   "cell_type": "markdown",
   "id": "6d188670",
   "metadata": {},
   "source": [
    "## utils 에서 불러오기"
   ]
  },
  {
   "cell_type": "code",
   "execution_count": 6,
   "id": "3649d0ef",
   "metadata": {},
   "outputs": [],
   "source": [
    "# llm = get_gpt()\n",
    "loader = get_pdf_loader()\n",
    "text = get_text_splitter()\n",
    "docs = get_docs(loader,text)\n",
    "embedding = get_embedding()\n",
    "retriever = get_retriever(docs=docs,embedding=embedding,k=5)\n",
    "retriever_tool = get_retriever_tool(retriever=retriever)\n",
    "tools = [retriever_tool]\n",
    "tool_node = get_tool_node(retriever_tool)\n",
    "# tavily = get_tavily_tool()\n",
    "# tool = TavilySearch(max_results=3)\n",
    "# tool_node = ToolNode(tools)\n",
    "# tool_node = get_tool_node(tool)\n",
    "\n"
   ]
  },
  {
   "cell_type": "markdown",
   "id": "b677561b",
   "metadata": {},
   "source": [
    "### State 생성"
   ]
  },
  {
   "cell_type": "code",
   "execution_count": 7,
   "id": "19aab165",
   "metadata": {},
   "outputs": [],
   "source": [
    "from typing import TypedDict, Annotated, List, Literal\n",
    "from langgraph.graph.message import add_messages\n",
    "from langgraph.graph import StateGraph, START, END\n",
    "\n",
    "class State(TypedDict):\n",
    "    question : Annotated[list,add_messages] \n",
    "    answer : Annotated[str,\"Answer\"]\n",
    "    is_relevant : Annotated[str,\"yes or no\"]\n",
    "    messages : Annotated[list,add_messages]\n",
    "\n"
   ]
  },
  {
   "cell_type": "code",
   "execution_count": 11,
   "id": "04fe6142",
   "metadata": {},
   "outputs": [
    {
     "name": "stdout",
     "output_type": "stream",
     "text": [
      "content='' additional_kwargs={'function_call': {'name': 'pdf_search', 'arguments': '{\"query\": \"\\\\uc0bc\\\\uc131\\\\uc804\\\\uc790 \\\\uac1c\\\\ubc1c AI\"}'}} response_metadata={'prompt_feedback': {'block_reason': 0, 'safety_ratings': []}, 'finish_reason': 'STOP', 'model_name': 'gemini-2.5-flash-lite', 'safety_ratings': []} id='run--1aa78b07-3d34-426a-87b4-b1fedc36d6fd-0' tool_calls=[{'name': 'pdf_search', 'args': {'query': '삼성전자 개발 AI'}, 'id': 'f9da38fa-121b-4caa-bbca-eb2918bcc3cc', 'type': 'tool_call'}] usage_metadata={'input_tokens': 52, 'output_tokens': 18, 'total_tokens': 70, 'input_token_details': {'cache_read': 0}}\n"
     ]
    }
   ],
   "source": [
    "query= '삼성전자 개발 AI'\n",
    "llm = get_gemini()\n",
    "llm_with_tools=llm.bind_tools(tools)\n",
    "messages = llm_with_tools.invoke(query)\n",
    "print(messages)"
   ]
  },
  {
   "cell_type": "markdown",
   "id": "af5d95fb",
   "metadata": {},
   "source": [
    "### Node 생성"
   ]
  },
  {
   "cell_type": "code",
   "execution_count": null,
   "id": "a2bdcc0c",
   "metadata": {},
   "outputs": [],
   "source": [
    "def agent(state:State)->State:\n",
    "    llm = get_gemini()\n",
    "    llm_with_tools=llm.bind_tools(tools)\n",
    "    messages = llm_with_tools.invoke(state['question'][-1].content)\n",
    "    return State({'messages':[messages]})\n",
    "\n",
    "def tool_relevant(state : State):\n",
    "    llm = get_gemini()\n",
    "    is_relevant = get_relevant(llm)\n",
    "    response = is_relevant.invoke(\n",
    "        {\"question\": state[\"question\"][-1].content, \"context\": state[\"messages\"]}\n",
    "    )\n",
    "    return State({\"is_relevant\":response.score})\n",
    "\n",
    "def is_retriever(state : State)-> Literal[\"generate\",\"re_write_node\"]:\n",
    "    is_relevant = state.get(\"is_relevant\",\"no\")\n",
    "    if is_relevant == \"yes\":\n",
    "        return \"generate\"\n",
    "    return \"re_write_node\"\n",
    "\n",
    "def generate(state:State)->State:\n",
    "    llm = get_gemini(temperature=0.5)\n",
    "    prompt = get_rag_pt()\n",
    "    chain = prompt | llm | StrOutputParser()\n",
    "    answer = chain.invoke({'question':state['question'][-1].content,'context':state['messages']})\n",
    "    return State({'answer':answer})\n",
    "\n",
    "# re write node\n",
    "def re_write_node(state : State) -> State:\n",
    "    chain = re_write_prompt | get_gemini(temperature=0.5) | StrOutputParser()\n",
    "    response = chain.invoke({\"question\": state['question']})\n",
    "    return State({\"question\":response})\n"
   ]
  },
  {
   "cell_type": "markdown",
   "id": "ef9ad274",
   "metadata": {},
   "source": [
    "### Graph 구성"
   ]
  },
  {
   "cell_type": "code",
   "execution_count": null,
   "id": "6e7b2929",
   "metadata": {},
   "outputs": [],
   "source": [
    "# from langgraph.prebuilt import tools_condition\n",
    "\n",
    "state_graph = StateGraph(State)\n",
    "state_graph.add_node('agent',agent)\n",
    "state_graph.add_node('tools',tool_node)\n",
    "state_graph.add_node('tool_relevant',tool_relevant)\n",
    "state_graph.add_node('generate',generate)\n",
    "state_graph.add_node('re_write_node',re_write_node)\n",
    "\n",
    "state_graph.add_edge(START,'agent')\n",
    "state_graph.add_conditional_edges(\n",
    "    source='agent',\n",
    "    path=tools_condition,\n",
    ")\n",
    "state_graph.add_edge('tools','tool_relevant')\n",
    "state_graph.add_conditional_edges(\n",
    "    source='tool_relevant',\n",
    "    path=is_retriever,\n",
    ")\n",
    "state_graph.add_edge('re_write_node','agent')\n",
    "state_graph.add_edge('generate',END)\n",
    "state_graph.add_edge('agent',END)\n",
    "graph = state_graph.compile(checkpointer=get_check_pointer())\n"
   ]
  },
  {
   "cell_type": "code",
   "execution_count": null,
   "id": "db45e2ed",
   "metadata": {},
   "outputs": [],
   "source": [
    "mermaid_code = graph.get_graph().draw_mermaid()\n",
    "print(mermaid_code)"
   ]
  },
  {
   "cell_type": "markdown",
   "id": "aaa24e49",
   "metadata": {},
   "source": [
    "### 실행부"
   ]
  },
  {
   "cell_type": "code",
   "execution_count": null,
   "id": "cef53769",
   "metadata": {},
   "outputs": [],
   "source": [
    "config = get_runnable_config(thread_id=1)\n",
    "# config 설정(재귀 최대 횟수, thread_id)\n",
    "\n",
    "# question= '엔트로피 투자 금액'\n",
    "question = '코스피 역대 최고점?'\n",
    "# 질문 입력\n",
    "inputs = State({'question':question})\n",
    "# invoke_graph(graph, inputs, config)\n",
    "stream_graph(graph, inputs, config)"
   ]
  }
 ],
 "metadata": {
  "kernelspec": {
   "display_name": "langchain-kr-EGILWU2T-py3.11",
   "language": "python",
   "name": "python3"
  },
  "language_info": {
   "codemirror_mode": {
    "name": "ipython",
    "version": 3
   },
   "file_extension": ".py",
   "mimetype": "text/x-python",
   "name": "python",
   "nbconvert_exporter": "python",
   "pygments_lexer": "ipython3",
   "version": "3.11.11"
  }
 },
 "nbformat": 4,
 "nbformat_minor": 5
}
