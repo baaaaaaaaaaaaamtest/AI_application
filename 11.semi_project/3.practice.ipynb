{
 "cells": [
  {
   "cell_type": "markdown",
   "id": "47d083f5",
   "metadata": {},
   "source": [
    "# LangGraph practice # 3\n",
    "\n"
   ]
  },
  {
   "cell_type": "markdown",
   "id": "7478de21",
   "metadata": {},
   "source": [
    "## 구성도"
   ]
  },
  {
   "cell_type": "code",
   "execution_count": 1,
   "id": "fbabb7fa",
   "metadata": {},
   "outputs": [],
   "source": [
    "import os,sys\n",
    "sys.path.append(os.path.abspath(os.path.join(os.path.dirname('utils'), '..')))\n",
    "from module.utils import * \n",
    "from module.prompt import * \n",
    "from module.custom_model import *"
   ]
  },
  {
   "cell_type": "code",
   "execution_count": 2,
   "id": "81a9b5db",
   "metadata": {},
   "outputs": [],
   "source": [
    "from typing import TypedDict, Annotated, List, Literal\n",
    "from langgraph.graph.message import add_messages\n",
    "from langgraph.graph import StateGraph, START, END\n",
    "from langchain_core.messages import AIMessage,HumanMessage"
   ]
  },
  {
   "cell_type": "code",
   "execution_count": 3,
   "id": "84575c54",
   "metadata": {},
   "outputs": [
    {
     "name": "stdout",
     "output_type": "stream",
     "text": [
      "LangSmith 추적을 시작합니다.\n",
      "[프로젝트명]\n",
      "practice_3\n"
     ]
    }
   ],
   "source": [
    "strt_langsmith('practice_3')"
   ]
  },
  {
   "cell_type": "code",
   "execution_count": 4,
   "id": "0e9a08b5",
   "metadata": {},
   "outputs": [],
   "source": [
    "\n",
    "class State(TypedDict):\n",
    "    messages : Annotated[list,add_messages] # 상호 대화"
   ]
  },
  {
   "cell_type": "code",
   "execution_count": 5,
   "id": "b12c3ac6",
   "metadata": {},
   "outputs": [],
   "source": [
    "def _swap_roles(messages):\n",
    "    # 메시지의 역할을 교환: 시뮬레이션 사용자 단계에서 메시지 타입을 AI -> Human, Human -> AI 로 교환합니다.\n",
    "    new_messages = []\n",
    "    for m in messages:\n",
    "        if isinstance(m, AIMessage):\n",
    "            # AIMessage 인 경우, HumanMessage 로 변환합니다.\n",
    "            new_messages.append(HumanMessage(content=m.content))\n",
    "        else:\n",
    "            # HumanMessage 인 경우, AIMessage 로 변환합니다.\n",
    "            new_messages.append(AIMessage(content=m.content))\n",
    "    return new_messages\n",
    "\n",
    "def ai_response(messages)->list:\n",
    "    prompt = get_prompt_assistant()\n",
    "    llm = get_gemini()\n",
    "    chain = prompt | llm | StrOutputParser()\n",
    "    result = chain.invoke({'messages':messages})\n",
    "    return result\n",
    "\n",
    "def persona_response(messages)->list:\n",
    "    swap_messages = _swap_roles(messages)\n",
    "    prompt = get_prompt_persona()\n",
    "    llm = get_gemini()\n",
    "    chain = prompt | llm | StrOutputParser()\n",
    "    return chain.invoke({'messages':swap_messages})"
   ]
  },
  {
   "cell_type": "code",
   "execution_count": 8,
   "id": "458127ab",
   "metadata": {},
   "outputs": [],
   "source": [
    "def ai_counselor(state : State) -> State:\n",
    "    \"\"\"\n",
    "        고객의 요청을 응답해주는 상담 챗봇\n",
    "    \"\"\"\n",
    "    messages = state['messages']\n",
    "    response = ai_response(messages)\n",
    "    return State({'messages':[AIMessage(content=response)]})\n",
    "\n",
    "\n",
    "def persona_guest(state : State) -> State:\n",
    "    \"\"\"\n",
    "        컴플레인 요청을 하는 손님 역할 \n",
    "    \"\"\"\n",
    "    messages = state['messages']\n",
    "    response = persona_response(messages)\n",
    "    return State({'messages':[HumanMessage(content=response)]})\n",
    "\n",
    "def should_coninue(state:State)-> Literal['ai_counselor',END]:\n",
    "    messages=state['messages']\n",
    "    latest_messages = messages[-1].content\n",
    "    if len(messages) > 10:\n",
    "        return END\n",
    "    if latest_messages == 'FINISHED':\n",
    "        return END\n",
    "    else:\n",
    "        return 'ai_counselor'\n"
   ]
  },
  {
   "cell_type": "code",
   "execution_count": 9,
   "id": "b0ebcc34",
   "metadata": {},
   "outputs": [],
   "source": [
    "state_graph = StateGraph(State)\n",
    "state_graph.add_node('ai_counselor',ai_counselor)\n",
    "state_graph.add_node('persona_guest',persona_guest)\n",
    "\n",
    "state_graph.add_edge(START,'ai_counselor')\n",
    "state_graph.add_edge('ai_counselor','persona_guest')\n",
    "state_graph.add_conditional_edges(\n",
    "    source='persona_guest',\n",
    "    path=should_coninue\n",
    ")\n",
    "memory = get_check_pointer()\n",
    "graph = state_graph.compile(checkpointer=memory)"
   ]
  },
  {
   "cell_type": "code",
   "execution_count": 27,
   "id": "b1e709d1",
   "metadata": {},
   "outputs": [],
   "source": [
    "# visualize_graph(graph)\n",
    "# print(graph.get_graph().draw_mermaid())"
   ]
  },
  {
   "cell_type": "code",
   "execution_count": null,
   "id": "b8b0b430",
   "metadata": {},
   "outputs": [
    {
     "name": "stdout",
     "output_type": "stream",
     "text": [
      "{'messages': [HumanMessage(content='작년에 발생한 지연으로인한 피해보상요구한다', additional_kwargs={}, response_metadata={}, id='d92e5803-8626-46c6-b92f-5ad366a91187'), AIMessage(content='고객님, 작년에 발생한 지연으로 인해 불편을 겪으신 점 진심으로 사과드립니다.\\n\\n피해 보상 요구에 대해 안내해 드리겠습니다.\\n\\n먼저, 정확한 보상 처리를 위해 몇 가지 정보가 필요합니다. 번거로우시겠지만 아래 내용을 확인하시어 회신 부탁드립니다.\\n\\n1.  **예약 번호 또는 항공권 번호:**\\n2.  **탑승하신 항공편 정보 (출발지, 도착지, 날짜, 항공편명):**\\n3.  **지연 발생 당시 상황에 대한 간략한 설명 (예: 지연 시간, 지연 사유 등):**\\n4.  **요청하시는 보상의 종류 (예: 환불, 마일리지 적립, 할인 쿠폰 등):**\\n5.  **연락처 (전화번호, 이메일 주소):**\\n\\n위 정보를 보내주시면, 저희 보상팀에서 해당 내용을 검토하여 신속하게 처리해 드리겠습니다.\\n\\n보상 규정 및 절차에 따라 처리되며, 경우에 따라 추가적인 서류 제출을 요청드릴 수도 있습니다.\\n\\n다시 한번 불편을 드린 점 사과드리며, 고객님의 이해와 협조에 감사드립니다.', additional_kwargs={}, response_metadata={}, id='9ab843bc-58dc-4c62-a286-92d02e2c79c4'), HumanMessage(content='제주도행 항공편이었고, 작년 7월쯤이었어요. 예약 번호는 기억이 안 나는데, 항공권 번호는 123-4567890123 입니다. 항공편명은 대한항공 KE123편이었고, 제주에서 서울로 오는 편이었습니다.\\n\\n당시 항공편이 6시간 이상 지연되어서 예정된 일정을 모두 망쳤어요. 그래서 전액 환불을 요구합니다.', additional_kwargs={}, response_metadata={}, id='5549a222-1fe0-4a1e-9d15-103bed285eaf'), AIMessage(content='고객님, 상세한 정보 제공에 감사드립니다.\\n\\n작년 7월경 대한항공 KE123편 (제주 출발, 서울 도착) 항공편이 6시간 이상 지연되어 예정된 일정을 망치신 점에 대해 다시 한번 사과드립니다.\\n\\n제공해주신 항공권 번호 (123-4567890123)를 바탕으로 해당 항공편의 지연 관련 기록을 확인하고, 고객님의 전액 환불 요청에 대해 검토를 진행하겠습니다.\\n\\n보상팀에서 고객님의 상황을 면밀히 검토한 후, 가능한 조치에 대해 안내해 드리기 위해 **영업일 기준 3~5일 이내**에 고객님께 직접 연락드릴 예정입니다.\\n\\n혹시 추가적으로 지연으로 인해 발생한 구체적인 피해 내용 (예: 숙박비, 교통비 등 직접적인 추가 지출이 발생한 경우)이 있으시다면, 해당 증빙 서류를 준비해 주시면 보상 검토 시 참고할 수 있습니다. (필수는 아니며, 추후 요청드릴 수도 있습니다.)\\n\\n다시 한번 불편을 드린 점 사과드리며, 신속하게 처리될 수 있도록 최선을 다하겠습니다.', additional_kwargs={}, response_metadata={}, id='bf84bc3e-0027-4ec8-9dc1-7384536f2589'), HumanMessage(content='알겠습니다. 연락 기다리겠습니다.\\n\\nFINISHED', additional_kwargs={}, response_metadata={}, id='78eb6265-cd65-4fde-b1f9-98899cf0f48d'), AIMessage(content='네, 고객님. 연락 기다려 주시면 감사하겠습니다.\\n\\n저희 보상팀에서 최대한 신속하게 검토하여 연락드리겠습니다.\\n\\n다시 한번 불편을 드린 점 사과드립니다.', additional_kwargs={}, response_metadata={}, id='fa09379b-343a-4838-9177-1aee72fc3e04'), HumanMessage(content='FINISHED', additional_kwargs={}, response_metadata={}, id='e6d2e8c8-70cd-43ef-8317-b04c154815fe')]}\n"
     ]
    }
   ],
   "source": [
    "uuid = get_random_uuid()\n",
    "config = get_runnable_config(recursion_limit=10,thread_id=uuid)\n",
    "\n",
    "query = '작년에 발생한 지연으로인한 피해보상요구한다'\n",
    "inputs = State({'messages':[HumanMessage(content=query)]})\n",
    "# for event in graph.stream(inputs,config):\n",
    "#     print(event)\n",
    "event = graph.invoke(inputs,config)\n",
    "print(event)\n",
    "# invoke_graph(graph,inputs,config)\n",
    "# stream_graph(graph,inputs,config)"
   ]
  },
  {
   "cell_type": "code",
   "execution_count": null,
   "id": "d0bd6ccf",
   "metadata": {},
   "outputs": [],
   "source": []
  }
 ],
 "metadata": {
  "kernelspec": {
   "display_name": "langchain-kr-EGILWU2T-py3.11",
   "language": "python",
   "name": "python3"
  },
  "language_info": {
   "codemirror_mode": {
    "name": "ipython",
    "version": 3
   },
   "file_extension": ".py",
   "mimetype": "text/x-python",
   "name": "python",
   "nbconvert_exporter": "python",
   "pygments_lexer": "ipython3",
   "version": "3.11.11"
  }
 },
 "nbformat": 4,
 "nbformat_minor": 5
}
