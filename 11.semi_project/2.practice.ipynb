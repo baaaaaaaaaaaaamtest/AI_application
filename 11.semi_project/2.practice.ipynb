{
 "cells": [
  {
   "cell_type": "markdown",
   "id": "560c915f",
   "metadata": {},
   "source": [
    "# LangGraph practice#1 구성도 \n",
    "\n",
    "![구성도]()\n"
   ]
  },
  {
   "cell_type": "code",
   "execution_count": 1,
   "id": "efde9b06",
   "metadata": {},
   "outputs": [],
   "source": [
    "import os,sys\n",
    "sys.path.append(os.path.abspath(os.path.join(os.path.dirname('utils'), '..')))\n",
    "from module.utils import * \n",
    "from module.prompt import * "
   ]
  },
  {
   "cell_type": "code",
   "execution_count": 3,
   "id": "b0e5046a",
   "metadata": {},
   "outputs": [
    {
     "name": "stdout",
     "output_type": "stream",
     "text": [
      "LangSmith 추적을 시작합니다.\n",
      "[프로젝트명]\n",
      "practive_2\n"
     ]
    }
   ],
   "source": [
    "strt_langsmith('practive_2')"
   ]
  },
  {
   "cell_type": "code",
   "execution_count": null,
   "id": "2a370887",
   "metadata": {},
   "outputs": [],
   "source": [
    "loader = get_pdf_loader()\n",
    "splitter = get_text_splitter()\n",
    "docs = get_docs(loader,splitter)\n",
    "embedding = get_embedding()\n",
    "retriever = get_retriever(docs,embedding)\n",
    "retriever_tool = get_retriever_tool(retriever)"
   ]
  },
  {
   "cell_type": "code",
   "execution_count": 6,
   "id": "d3480a33",
   "metadata": {},
   "outputs": [],
   "source": [
    "from typing import TypedDict, Annotated, List, Literal\n",
    "from langgraph.graph.message import add_messages\n",
    "from langgraph.graph import StateGraph, START, END\n",
    "\n",
    "class State(TypedDict):\n",
    "    question : Annotated[list,add_messages] \n",
    "    answer : Annotated[str,\"Answer\"]\n",
    "    is_relevant : Annotated[str,\"yes or no\"]\n",
    "    messages : Annotated[list,add_messages]\n",
    "    document : Annotated[list,'grade_document']\n"
   ]
  },
  {
   "cell_type": "code",
   "execution_count": 7,
   "id": "1ee9dee1",
   "metadata": {},
   "outputs": [],
   "source": [
    "def routing(state : State)->Literal['retriever','web_search',END]:\n",
    "    \"\"\" \n",
    "        문서와 연관성이 있는지 확인, 연관성 없는경우 웹검색 수행\n",
    "    \"\"\"\n",
    "    query = state['question'][-1].content\n",
    "    messages = 'RAG'\n",
    "    if messages == 'RAG':\n",
    "        return 'retriever'\n",
    "    elif messages == 'WEB':\n",
    "        return 'web_search'\n",
    "    else:\n",
    "        return END\n",
    "    \n",
    "def web_search(state : State)->State:\n",
    "    \"\"\"\n",
    "        tavily search 활용\n",
    "    \"\"\"\n",
    "    query = state['question'][-1].content\n",
    "    messages = ''\n",
    "    return State({'messages':messages})\n",
    "\n",
    "def retriever(state:State) -> State :\n",
    "    \"\"\" \n",
    "        retriever 에서 데이터 검색 수행 \n",
    "    \"\"\"\n",
    "    query = state['question'][-1].content\n",
    "    messages = ''\n",
    "    return State({'messages':messages})\n",
    "\n",
    "def grade_document(state : State) -> State :\n",
    "    \"\"\" \n",
    "        검색된 데이터 별로 관련성 평가를 통해 문서를 걸러내는 작업\n",
    "    \"\"\"\n",
    "    query = state['question']\n",
    "    document = ''\n",
    "    return State({'document':document})\n",
    "\n",
    "def is_grade_decision(state : State)->Literal[\"re_write_query\",\"generate\"]:\n",
    "    \"\"\" \n",
    "        grade_document size가 0개 경우 query 변경하여 routing 부터 재수행\n",
    "    \"\"\"\n",
    "    if len(state['document'])  == 0 :\n",
    "        return 're_write_query'\n",
    "    return  'generate'\n",
    "\n",
    "def re_write_query(state : State) -> State :\n",
    "    \"\"\" \n",
    "        question  을 새로 작성하여 question 에 저장하고 routing 재수행\n",
    "    \"\"\"\n",
    "    query = state['question'][-1].content\n",
    "    re_query = ''\n",
    "    return State({'question':re_query})\n",
    "\n",
    "\n",
    "def generate(state : State)-> State:\n",
    "    \"\"\"\n",
    "        web_search or relevant에서 제공해준 데이터를 기반으로 llm context 증강하여 데이터 생성\n",
    "    \"\"\"\n",
    "\n",
    "    query = state['question'][-1].content\n",
    "    context = state['document']\n",
    "    answer = '' \n",
    "    return State({'answer':answer})\n",
    "\n",
    "def is_hallucination(state : State ) -> Literal['is_relevant','general']:\n",
    "    \"\"\"\n",
    "        문서 관련성 평가: 검색된 문서가 질문에 연관되었는지 여부 -> question-retrieval\n",
    "\n",
    "        답변 관련성 평가: 생성된 답변이 질문을 잘 해결하는지 여부 -> question-answer\n",
    "\n",
    "        답변 사실 근거 평가: 생성된 답변이 사실에 근거하는지 여부 -> retrieval-answer\n",
    "        'retrieval-answer' 평가\n",
    "    \"\"\"\n",
    "    result = 'yes'\n",
    "    if result == 'yes':\n",
    "        return 'is_relevant'\n",
    "    else:\n",
    "        return 'general'\n",
    "\n",
    "def is_relevant(state : State ) -> Literal['re_write_query',END]:\n",
    "    \"\"\"\n",
    "        문서 관련성 평가: 검색된 문서가 질문에 연관되었는지 여부 -> question-retrieval\n",
    "\n",
    "        답변 관련성 평가: 생성된 답변이 질문을 잘 해결하는지 여부 -> question-answer\n",
    "\n",
    "        답변 사실 근거 평가: 생성된 답변이 사실에 근거하는지 여부 -> retrieval-answer\n",
    "\n",
    "        'question-answer' 평가\n",
    "    \"\"\"\n",
    "    result = 'yes'\n",
    "    if result == 'yes':\n",
    "        return 'is_relevant'\n",
    "    else:\n",
    "        return 'general'"
   ]
  },
  {
   "cell_type": "code",
   "execution_count": null,
   "id": "d2fa546d",
   "metadata": {},
   "outputs": [],
   "source": [
    "state_graph = StateGraph(State)\n"
   ]
  }
 ],
 "metadata": {
  "kernelspec": {
   "display_name": "langchain-kr-EGILWU2T-py3.11",
   "language": "python",
   "name": "python3"
  },
  "language_info": {
   "codemirror_mode": {
    "name": "ipython",
    "version": 3
   },
   "file_extension": ".py",
   "mimetype": "text/x-python",
   "name": "python",
   "nbconvert_exporter": "python",
   "pygments_lexer": "ipython3",
   "version": "3.11.11"
  }
 },
 "nbformat": 4,
 "nbformat_minor": 5
}
