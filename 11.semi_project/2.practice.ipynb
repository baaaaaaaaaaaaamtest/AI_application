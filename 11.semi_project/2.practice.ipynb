{
 "cells": [
  {
   "cell_type": "markdown",
   "id": "560c915f",
   "metadata": {},
   "source": [
    "# LangGraph practice#2 구성도 \n",
    "\n",
    "![구성도](/home/ansgyqja/AI_application/images/2.practice.png)\n"
   ]
  },
  {
   "cell_type": "markdown",
   "id": "ccf19447",
   "metadata": {},
   "source": [
    "### 기본 import"
   ]
  },
  {
   "cell_type": "code",
   "execution_count": 1,
   "id": "efde9b06",
   "metadata": {},
   "outputs": [],
   "source": [
    "import os,sys\n",
    "sys.path.append(os.path.abspath(os.path.join(os.path.dirname('utils'), '..')))\n",
    "from module.utils import * \n",
    "from module.prompt import * \n",
    "from module.custom_model import *\n"
   ]
  },
  {
   "cell_type": "markdown",
   "id": "60a837ed",
   "metadata": {},
   "source": [
    "### lang smith 추적 "
   ]
  },
  {
   "cell_type": "code",
   "execution_count": 2,
   "id": "b0e5046a",
   "metadata": {},
   "outputs": [
    {
     "name": "stdout",
     "output_type": "stream",
     "text": [
      "LangSmith 추적을 시작합니다.\n",
      "[프로젝트명]\n",
      "practive_2\n"
     ]
    }
   ],
   "source": [
    "strt_langsmith('practive_2')"
   ]
  },
  {
   "cell_type": "markdown",
   "id": "44758864",
   "metadata": {},
   "source": [
    "### retriever 도구"
   ]
  },
  {
   "cell_type": "code",
   "execution_count": 3,
   "id": "2a370887",
   "metadata": {},
   "outputs": [],
   "source": [
    "loader = get_pdf_loader()\n",
    "splitter = get_text_splitter()\n",
    "docs = get_docs(loader,splitter)\n",
    "embedding = get_embedding()\n",
    "retrieve = get_retriever(docs,embedding)\n",
    "# retriever_tool = get_retriever_tool(retrieve)"
   ]
  },
  {
   "cell_type": "markdown",
   "id": "6208b2b3",
   "metadata": {},
   "source": [
    "### State 설정"
   ]
  },
  {
   "cell_type": "code",
   "execution_count": 4,
   "id": "d3480a33",
   "metadata": {},
   "outputs": [],
   "source": [
    "from typing import TypedDict, Annotated, List, Literal\n",
    "from langgraph.graph.message import add_messages\n",
    "from langgraph.graph import StateGraph, START, END\n",
    "\n",
    "class State(TypedDict):\n",
    "    question : Annotated[list,add_messages]      # 사용자 질의 \n",
    "    answer : Annotated[str,\"Answer\"]             # 최종 답변\n",
    "    is_relevant : Annotated[str,\"yes or no\"]     # 연관성 검사\n",
    "    messages : Annotated[str,'tmp_message']      # retriver 된 내용 \n",
    "    document : Annotated[list,'grade_document']  # 필터링된 doc \n"
   ]
  },
  {
   "cell_type": "markdown",
   "id": "e2fdbf29",
   "metadata": {},
   "source": [
    "### 기본 노드"
   ]
  },
  {
   "cell_type": "code",
   "execution_count": 5,
   "id": "7bf55a53",
   "metadata": {},
   "outputs": [],
   "source": [
    "def re_write_query(state : State) -> State :\n",
    "    \"\"\" \n",
    "        question  을 새로 작성하여 question 에 저장하고 routing 재수행\n",
    "    \"\"\"\n",
    "    print('**'*50)\n",
    "    print('re_write_query')\n",
    "    print('**'*50)\n",
    "    query = state['question'][-1].content\n",
    "    chain = get_prompt_re_write()|get_gemini()|StrOutputParser()\n",
    "    re_query = chain.invoke({'question':query})\n",
    "    return State({'question':re_query})\n",
    "\n",
    "def web_search(state : State)->State:\n",
    "    \"\"\"\n",
    "        tavily search 활용\n",
    "    \"\"\"\n",
    "    print('**'*50)\n",
    "    print('web_search')\n",
    "    print('**'*50)\n",
    "    taviliy = get_tavily_tool()\n",
    "    query = state['question'][-1].content\n",
    "    messages = taviliy.search(query)\n",
    "    result = convert_search_str(messages)\n",
    "    return State({'messages':result})\n",
    "\n",
    "\n",
    "def retriever(state:State) -> State :\n",
    "    \"\"\" \n",
    "        retriever 에서 데이터 검색 수행 \n",
    "    \"\"\"\n",
    "    print('**'*50)\n",
    "    print('retriever')\n",
    "    print('**'*50)\n",
    "    query = state['question'][-1].content\n",
    "    messages = retrieve.invoke(query)\n",
    "    result = convert_docs_str(messages)\n",
    "    return State({'messages':result})\n",
    "\n",
    "def grade_document(state : State) -> State :\n",
    "    \"\"\" \n",
    "        검색된 데이터 별로 관련성 평가를 통해 문서를 걸러내는 작업\n",
    "    \"\"\"\n",
    "\n",
    "    print('**'*50)\n",
    "    print('grade_document')\n",
    "    print('**'*50)\n",
    "    query = state['question'][-1].content\n",
    "    # retriever 탐색\n",
    "    messages = state['messages']\n",
    "    # 수집 문서 docs 변환 \n",
    "\n",
    "    text_splitter=get_text_splitter()\n",
    "    docs = text_splitter.split_text(messages)\n",
    "    # chain 생성\n",
    "    llm = get_gemini()\n",
    "    structure_rotuer = llm.with_structured_output(GradeDocument)\n",
    "    prompt = get_prompt_grade()\n",
    "    chain = prompt | structure_rotuer \n",
    "    # grade_document 최종\n",
    "    filtered_docs = []\n",
    "    for doc in docs:\n",
    "        print(doc)\n",
    "        score = chain.invoke({'question':query,'document':doc})\n",
    "        print(score)\n",
    "        if score.datasource =='yes':\n",
    "            filtered_docs.append(doc)\n",
    "\n",
    "    return State({'document':filtered_docs})\n",
    "\n",
    "\n",
    "def generate(state : State)-> State:\n",
    "    \"\"\"\n",
    "        web_search or relevant에서 제공해준 데이터를 기반으로 llm context 증강하여 데이터 생성\n",
    "    \"\"\"\n",
    "    \n",
    "    print('**'*50)\n",
    "    print('generate')\n",
    "    print('**'*50)\n",
    "    query = state['question'][-1].content\n",
    "    # context = state['document']\n",
    "    context = state.get('document',\"\")\n",
    "    chain = get_prompt_rag() | get_gemini(temperature=0.5) | StrOutputParser()\n",
    "    answer = chain.invoke({'question':query,'context':context})\n",
    "    return State({'answer':answer})"
   ]
  },
  {
   "cell_type": "markdown",
   "id": "c34d358d",
   "metadata": {},
   "source": [
    "## 노드 분기 "
   ]
  },
  {
   "cell_type": "code",
   "execution_count": 6,
   "id": "1ee9dee1",
   "metadata": {},
   "outputs": [],
   "source": [
    "def routing(state : State)->Literal['retriever','web_search','generate']:\n",
    "    \"\"\" \n",
    "        문서와 연관성이 있는지 확인, 연관성 없는경우 웹검색 수행\n",
    "    \"\"\"\n",
    "\n",
    "    structure_rotuer = get_gemini().with_structured_output(RouteQuery)\n",
    "    chain = get_prompt_routing() | structure_rotuer \n",
    "   \n",
    "    query = state['question'][-1].content\n",
    "    messages = chain.invoke({'question':query})\n",
    "    print(messages.datasource)\n",
    "    if messages.datasource == 'vectorstore':\n",
    "        return 'retriever'\n",
    "    elif messages.datasource == 'web_search':\n",
    "        return 'web_search'\n",
    "    else:\n",
    "        return 'generate'\n",
    "    \n",
    "\n",
    "def is_grade_decision(state : State)->Literal[\"re_write_query\",\"generate\"]:\n",
    "    \"\"\" \n",
    "        grade_document size가 0개 경우 query 변경하여 routing 부터 재수행\n",
    "    \"\"\"\n",
    "    print('**'*50)\n",
    "    print('is_grade_decision')\n",
    "    print('**'*50)\n",
    "    if len(state['document'])  == 0 :\n",
    "        return 're_write_query'\n",
    "    return  'generate'\n",
    "\n",
    "\n",
    "def is_hallucination(state : State ) -> Literal['re_write_query',END,'generate']:\n",
    "    \"\"\"\n",
    "        문서 관련성 평가: 검색된 문서가 질문에 연관되었는지 여부 -> question-retrieval\n",
    "\n",
    "        답변 관련성 평가: 생성된 답변이 질문을 잘 해결하는지 여부 -> question-answer\n",
    "\n",
    "        답변 사실 근거 평가: 생성된 답변이 사실에 근거하는지 여부 -> retrieval-answer\n",
    "        'retrieval-answer' 평가\n",
    "    \"\"\"\n",
    "\n",
    "    print('**'*50)\n",
    "    print('is_hallucination')\n",
    "    print('**'*50)\n",
    "\n",
    "    structure_rotuer = get_gemini().with_structured_output(GradeHallucinations)\n",
    "    chain = get_prompt_hallucination() | structure_rotuer \n",
    "    query = state['question']\n",
    "    answer = state['answer']\n",
    "    # document = state['document']\n",
    "    document = state.get('document',\"\")\n",
    "    if len(document) == 0 :\n",
    "        return END\n",
    "    messages = chain.invoke({'answer':answer,'document':document})\n",
    "    if messages.datasource == 'yes':\n",
    "        _structure_rotuer = get_gemini().with_structured_output(GradeAnswer)\n",
    "        _chain = get_prompt_answer() | _structure_rotuer \n",
    "        messages = _chain.invoke({'answer':answer,'question':query})\n",
    "        messages.datasource\n",
    "        if messages.datasource == 'yes':\n",
    "            return END\n",
    "        else:\n",
    "            return 're_write_query'        \n",
    "    else:\n",
    "        return 'generate'\n"
   ]
  },
  {
   "cell_type": "markdown",
   "id": "776b312f",
   "metadata": {},
   "source": [
    "### node 검정"
   ]
  },
  {
   "cell_type": "code",
   "execution_count": 7,
   "id": "ebb3b39e",
   "metadata": {},
   "outputs": [
    {
     "name": "stdout",
     "output_type": "stream",
     "text": [
      "web_search\n"
     ]
    },
    {
     "data": {
      "text/plain": [
       "'web_search'"
      ]
     },
     "execution_count": 7,
     "metadata": {},
     "output_type": "execute_result"
    }
   ],
   "source": [
    "from langchain_core.messages import AIMessage,HumanMessage\n",
    "\n",
    "# routing 결과 확인\n",
    "question = '너 웹 검색 기능 가능하자나? '\n",
    "query = [HumanMessage(question)]\n",
    "# query = [AIMessage('AI Brief 에서 삼성전자가 만든 생성형 AI 의 이름은?')]\n",
    "\n",
    "# re_write_query({'question':query})\n",
    "\n",
    "routing({'question':query})\n",
    "\n",
    "# web_search({'question':query})\n",
    "\n",
    "# retriever({'question':query})\n",
    "\n",
    "# data = is_hallucination({'question':query,'answer': '안녕하세요, K님. 무엇을 도와드릴까요?'})\n",
    "\n",
    "# print(data)\n"
   ]
  },
  {
   "cell_type": "markdown",
   "id": "a095c1f1",
   "metadata": {},
   "source": [
    "## 그래프 구조 설계"
   ]
  },
  {
   "cell_type": "code",
   "execution_count": 8,
   "id": "d2fa546d",
   "metadata": {},
   "outputs": [],
   "source": [
    "state_graph = StateGraph(State)\n",
    "\n",
    "state_graph.add_node('re_write_query',re_write_query)\n",
    "state_graph.add_node('web_search',web_search)\n",
    "state_graph.add_node('retriever',retriever)\n",
    "state_graph.add_node('grade_document',grade_document)\n",
    "state_graph.add_node('generate',generate)\n",
    "\n",
    "state_graph.add_edge(START,'re_write_query')\n",
    "state_graph.add_conditional_edges(\n",
    "    source='re_write_query',\n",
    "    path=routing,\n",
    "    path_map={\n",
    "        'retriever':'retriever',\n",
    "        'web_search':'web_search',\n",
    "        'generate':'generate'\n",
    "    }\n",
    ")\n",
    "\n",
    "state_graph.add_edge('web_search','grade_document')\n",
    "state_graph.add_edge('retriever','grade_document')\n",
    "\n",
    "state_graph.add_conditional_edges(\n",
    "    source='grade_document',\n",
    "    path=is_grade_decision,\n",
    "    path_map={\n",
    "        're_write_query':'re_write_query',\n",
    "        'generate':'generate'\n",
    "    }\n",
    ")\n",
    "\n",
    "state_graph.add_conditional_edges(\n",
    "    source='generate',\n",
    "    path=is_hallucination,\n",
    "    path_map={\n",
    "        're_write_query':'re_write_query',\n",
    "        END:END,\n",
    "        'generate':'generate'\n",
    "    }\n",
    ")\n",
    "\n",
    "graph = state_graph.compile(checkpointer=get_check_pointer())\n"
   ]
  },
  {
   "cell_type": "markdown",
   "id": "c0635a49",
   "metadata": {},
   "source": [
    "## 시각화"
   ]
  },
  {
   "cell_type": "code",
   "execution_count": 9,
   "id": "bca614c2",
   "metadata": {},
   "outputs": [
    {
     "data": {
      "image/png": "[encoded data removed]",
      "text/plain": [
       "<IPython.core.display.Image object>"
      ]
     },
     "metadata": {},
     "output_type": "display_data"
    }
   ],
   "source": [
    "visualize_graph(graph)\n",
    "# print(graph.get_graph().draw_mermaid())"
   ]
  },
  {
   "cell_type": "markdown",
   "id": "4f55d0fb",
   "metadata": {},
   "source": [
    "### 핵심 \n",
    "\n",
    "1. adaptive agent 라우팅 기법 활용 & BaseModel 과 with_structured_output활용"
   ]
  },
  {
   "cell_type": "code",
   "execution_count": 10,
   "id": "9ad93374",
   "metadata": {},
   "outputs": [],
   "source": [
    "llm = get_gemini()\n",
    "structure_rotuer = llm.with_structured_output(RouteQuery)\n",
    "prompt = get_prompt_routing()\n",
    "chain = prompt | structure_rotuer \n",
    "question = '안녕 친구라는 이름의 영화 검색해줘'\n",
    "# question = 'AI Brief 에서 삼성전자가 만든 생성형 AI 의 이름은?'\n",
    "# print(chain.invoke({'question':question}))"
   ]
  },
  {
   "cell_type": "markdown",
   "id": "0cbac006",
   "metadata": {},
   "source": [
    "2. 관련성 여부 판단하여 문서 filtering 정리\n",
    "\n"
   ]
  },
  {
   "cell_type": "code",
   "execution_count": 11,
   "id": "b6e8ca3e",
   "metadata": {},
   "outputs": [
    {
     "name": "stdout",
     "output_type": "stream",
     "text": [
      "****************************************************************************************************\n",
      "retriever\n",
      "****************************************************************************************************\n",
      "3\n"
     ]
    }
   ],
   "source": [
    "from langchain_core.messages import AIMessage\n",
    "\n",
    "# Query 생성\n",
    "query = \"삼성전자 AI\"\n",
    "# query = 'AI Brief 에서 삼성전자가 만든 생성형 AI 의 이름은?'\n",
    "question = [AIMessage(query)]\n",
    "\n",
    "# retriever 탐색\n",
    "docs = retriever({'question':question})\n",
    "# print(docs)\n",
    "# separators = [\"<document>\",\"\\n\\n\", \"\\n\", \" \", \"\"]\n",
    "# text_splitter=get_text_splitter(separators=separators)\n",
    "\n",
    "# 수집 문서 docs 변환 \n",
    "\n",
    "text_splitter=get_text_splitter()\n",
    "documents = text_splitter.split_text(docs['messages'])\n",
    "\n",
    "# chain 생성\n",
    "llm = get_gemini()\n",
    "structure_rotuer = llm.with_structured_output(GradeDocument)\n",
    "prompt = get_prompt_grade()\n",
    "chain = prompt | structure_rotuer \n",
    "\n",
    "# grade_document 최종\n",
    "filtered_docs = []\n",
    "for doc in documents:\n",
    "    score = chain.invoke({'question':question,'document':doc})\n",
    "    if score.datasource =='yes':\n",
    "        filtered_docs.append(doc)\n",
    "\n",
    "print(len(filtered_docs))"
   ]
  },
  {
   "cell_type": "markdown",
   "id": "e77f4df5",
   "metadata": {},
   "source": [
    "## 실행부"
   ]
  },
  {
   "cell_type": "markdown",
   "id": "650a6a09",
   "metadata": {},
   "source": [
    "### retriever 사용\n",
    "\n",
    "\n",
    "[retriever 사용 flow](https://smith.langchain.com/public/3652730b-7b3a-4c62-9e2a-41f883356fe8/r)"
   ]
  },
  {
   "cell_type": "code",
   "execution_count": 12,
   "id": "5ff192d7",
   "metadata": {},
   "outputs": [],
   "source": [
    "# config = get_runnable_config()\n",
    "# query = '삼성전자 신규 AI'\n",
    "# inputs= {'question':query}\n",
    "\n",
    "\n",
    "# # for ev in graph.stream(input=inputs,config=config,interrupt_before='grade_document'):\n",
    "# #     print(ev)\n",
    "\n",
    "# invoke_graph(graph, inputs, config)"
   ]
  },
  {
   "cell_type": "markdown",
   "id": "4d2d75bc",
   "metadata": {},
   "source": [
    "### 일상 대화\n",
    "\n",
    "[일상대화 flow](https://smith.langchain.com/public/5aab4319-476b-4c13-8edb-6a3225c66ccf/r)"
   ]
  },
  {
   "cell_type": "code",
   "execution_count": 13,
   "id": "a7de654a",
   "metadata": {},
   "outputs": [
    {
     "name": "stdout",
     "output_type": "stream",
     "text": [
      "2\n",
      "****************************************************************************************************\n",
      "re_write_query\n",
      "****************************************************************************************************\n",
      "normal_generate\n",
      "\n",
      "==================================================\n",
      "🔄 Node: \u001b[1;36mre_write_query\u001b[0m 🔄\n",
      "- - - - - - - - - - - - - - - - - - - - - - - - - \n",
      "\u001b[1;32mquestion\u001b[0m:\n",
      "안녕하세요, 무엇을 도와드릴까요?\n",
      "==================================================\n",
      "****************************************************************************************************\n",
      "generate\n",
      "****************************************************************************************************\n",
      "****************************************************************************************************\n",
      "is_hallucination\n",
      "****************************************************************************************************\n",
      "\n",
      "==================================================\n",
      "🔄 Node: \u001b[1;36mgenerate\u001b[0m 🔄\n",
      "- - - - - - - - - - - - - - - - - - - - - - - - - \n",
      "\u001b[1;32manswer\u001b[0m:\n",
      "I am an AI assistant specializing in Question-Answering (QA) tasks within a Retrieval-Augmented Generation (RAG) system. My primary mission is to answer questions based on provided context or chat history.\n",
      "==================================================\n"
     ]
    }
   ],
   "source": [
    "config = get_runnable_config(thread_id=2)\n",
    "query = '안녕?'\n",
    "inputs= {'question':query}\n",
    "\n",
    "\n",
    "# for ev in graph.stream(input=inputs,config=config,interrupt_before='grade_document'):\n",
    "#     print(ev)\n",
    "\n",
    "invoke_graph(graph, inputs, config)"
   ]
  },
  {
   "cell_type": "markdown",
   "id": "5f3c042d",
   "metadata": {},
   "source": [
    "### 웹 검색\n",
    "[웹 검색 flow](https://smith.langchain.com/public/34d0ed2d-3034-4ed4-8615-020019e3a716/r)"
   ]
  },
  {
   "cell_type": "code",
   "execution_count": 14,
   "id": "7d801c2e",
   "metadata": {},
   "outputs": [
    {
     "name": "stdout",
     "output_type": "stream",
     "text": [
      "571c1b4e-95d4-41bc-895c-e3bfa4ca187a\n",
      "****************************************************************************************************\n",
      "re_write_query\n",
      "****************************************************************************************************\n",
      "web_search\n",
      "\n",
      "==================================================\n",
      "🔄 Node: \u001b[1;36mre_write_query\u001b[0m 🔄\n",
      "- - - - - - - - - - - - - - - - - - - - - - - - - \n",
      "\u001b[1;32mquestion\u001b[0m:\n",
      "삼성전자 주식의 오늘 종가 정보\n",
      "==================================================\n",
      "****************************************************************************************************\n",
      "web_search\n",
      "****************************************************************************************************\n",
      "\n",
      "==================================================\n",
      "🔄 Node: \u001b[1;36mweb_search\u001b[0m 🔄\n",
      "- - - - - - - - - - - - - - - - - - - - - - - - - \n",
      "\u001b[1;32mmessages\u001b[0m:\n",
      "<document><content>Samsung Electronics Co Ltd의 오늘 주가는? Samsung Electronics Co Ltd의 오늘 주가는 83,300입니다. Samsung Electronics Co Ltd의 주식 티커는? Samsung Electronics</content><source>https://kr.investing.com/equities/samsung-electronics-co-ltd</source></document>\n",
      "<document><content>전일종가. 84,700. 시가. 84,200. 고가. 85,500. 저가. 83,700. 시가총액. 5,055,371억 (1 ... ○ 대박) 삼성전자: 27조원 대형수주+수십조 임박: 매수 유리. iytswr|25.09</content><source>https://m.finance.daum.net/quotes/A005930/home</source></document>\n",
      "<document><content>005930의 현재 값은 83,300 KRW 입니다 - 지난 24시간 사이 −3.25% 내렸습니다. 삼성전자보통주의 주가 성능을 더 자세히 살펴보려면 차트를 확인하세요.</content><source>https://kr.tradingview.com/symbols/KRX-005930/</source></document>\n",
      "==================================================\n",
      "****************************************************************************************************\n",
      "grade_document\n",
      "****************************************************************************************************\n",
      "<document><content>Samsung Electronics Co Ltd의 오늘 주가는? Samsung Electronics Co Ltd의 오늘 주가는 83,300입니다. Samsung Electronics Co Ltd의 주식 티커는? Samsung Electronics</content><source>https://kr.investing.com/equities/samsung-electronics-co-ltd</source></document>\n",
      "<document><content>전일종가. 84,700. 시가. 84,200. 고가. 85,500. 저가. 83,700. 시가총액. 5,055,371억 (1 ... ○ 대박) 삼성전자: 27조원 대형수주+수십조 임박: 매수 유리. iytswr|25.09</content><source>https://m.finance.daum.net/quotes/A005930/home</source></document>\n",
      "<document><content>005930의 현재 값은 83,300 KRW 입니다 - 지난 24시간 사이 −3.25% 내렸습니다. 삼성전자보통주의 주가 성능을 더 자세히 살펴보려면 차트를 확인하세요.</content><source>https://kr.tradingview.com/symbols/KRX-005930/</source></document>\n",
      "datasource='yes'\n",
      "****************************************************************************************************\n",
      "is_grade_decision\n",
      "****************************************************************************************************\n",
      "\n",
      "==================================================\n",
      "🔄 Node: \u001b[1;36mgrade_document\u001b[0m 🔄\n",
      "- - - - - - - - - - - - - - - - - - - - - - - - - \n",
      "<document><content>Samsung Electronics Co Ltd의 오늘 주가는? Samsung Electronics Co Ltd의 오늘 주가는 83,300입니다. Samsung Electronics Co Ltd의 주식 티커는? Samsung Electronics</content><source>https://kr.investing.com/equities/samsung-electronics-co-ltd</source></document>\n",
      "<document><content>전일종가. 84,700. 시가. 84,200. 고가. 85,500. 저가. 83,700. 시가총액. 5,055,371억 (1 ... ○ 대박) 삼성전자: 27조원 대형수주+수십조 임박: 매수 유리. iytswr|25.09</content><source>https://m.finance.daum.net/quotes/A005930/home</source></document>\n",
      "<document><content>005930의 현재 값은 83,300 KRW 입니다 - 지난 24시간 사이 −3.25% 내렸습니다. 삼성전자보통주의 주가 성능을 더 자세히 살펴보려면 차트를 확인하세요.</content><source>https://kr.tradingview.com/symbols/KRX-005930/</source></document>\n",
      "==================================================\n",
      "****************************************************************************************************\n",
      "generate\n",
      "****************************************************************************************************\n",
      "****************************************************************************************************\n",
      "is_hallucination\n",
      "****************************************************************************************************\n",
      "\n",
      "==================================================\n",
      "🔄 Node: \u001b[1;36mgenerate\u001b[0m 🔄\n",
      "- - - - - - - - - - - - - - - - - - - - - - - - - \n",
      "\u001b[1;32manswer\u001b[0m:\n",
      "83,300 KRW\n",
      "* https://kr.investing.com/equities/samsung-electronics-co-ltd\n",
      "* https://kr.tradingview.com/symbols/KRX-005930/\n",
      "==================================================\n"
     ]
    }
   ],
   "source": [
    "config = get_runnable_config()\n",
    "query = '오늘 삼성전자 주식 종가'\n",
    "inputs= {'question':query}\n",
    "\n",
    "\n",
    "# for ev in graph.stream(input=inputs,config=config,interrupt_before='grade_document'):\n",
    "#     print(ev)\n",
    "\n",
    "invoke_graph(graph, inputs, config)"
   ]
  },
  {
   "cell_type": "code",
   "execution_count": 15,
   "id": "b62dc423",
   "metadata": {},
   "outputs": [],
   "source": [
    "# 최종 출력\n",
    "# outputs = graph.get_state(config).values\n",
    "# print(outputs)\n",
    "# print(f'Original Question: {outputs[\"question\"][0].content}')\n",
    "# print(f'Rewritten Question: {outputs[\"question\"][-1].content}')\n",
    "# print(\"===\" * 20)\n",
    "# print(f'Answer:\\n{outputs[\"answer\"]}')"
   ]
  }
 ],
 "metadata": {
  "kernelspec": {
   "display_name": "langchain-kr-EGILWU2T-py3.11",
   "language": "python",
   "name": "python3"
  },
  "language_info": {
   "codemirror_mode": {
    "name": "ipython",
    "version": 3
   },
   "file_extension": ".py",
   "mimetype": "text/x-python",
   "name": "python",
   "nbconvert_exporter": "python",
   "pygments_lexer": "ipython3",
   "version": "3.11.11"
  }
 },
 "nbformat": 4,
 "nbformat_minor": 5
}
