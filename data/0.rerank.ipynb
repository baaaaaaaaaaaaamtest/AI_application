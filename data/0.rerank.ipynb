{
 "cells": [
  {
   "cell_type": "markdown",
   "id": "ccef6fc0",
   "metadata": {
    "vscode": {
     "languageId": "plaintext"
    }
   },
   "source": [
    "# 0.rerank_main 비교 "
   ]
  },
  {
   "cell_type": "markdown",
   "id": "e297ef6b",
   "metadata": {
    "vscode": {
     "languageId": "plaintext"
    }
   },
   "source": [
    "##   Ollama-ko-0710:latest 와 gpt-4.1-mini 비교"
   ]
  },
  {
   "cell_type": "markdown",
   "id": "555ff7ea",
   "metadata": {},
   "source": [
    "### ollama-ko-0710:latest 답변\n",
    "\n",
    "- 질문: 삼성전자 하반기 실적 전망은?\n",
    "\n",
    "- 답변:'삼성전자의 하반기 실적 전망에 대해 살펴보겠습니다.\\n\\n특히 파운드리 고객사를 확보한 것이 단기 실적에는 영향을 미치지 않지만, 중장기 경쟁력 회복을 위한 기반이 될 것이라고 평가했습니다. 류 연구원은 \"여러 기대감이 모여 밸류에이션이 정상화되는 국면\"이라고 분석했습니다.\\n\\n3분기 영업이익은 9조원으로, 이는 전년 동기대비 1.9% 감소하지만 직전 분기 대비 91.9% 늘어날 것으로 예상됩니다. 미래에셋증권은 삼성전자의 올해와 내년 영업이익 전망치를 기존대비 각각 2.9%, 5.3%씩 올렸으며, 동시에 목표 주가를 8만8000원에서 9만6000원으로 9% 높였습니다.\\n\\n내년 메모리 반도체 공급 부족을 주요 이유로 제시했는데, 이는 반도체 업체들이 제한된 D램 생산라인을 갖고 있어 업황 불확실성 탓에 설비를 크게 늘리지 못하고 새로 증설한 시설이 대부분 차세대 반도체인 고대역폭 메모리(HBM) 생산에 집중되면서 범용 D램의 생산량이 줄어들고 가격이 상승하는 것에서 비롯됩니다.\\n\\n따라서 시장은 삼성전자의 마지막 \\'한방\\'으로 밸류에이션을 기대하고 있습니다. 현재 삼성전자는 글로벌 경쟁사 대비 큰 할인 상태에 있으며, SK하이닉스와의 밸류에이션 갭이 50% 이상 벌어져 있습니다.\\n\\n이러한 배경 아래, 김동원 KB증권 리서치본부장은 \"밸류에이션 측면에서 삼성은 하이닉스 대비 여전히 디스카운트 상태라 HBM4와 파운드리 등 여러 조건이 맞아떨어진다면 추가 상승 여력을 기대해도 좋다\"고 강조했습니다.\\n\\n따라서, 삼성전자의 하반기 실적 전망은 상대적으로 긍정적인 측면이 있는 것으로 보입니다. 반도체 시장을 중심으로 한 공급 부족과 가격 인상, 밸류에이션 회복 등의 요소들이 긍정적인 영향을 미칠 것임을 기대할 수 있습니다.'"
   ]
  },
  {
   "cell_type": "markdown",
   "id": "d928adeb",
   "metadata": {},
   "source": [
    "### gpt-4.1-mini \n",
    "\n",
    "- 질문: 삼성전자 하반기 실적 전망은?\n",
    "\n",
    "- 답변: '삼성전자의 2023년 하반기 실적 전망은 긍정적입니다. 3분기 영업이익은 약 9조 원으로, 전년 동기 대비 1.9% 감소하나 직전 분기 대비 91.9% 증가할 것으로 예상됩니다. 또한, 미래에셋증권은 삼성전자의 올해와 내년 영업이익 전망치를 각각 2.9%, 5.3% 상향 조정했고, 목표주가도 8만8000원에서 9만6000원으로 9% 높였습니다. 이는 내년 메모리 반도체 공급 부족과 제한된 D램 생산라인, 차세대 반도체(HBM) 증설 집중 덕분에 범용 D램 가격이 오를 것으로 전망되기 때문입니다. 전반적으로 중장기 경쟁력 회복과 밸류에이션 정상화에 대한 기대감이 커지고 있습니다.'"
   ]
  },
  {
   "cell_type": "markdown",
   "id": "a462de2a",
   "metadata": {},
   "source": [
    "### 결과\n",
    "\n",
    "- 질문 : 삼성전자 하반기 실적 전망은?\n",
    "- 데이터 : 데이터 모두 삼성전자 상반기 정보 없음\n",
    "```\n",
    "retriever = db.as_retriever(\n",
    "    search_type=\"mmr\", search_kwargs={\"k\": 10, \"lambda_mult\": 0.25, \"fetch_k\": 20}\n",
    ")\n",
    "```\n",
    "\n",
    "```\n",
    "reranker = HuggingFaceCrossEncoder(model_name=\"BAAI/bge-reranker-v2-m3\")\n",
    "compressor = CrossEncoderReranker(model=reranker, top_n=6)\n",
    "compression_retriever = ContextualCompressionRetriever(\n",
    "    base_compressor=compressor, base_retriever=retriever\n",
    ")\n",
    "```\n",
    "- context : 같은 데이터 증강\n",
    "- 답변 품질 : 두 답변 모두 적절함\n",
    "- perplexity 평가 : 두 답변 모두 7~8점대 평가\n",
    "- 총평 : rerank 통해 성능 개선 기대가능\n"
   ]
  }
 ],
 "metadata": {
  "language_info": {
   "name": "python"
  }
 },
 "nbformat": 4,
 "nbformat_minor": 5
}
