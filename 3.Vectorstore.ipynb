{
 "cells": [
  {
   "cell_type": "code",
   "execution_count": null,
   "id": "3c6fa683",
   "metadata": {},
   "outputs": [],
   "source": [
    "from langchain_community.document_loaders import TextLoader\n",
    "from langchain.text_splitter import RecursiveCharacterTextSplitter\n",
    "import faiss\n",
    "from langchain_community.vectorstores import FAISS\n",
    "from langchain_community.docstore.in_memory import InMemoryDocstore\n",
    "from langchain_openai import OpenAIEmbeddings\n"
   ]
  },
  {
   "cell_type": "code",
   "execution_count": null,
   "id": "08ea3c95",
   "metadata": {},
   "outputs": [],
   "source": [
    "# API 키를 환경변수로 관리하기 위한 설정 파일\n",
    "from dotenv import load_dotenv\n",
    "\n",
    "# API 키 정보 로드\n",
    "load_dotenv()"
   ]
  },
  {
   "cell_type": "code",
   "execution_count": null,
   "id": "23643fb7",
   "metadata": {},
   "outputs": [],
   "source": [
    "# LangSmith 추적을 설정합니다. https://smith.langchain.com\n",
    "# !pip install langchain-teddynote\n",
    "from langchain_teddynote import logging\n",
    "\n",
    "# 프로젝트 이름을 입력합니다.\n",
    "logging.langsmith(\"CH09-VectorStores\")"
   ]
  },
  {
   "cell_type": "code",
   "execution_count": null,
   "id": "a350538c",
   "metadata": {},
   "outputs": [],
   "source": [
    "with open(\"./data/text.txt\", encoding=\"utf-8\") as f:\n",
    "    file = f.read()\n",
    "\n",
    "text_splitter = RecursiveCharacterTextSplitter(chunk_size=600, chunk_overlap=0)"
   ]
  },
  {
   "cell_type": "code",
   "execution_count": null,
   "id": "61060cf9",
   "metadata": {},
   "outputs": [],
   "source": [
    "print(type(file))\n",
    "texts = text_splitter.split_text(file)\n",
    "print(type(texts))\n",
    "print(texts[1])\n",
    "print(len(texts))  "
   ]
  },
  {
   "cell_type": "code",
   "execution_count": null,
   "id": "ea33dbce",
   "metadata": {},
   "outputs": [],
   "source": [
    "loader1 = TextLoader(\"./data/text.txt\", encoding=\"utf-8\")\n",
    "split_doc1 = loader1.load_and_split(text_splitter)\n",
    "print(type(split_doc1))\n",
    "print(split_doc1[1])\n",
    "print(len(split_doc1))  "
   ]
  },
  {
   "cell_type": "code",
   "execution_count": null,
   "id": "7819f272",
   "metadata": {},
   "outputs": [],
   "source": [
    "from langchain_huggingface.embeddings import HuggingFaceEmbeddings\n",
    "\n",
    "model_name = \"intfloat/multilingual-e5-large-instruct\"\n",
    "# model_name = \"intfloat/multilingual-e5-large\"\n",
    "\n",
    "hf_embeddings = HuggingFaceEmbeddings(\n",
    "    model_name=model_name,\n",
    "    model_kwargs={\"device\": \"cuda\"},  # cuda, cpu\n",
    "    encode_kwargs={\"normalize_embeddings\": True},\n",
    ")"
   ]
  },
  {
   "cell_type": "code",
   "execution_count": null,
   "id": "732a01d6",
   "metadata": {},
   "outputs": [],
   "source": [
    "dimension_size = len(hf_embeddings.embed_query(\"hello world\"))\n",
    "print(dimension_size)"
   ]
  },
  {
   "cell_type": "code",
   "execution_count": null,
   "id": "0c1d5241",
   "metadata": {},
   "outputs": [],
   "source": [
    "# FAISS 벡터 저장소 생성\n",
    "db = FAISS(\n",
    "    embedding_function=hf_embeddings,\n",
    "    index=faiss.IndexFlatL2(dimension_size),\n",
    "    docstore=InMemoryDocstore(),\n",
    "    index_to_docstore_id={},\n",
    ")"
   ]
  },
  {
   "cell_type": "code",
   "execution_count": null,
   "id": "106cf26a",
   "metadata": {},
   "outputs": [],
   "source": [
    "db = FAISS.from_documents(documents=split_doc1, embedding=hf_embeddings)"
   ]
  },
  {
   "cell_type": "code",
   "execution_count": null,
   "id": "eb74abef",
   "metadata": {},
   "outputs": [],
   "source": [
    "# 문서 저장소 ID 확인\n",
    "db.index_to_docstore_id"
   ]
  },
  {
   "cell_type": "code",
   "execution_count": null,
   "id": "f1817f64",
   "metadata": {},
   "outputs": [],
   "source": [
    "db.docstore._dict"
   ]
  },
  {
   "cell_type": "code",
   "execution_count": null,
   "id": "16857271",
   "metadata": {},
   "outputs": [],
   "source": [
    "db.similarity_search(\"삼성전자 주가\")"
   ]
  },
  {
   "cell_type": "code",
   "execution_count": null,
   "id": "d1fe9596",
   "metadata": {},
   "outputs": [],
   "source": [
    "# filter 사용\n",
    "db.similarity_search(\n",
    "    \"TF IDF 에 대하여 알려줘\", filter={\"source\": \"./data/text.txt\"}, k=2\n",
    ")"
   ]
  },
  {
   "cell_type": "code",
   "execution_count": null,
   "id": "00e46088",
   "metadata": {},
   "outputs": [],
   "source": [
    "from langchain_core.documents import Document\n",
    "\n",
    "# page_content, metadata 지정\n",
    "db.add_documents(\n",
    "    [\n",
    "        Document(\n",
    "            page_content=\"안녕하세요! 이번엔 도큐먼트를 새로 추가해 볼께요\",\n",
    "            metadata={\"source\": \"mydata.txt\"},\n",
    "        )\n",
    "    ],\n",
    "    ids=[\"new_doc1\"],\n",
    ")"
   ]
  },
  {
   "cell_type": "code",
   "execution_count": null,
   "id": "dc43192a",
   "metadata": {},
   "outputs": [],
   "source": [
    "# 추가된 데이터를 확인\n",
    "db.similarity_search(\"안녕하세요\", k=1)\n"
   ]
  },
  {
   "cell_type": "code",
   "execution_count": null,
   "id": "7307e8b7",
   "metadata": {},
   "outputs": [],
   "source": [
    "db.index_to_docstore_id"
   ]
  },
  {
   "cell_type": "code",
   "execution_count": null,
   "id": "96574cbb",
   "metadata": {},
   "outputs": [],
   "source": [
    "db.delete(ids=[\"new_doc1\"])"
   ]
  },
  {
   "cell_type": "code",
   "execution_count": null,
   "id": "b435caca",
   "metadata": {},
   "outputs": [],
   "source": [
    "db.index_to_docstore_id"
   ]
  },
  {
   "cell_type": "markdown",
   "id": "306510da",
   "metadata": {},
   "source": [
    "## 저장하는 방법\n"
   ]
  },
  {
   "cell_type": "code",
   "execution_count": null,
   "id": "8efc2f0c",
   "metadata": {},
   "outputs": [],
   "source": [
    "db.save_local(folder_path=\"faiss_db\", index_name=\"faiss_index\")"
   ]
  },
  {
   "cell_type": "markdown",
   "id": "59b17a33",
   "metadata": {},
   "source": [
    "## 불러오는 방법"
   ]
  },
  {
   "cell_type": "code",
   "execution_count": null,
   "id": "9a0ddea1",
   "metadata": {},
   "outputs": [],
   "source": [
    "# 저장된 데이터를 로드\n",
    "loaded_db = FAISS.load_local(\n",
    "    folder_path=\"faiss_db\",\n",
    "    index_name=\"faiss_index\",\n",
    "    embeddings=hf_embeddings,\n",
    "    allow_dangerous_deserialization=True,\n",
    ")"
   ]
  },
  {
   "cell_type": "markdown",
   "id": "ca8c7fd8",
   "metadata": {},
   "source": [
    "## 병합하는 방법"
   ]
  },
  {
   "cell_type": "code",
   "execution_count": null,
   "id": "1f852ca9",
   "metadata": {},
   "outputs": [],
   "source": [
    "db.merge_from(loaded_db)"
   ]
  },
  {
   "cell_type": "code",
   "execution_count": null,
   "id": "55f0d215",
   "metadata": {},
   "outputs": [],
   "source": [
    "import torch\n",
    "import gc\n",
    "\n",
    "del hf_embeddings               # Delete embedding object\n",
    "gc.collect()                   # Garbage collect\n",
    "torch.cuda.empty_cache()       # Empty CUDA cache"
   ]
  },
  {
   "cell_type": "markdown",
   "id": "955e2fb2",
   "metadata": {},
   "source": [
    "## 검색기 활용"
   ]
  },
  {
   "cell_type": "code",
   "execution_count": null,
   "id": "a1e0c093",
   "metadata": {},
   "outputs": [],
   "source": [
    "retriever = db.as_retriever()\n",
    "retriever.invoke(\"삼성전자\")"
   ]
  },
  {
   "cell_type": "markdown",
   "id": "f2151b06",
   "metadata": {},
   "source": [
    "## 다양성이 높은 문서 검색\n",
    "\n",
    "- k : 최종 반환 문서 수\n",
    "- fetch_k : MMr 알고맂므에 전달할 문서수 ( 사전 추출)\n",
    "- lambda_mult : MMr 결과의 다양성 조절"
   ]
  },
  {
   "cell_type": "code",
   "execution_count": null,
   "id": "af23ac05",
   "metadata": {},
   "outputs": [],
   "source": [
    "# MMR 검색 수행\n",
    "retriever = db.as_retriever(\n",
    "    search_type=\"mmr\", search_kwargs={\"k\": 6, \"lambda_mult\": 0.25, \"fetch_k\": 10}\n",
    ")\n",
    "retriever.invoke(\"삼성전자\")"
   ]
  }
 ],
 "metadata": {
  "kernelspec": {
   "display_name": "langchain-kr-qU3nSgPx-py3.11",
   "language": "python",
   "name": "python3"
  },
  "language_info": {
   "codemirror_mode": {
    "name": "ipython",
    "version": 3
   },
   "file_extension": ".py",
   "mimetype": "text/x-python",
   "name": "python",
   "nbconvert_exporter": "python",
   "pygments_lexer": "ipython3",
   "version": "3.11.3"
  }
 },
 "nbformat": 4,
 "nbformat_minor": 5
}
