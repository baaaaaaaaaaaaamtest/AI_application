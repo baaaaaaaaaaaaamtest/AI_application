{
 "cells": [
  {
   "cell_type": "markdown",
   "id": "66567b73",
   "metadata": {},
   "source": [
    "## 아키텍처 구조만 작성\n",
    "\n",
    "![workflow](/home/ansgyqja/chatbot/images/archtiecture_flow.png)\n"
   ]
  },
  {
   "cell_type": "markdown",
   "id": "a5dcbc5c",
   "metadata": {
    "vscode": {
     "languageId": "plaintext"
    }
   },
   "source": [
    "## 그래프 생성절차\n",
    "\n",
    "1. State 정의\n",
    "2. 노드 정의\n",
    "3. 그래프 정의\n",
    "4. 그래프 컴파일\n",
    "5. 그래프 시각화\n",
    "\n"
   ]
  },
  {
   "cell_type": "code",
   "execution_count": 1,
   "id": "30e954b7",
   "metadata": {},
   "outputs": [
    {
     "name": "stderr",
     "output_type": "stream",
     "text": [
      "USER_AGENT environment variable not set, consider setting it to identify your requests.\n"
     ]
    }
   ],
   "source": [
    "from typing import TypedDict, Annotated, List, Dict\n",
    "from langchain_core.documents import Document\n",
    "from langgraph.graph.message import add_messages\n",
    "import operator\n",
    "from langchain_core.tools import tool\n",
    "from module.get_naver_news import get_mcp_server_response\n",
    "from module.get_naver_news import get_news_origin\n",
    "from module.get_local_pdf import rag_pdf\n",
    "from langgraph.prebuilt import ToolNode, tools_condition\n",
    "from langchain_openai import ChatOpenAI\n",
    "from langgraph.graph import StateGraph, MessagesState, START, END\n",
    "\n",
    "from langchain_teddynote.graphs import visualize_graph\n"
   ]
  },
  {
   "cell_type": "code",
   "execution_count": 2,
   "id": "7e1d457d",
   "metadata": {},
   "outputs": [],
   "source": [
    "# State 정의\n",
    "class GraphState(TypedDict):\n",
    "    messages: Annotated[list, add_messages]\n",
    "    context: Annotated[List[Document], operator.add]\n",
    "    answer: Annotated[List[Document], operator.add]\n",
    "    question: Annotated[str, \"user question\"]\n",
    "    argument_question:Annotated[list[str],operator.add]\n",
    "    binary_score: Annotated[str, \"binary score yes or no\"]"
   ]
  },
  {
   "cell_type": "markdown",
   "id": "7be0f411",
   "metadata": {},
   "source": [
    "## 멀티 쿼리 확장 "
   ]
  },
  {
   "cell_type": "code",
   "execution_count": 3,
   "id": "2054e5be",
   "metadata": {},
   "outputs": [
    {
     "name": "stdout",
     "output_type": "stream",
     "text": [
      "안녕하세요  \n",
      "안녕하십니까  \n",
      "안녕, 어떻게 지내세요?  \n"
     ]
    }
   ],
   "source": [
    "from langchain_core.runnables import RunnablePassthrough\n",
    "from langchain_core.prompts import PromptTemplate\n",
    "from langchain_core.output_parsers import StrOutputParser\n",
    "\n",
    "# 프롬프트 템플릿을 정의합니다.(5개의 질문을 생성하도록 프롬프트를 작성하였습니다)\n",
    "prompt = PromptTemplate.from_template(\n",
    "    \"\"\"You are an AI language model assistant. \n",
    "Your task is to generate three different versions of the given user question to retrieve relevant documents from a vector database. \n",
    "By generating multiple perspectives on the user question, your goal is to help the user overcome some of the limitations of the distance-based similarity search. \n",
    "Your response should be a list of values separated by new lines, eg: `foo\\nbar\\nbaz\\n`\n",
    "\n",
    "#ORIGINAL QUESTION: \n",
    "{question}\n",
    "\n",
    "#Answer in Korean:\n",
    "\"\"\"\n",
    ")\n",
    "\n",
    "# 언어 모델 인스턴스를 생성합니다.\n",
    "llm = ChatOpenAI(temperature=0, model=\"gpt-4o-mini\")\n",
    "\n",
    "# LLMChain을 생성합니다.\n",
    "custom_multiquery_chain = (\n",
    "    {\"question\": RunnablePassthrough()} | prompt | llm | StrOutputParser()\n",
    ")\n",
    "\n",
    "# 질문을 정의합니다.\n",
    "# question =  \"내부 정보 활용하여 삼성전자 개발중 AI 모델 알려줘\"\n",
    "question = '안녕'\n",
    "\n",
    "# 체인을 실행하여 생성된 다중 쿼리를 확인합니다.\n",
    "multi_queries = custom_multiquery_chain.invoke(question)\n",
    "print(multi_queries)"
   ]
  },
  {
   "cell_type": "code",
   "execution_count": null,
   "id": "4d5fb2ef",
   "metadata": {},
   "outputs": [],
   "source": [
    "# 도구 생성\n",
    "@tool\n",
    "async def search_naver_news(query: str) -> List[Dict[str, str]]:\n",
    "    \"\"\"Search naver News by input keyword\"\"\"\n",
    "    mcp_response = await get_mcp_server_response(query)\n",
    "    return get_news_origin(mcp_response)\n",
    "\n",
    "# @tool\n",
    "# def search_naver_news(query: str) -> List[Dict[str, str]]:\n",
    "#     \"\"\"Search naver News by input keyword\"\"\"\n",
    "    \n",
    "#     return query\n",
    "\n",
    "\n",
    "@tool\n",
    "def search_local_data(query: str) -> List[Dict[str, str]]:\n",
    "    \"\"\"Search our company pdf file infomation by input keyword\"\"\"\n",
    "    news_tool = rag_pdf()\n",
    "    return news_tool.search_by_keyword(query)\n",
    "\n",
    "@tool\n",
    "def search_db_data(query: str) -> List[Dict[str, str]]:\n",
    "    \"\"\"Search our company database infomation by input keyword\"\"\"\n",
    "\n",
    "    return query"
   ]
  },
  {
   "cell_type": "code",
   "execution_count": 5,
   "id": "91d480ac",
   "metadata": {},
   "outputs": [],
   "source": [
    "tools = [search_naver_news, search_local_data,search_db_data]\n",
    "\n",
    "# ToolNode 초기화\n",
    "tool_node = ToolNode(tools)\n",
    "\n",
    "model_with_tools = ChatOpenAI(model=\"gpt-4o-mini\", temperature=0).bind_tools(tools)"
   ]
  },
  {
   "cell_type": "code",
   "execution_count": 6,
   "id": "d802e00f",
   "metadata": {},
   "outputs": [
    {
     "name": "stdout",
     "output_type": "stream",
     "text": [
      "bound=ChatOpenAI(client=<openai.resources.chat.completions.completions.Completions object at 0x7fa21bf99f10>, async_client=<openai.resources.chat.completions.completions.AsyncCompletions object at 0x7fa21ad7ad90>, root_client=<openai.OpenAI object at 0x7fa21bf89a10>, root_async_client=<openai.AsyncOpenAI object at 0x7fa21c87eb10>, model_name='gpt-4o-mini', temperature=0.0, model_kwargs={}, openai_api_key=SecretStr('**********')) kwargs={'tools': [{'type': 'function', 'function': {'name': 'search_naver_news', 'description': 'Search naver News by input keyword', 'parameters': {'properties': {'query': {'type': 'string'}}, 'required': ['query'], 'type': 'object'}}}, {'type': 'function', 'function': {'name': 'search_local_data', 'description': 'Search our company pdf file infomation by input keyword', 'parameters': {'properties': {'query': {'type': 'string'}}, 'required': ['query'], 'type': 'object'}}}, {'type': 'function', 'function': {'name': 'search_db_data', 'description': 'Search our company database infomation by input keyword', 'parameters': {'properties': {'query': {'type': 'string'}}, 'required': ['query'], 'type': 'object'}}}]} config={} config_factories=[]\n"
     ]
    }
   ],
   "source": [
    "print(model_with_tools)"
   ]
  },
  {
   "cell_type": "code",
   "execution_count": 7,
   "id": "81d3bc14",
   "metadata": {},
   "outputs": [],
   "source": [
    "# LLM 모델을 사용하여 메시지 처리 및 응답 생성, 도구 호출이 포함된 응답 반환\n",
    "def find_tools(state: GraphState):\n",
    "    messages = state[\"messages\"]\n",
    "    response = model_with_tools.invoke(messages)\n",
    "    return {\"messages\": [response]}\n",
    "\n",
    "def rewrite_query(state: GraphState) -> GraphState:\n",
    "    # Query Transform: 쿼리 재작성\n",
    "    documents = \"검색된 문서\"\n",
    "    return GraphState(context=documents)\n",
    "\n",
    "def sum_up(state: GraphState) -> GraphState:\n",
    "    # sum_up: 결과 종합\n",
    "    answer = \"종합된 답변\"\n",
    "    return GraphState(answer=answer)\n",
    "\n",
    "def relevance_check(state: GraphState) -> GraphState:\n",
    "    # Relevance Check: 관련성 확인\n",
    "    binary_score = \"Relevance Score\"\n",
    "    return GraphState(binary_score=binary_score)\n",
    "\n",
    "\n",
    "def decision(state: GraphState) -> GraphState:\n",
    "    # 의사결정\n",
    "    decision = \"결정\"\n",
    "    # 로직을 추가할 수 가 있고요.\n",
    "\n",
    "    if state[\"binary_score\"] == \"yes\":\n",
    "        return \"종료\"\n",
    "    else:\n",
    "        return \"재검색\""
   ]
  },
  {
   "cell_type": "code",
   "execution_count": 8,
   "id": "ffb30cff",
   "metadata": {},
   "outputs": [
    {
     "name": "stdout",
     "output_type": "stream",
     "text": [
      "그래프 시각화 실패 (추가 종속성 필요): Failed to reach https://mermaid.ink/ API while trying to render your graph. Status code: 502.\n",
      "\n",
      "To resolve this issue:\n",
      "1. Check your internet connection and try again\n",
      "2. Try with higher retry settings: `draw_mermaid_png(..., max_retries=5, retry_delay=2.0)`\n",
      "3. Use the Pyppeteer rendering method which will render your graph locally in a browser: `draw_mermaid_png(..., draw_method=MermaidDrawMethod.PYPPETEER)`\n",
      "ASCII로 그래프 표시:\n",
      "        +-----------+     \n",
      "        | __start__ |     \n",
      "        +-----------+     \n",
      "               *          \n",
      "               *          \n",
      "               *          \n",
      "        +------------+    \n",
      "        | find_tools |    \n",
      "        +------------+    \n",
      "          .        ..     \n",
      "        ..           .    \n",
      "       .              ..  \n",
      "+-------+               . \n",
      "| tools |               . \n",
      "+-------+               . \n",
      "     *                  . \n",
      "     *                  . \n",
      "     *                  . \n",
      "+--------+              . \n",
      "| sum_up |            ..  \n",
      "+--------+           .    \n",
      "          *        ..     \n",
      "           **    ..       \n",
      "             *  .         \n",
      "         +---------+      \n",
      "         | __end__ |      \n",
      "         +---------+      \n"
     ]
    }
   ],
   "source": [
    "\n",
    "\n",
    "# 메시지 상태 기반 워크플로우 그래프 초기화\n",
    "workflow = StateGraph(GraphState)\n",
    "\n",
    "# 에이전트와 도구 노드 정의 및 워크플로우 그래프에 추가\n",
    "workflow.add_node(\"find_tools\", find_tools)\n",
    "workflow.add_node(\"tools\", tool_node)\n",
    "workflow.add_node(\"sum_up\", sum_up)\n",
    "# workflow.add_node(\"relevance_check\", relevance_check)\n",
    "# workflow.add_node(\"decision\", decision)\n",
    "# workflow.add_node(\"rewrite_query\", rewrite_query)\n",
    "\n",
    "\n",
    "workflow.add_edge(START, \"find_tools\")\n",
    "\n",
    "# 에이전트 노드에서 조건부 분기 설정, 도구 노드 또는 종료 지점으로 연결\n",
    "workflow.add_conditional_edges(\"find_tools\", tools_condition)\n",
    "\n",
    "workflow.add_edge(\"tools\", \"sum_up\")\n",
    "\n",
    "workflow.add_edge('sum_up', END)\n",
    "\n",
    "# workflow.add_edge(\"tools\", \"sum_up\")\n",
    "\n",
    "# workflow.add_edge(\"find_tools\", \"sum_up\")\n",
    "\n",
    "# workflow.add_edge(\"sum_up\", \"relevance_check\")\n",
    "\n",
    "# workflow.add_conditional_edges(\n",
    "#     \"relevance_check\",  # 관련성 체크 노드에서 나온 결과를 is_relevant 함수에 전달합니다.\n",
    "#     decision,\n",
    "#     {\n",
    "#         \"재검색\": \"rewrite_query\",  # 관련성이 있으면 종료합니다.\n",
    "#         \"종료\": END,  # 관련성 체크 결과가 모호하다면 다시 답변을 생성합니다.\n",
    "#     },\n",
    "# )\n",
    "\n",
    "# workflow.add_edge(\"rewrite_query\", 'find_tools')\n",
    "\n",
    "\n",
    "# workflow.add_edge(\"decision\", END)\n",
    "\n",
    "# 정의된 워크플로우 그래프 컴파일 및 실행 가능한 애플리케이션 생성\n",
    "graph = workflow.compile()\n",
    "\n",
    "# result = await graph.ainvoke( {\"messages\": [(\"human\",multi_queries)]})\n",
    "from langchain_teddynote.graphs import visualize_graph\n",
    "\n",
    "visualize_graph(graph)"
   ]
  },
  {
   "cell_type": "code",
   "execution_count": 9,
   "id": "54da8024",
   "metadata": {},
   "outputs": [
    {
     "ename": "RuntimeError",
     "evalue": "asyncio.run() cannot be called from a running event loop",
     "output_type": "error",
     "traceback": [
      "\u001b[31m---------------------------------------------------------------------------\u001b[39m",
      "\u001b[31mRuntimeError\u001b[39m                              Traceback (most recent call last)",
      "\u001b[36mCell\u001b[39m\u001b[36m \u001b[39m\u001b[32mIn[9]\u001b[39m\u001b[32m, line 8\u001b[39m\n\u001b[32m      2\u001b[39m \u001b[38;5;28;01mfrom\u001b[39;00m\u001b[38;5;250m \u001b[39m\u001b[34;01mIPython\u001b[39;00m\u001b[34;01m.\u001b[39;00m\u001b[34;01mdisplay\u001b[39;00m\u001b[38;5;250m \u001b[39m\u001b[38;5;28;01mimport\u001b[39;00m Image, display\n\u001b[32m      4\u001b[39m \u001b[38;5;66;03m# Mermaid 그래프를 그리는 객체(graph)는 사용자가 직접 정의해야 합니다.\u001b[39;00m\n\u001b[32m      5\u001b[39m \u001b[38;5;66;03m# 예제에서는 graph.get_graph()로 그래프 객체를 얻었다고 가정합니다.\u001b[39;00m\n\u001b[32m      6\u001b[39m \n\u001b[32m      7\u001b[39m \u001b[38;5;66;03m# 해당 객체에서 draw_mermaid_png 메서드 호출 시 draw_method에 PYPPETEER 지정\u001b[39;00m\n\u001b[32m----> \u001b[39m\u001b[32m8\u001b[39m img = \u001b[43mgraph\u001b[49m\u001b[43m.\u001b[49m\u001b[43mget_graph\u001b[49m\u001b[43m(\u001b[49m\u001b[43m)\u001b[49m\u001b[43m.\u001b[49m\u001b[43mdraw_mermaid_png\u001b[49m\u001b[43m(\u001b[49m\u001b[43mdraw_method\u001b[49m\u001b[43m=\u001b[49m\u001b[43mMermaidDrawMethod\u001b[49m\u001b[43m.\u001b[49m\u001b[43mPYPPETEER\u001b[49m\u001b[43m)\u001b[49m\n\u001b[32m     10\u001b[39m \u001b[38;5;66;03m# IPython 환경(Jupyter Notebook 등)에서 이미지를 화면에 표시\u001b[39;00m\n\u001b[32m     11\u001b[39m display(Image(img))\n",
      "\u001b[36mFile \u001b[39m\u001b[32m~/.cache/pypoetry/virtualenvs/langchain-kr-qU3nSgPx-py3.11/lib/python3.11/site-packages/langchain_core/runnables/graph.py:702\u001b[39m, in \u001b[36mGraph.draw_mermaid_png\u001b[39m\u001b[34m(self, curve_style, node_colors, wrap_label_n_words, output_file_path, draw_method, background_color, padding, max_retries, retry_delay, frontmatter_config)\u001b[39m\n\u001b[32m    692\u001b[39m \u001b[38;5;28;01mfrom\u001b[39;00m\u001b[38;5;250m \u001b[39m\u001b[34;01mlangchain_core\u001b[39;00m\u001b[34;01m.\u001b[39;00m\u001b[34;01mrunnables\u001b[39;00m\u001b[34;01m.\u001b[39;00m\u001b[34;01mgraph_mermaid\u001b[39;00m\u001b[38;5;250m \u001b[39m\u001b[38;5;28;01mimport\u001b[39;00m (  \u001b[38;5;66;03m# noqa: PLC0415\u001b[39;00m\n\u001b[32m    693\u001b[39m     draw_mermaid_png,\n\u001b[32m    694\u001b[39m )\n\u001b[32m    696\u001b[39m mermaid_syntax = \u001b[38;5;28mself\u001b[39m.draw_mermaid(\n\u001b[32m    697\u001b[39m     curve_style=curve_style,\n\u001b[32m    698\u001b[39m     node_colors=node_colors,\n\u001b[32m    699\u001b[39m     wrap_label_n_words=wrap_label_n_words,\n\u001b[32m    700\u001b[39m     frontmatter_config=frontmatter_config,\n\u001b[32m    701\u001b[39m )\n\u001b[32m--> \u001b[39m\u001b[32m702\u001b[39m \u001b[38;5;28;01mreturn\u001b[39;00m \u001b[43mdraw_mermaid_png\u001b[49m\u001b[43m(\u001b[49m\n\u001b[32m    703\u001b[39m \u001b[43m    \u001b[49m\u001b[43mmermaid_syntax\u001b[49m\u001b[43m=\u001b[49m\u001b[43mmermaid_syntax\u001b[49m\u001b[43m,\u001b[49m\n\u001b[32m    704\u001b[39m \u001b[43m    \u001b[49m\u001b[43moutput_file_path\u001b[49m\u001b[43m=\u001b[49m\u001b[43moutput_file_path\u001b[49m\u001b[43m,\u001b[49m\n\u001b[32m    705\u001b[39m \u001b[43m    \u001b[49m\u001b[43mdraw_method\u001b[49m\u001b[43m=\u001b[49m\u001b[43mdraw_method\u001b[49m\u001b[43m,\u001b[49m\n\u001b[32m    706\u001b[39m \u001b[43m    \u001b[49m\u001b[43mbackground_color\u001b[49m\u001b[43m=\u001b[49m\u001b[43mbackground_color\u001b[49m\u001b[43m,\u001b[49m\n\u001b[32m    707\u001b[39m \u001b[43m    \u001b[49m\u001b[43mpadding\u001b[49m\u001b[43m=\u001b[49m\u001b[43mpadding\u001b[49m\u001b[43m,\u001b[49m\n\u001b[32m    708\u001b[39m \u001b[43m    \u001b[49m\u001b[43mmax_retries\u001b[49m\u001b[43m=\u001b[49m\u001b[43mmax_retries\u001b[49m\u001b[43m,\u001b[49m\n\u001b[32m    709\u001b[39m \u001b[43m    \u001b[49m\u001b[43mretry_delay\u001b[49m\u001b[43m=\u001b[49m\u001b[43mretry_delay\u001b[49m\u001b[43m,\u001b[49m\n\u001b[32m    710\u001b[39m \u001b[43m\u001b[49m\u001b[43m)\u001b[49m\n",
      "\u001b[36mFile \u001b[39m\u001b[32m~/.cache/pypoetry/virtualenvs/langchain-kr-qU3nSgPx-py3.11/lib/python3.11/site-packages/langchain_core/runnables/graph_mermaid.py:304\u001b[39m, in \u001b[36mdraw_mermaid_png\u001b[39m\u001b[34m(mermaid_syntax, output_file_path, draw_method, background_color, padding, max_retries, retry_delay)\u001b[39m\n\u001b[32m    281\u001b[39m \u001b[38;5;250m\u001b[39m\u001b[33;03m\"\"\"Draws a Mermaid graph as PNG using provided syntax.\u001b[39;00m\n\u001b[32m    282\u001b[39m \n\u001b[32m    283\u001b[39m \u001b[33;03mArgs:\u001b[39;00m\n\u001b[32m   (...)\u001b[39m\u001b[32m    301\u001b[39m \u001b[33;03m    ValueError: If an invalid draw method is provided.\u001b[39;00m\n\u001b[32m    302\u001b[39m \u001b[33;03m\"\"\"\u001b[39;00m\n\u001b[32m    303\u001b[39m \u001b[38;5;28;01mif\u001b[39;00m draw_method == MermaidDrawMethod.PYPPETEER:\n\u001b[32m--> \u001b[39m\u001b[32m304\u001b[39m     img_bytes = \u001b[43masyncio\u001b[49m\u001b[43m.\u001b[49m\u001b[43mrun\u001b[49m\u001b[43m(\u001b[49m\n\u001b[32m    305\u001b[39m \u001b[43m        \u001b[49m\u001b[43m_render_mermaid_using_pyppeteer\u001b[49m\u001b[43m(\u001b[49m\n\u001b[32m    306\u001b[39m \u001b[43m            \u001b[49m\u001b[43mmermaid_syntax\u001b[49m\u001b[43m,\u001b[49m\u001b[43m \u001b[49m\u001b[43moutput_file_path\u001b[49m\u001b[43m,\u001b[49m\u001b[43m \u001b[49m\u001b[43mbackground_color\u001b[49m\u001b[43m,\u001b[49m\u001b[43m \u001b[49m\u001b[43mpadding\u001b[49m\n\u001b[32m    307\u001b[39m \u001b[43m        \u001b[49m\u001b[43m)\u001b[49m\n\u001b[32m    308\u001b[39m \u001b[43m    \u001b[49m\u001b[43m)\u001b[49m\n\u001b[32m    309\u001b[39m \u001b[38;5;28;01melif\u001b[39;00m draw_method == MermaidDrawMethod.API:\n\u001b[32m    310\u001b[39m     img_bytes = _render_mermaid_using_api(\n\u001b[32m    311\u001b[39m         mermaid_syntax,\n\u001b[32m    312\u001b[39m         output_file_path=output_file_path,\n\u001b[32m   (...)\u001b[39m\u001b[32m    315\u001b[39m         retry_delay=retry_delay,\n\u001b[32m    316\u001b[39m     )\n",
      "\u001b[36mFile \u001b[39m\u001b[32m~/.pyenv/versions/3.11.3/lib/python3.11/asyncio/runners.py:186\u001b[39m, in \u001b[36mrun\u001b[39m\u001b[34m(main, debug)\u001b[39m\n\u001b[32m    161\u001b[39m \u001b[38;5;250m\u001b[39m\u001b[33;03m\"\"\"Execute the coroutine and return the result.\u001b[39;00m\n\u001b[32m    162\u001b[39m \n\u001b[32m    163\u001b[39m \u001b[33;03mThis function runs the passed coroutine, taking care of\u001b[39;00m\n\u001b[32m   (...)\u001b[39m\u001b[32m    182\u001b[39m \u001b[33;03m    asyncio.run(main())\u001b[39;00m\n\u001b[32m    183\u001b[39m \u001b[33;03m\"\"\"\u001b[39;00m\n\u001b[32m    184\u001b[39m \u001b[38;5;28;01mif\u001b[39;00m events._get_running_loop() \u001b[38;5;129;01mis\u001b[39;00m \u001b[38;5;129;01mnot\u001b[39;00m \u001b[38;5;28;01mNone\u001b[39;00m:\n\u001b[32m    185\u001b[39m     \u001b[38;5;66;03m# fail fast with short traceback\u001b[39;00m\n\u001b[32m--> \u001b[39m\u001b[32m186\u001b[39m     \u001b[38;5;28;01mraise\u001b[39;00m \u001b[38;5;167;01mRuntimeError\u001b[39;00m(\n\u001b[32m    187\u001b[39m         \u001b[33m\"\u001b[39m\u001b[33masyncio.run() cannot be called from a running event loop\u001b[39m\u001b[33m\"\u001b[39m)\n\u001b[32m    189\u001b[39m \u001b[38;5;28;01mwith\u001b[39;00m Runner(debug=debug) \u001b[38;5;28;01mas\u001b[39;00m runner:\n\u001b[32m    190\u001b[39m     \u001b[38;5;28;01mreturn\u001b[39;00m runner.run(main)\n",
      "\u001b[31mRuntimeError\u001b[39m: asyncio.run() cannot be called from a running event loop"
     ]
    }
   ],
   "source": [
    "from langchain_core.runnables.graph import MermaidDrawMethod\n",
    "from IPython.display import Image, display\n",
    "\n",
    "# Mermaid 그래프를 그리는 객체(graph)는 사용자가 직접 정의해야 합니다.\n",
    "# 예제에서는 graph.get_graph()로 그래프 객체를 얻었다고 가정합니다.\n",
    "\n",
    "# 해당 객체에서 draw_mermaid_png 메서드 호출 시 draw_method에 PYPPETEER 지정\n",
    "img = graph.get_graph().draw_mermaid_png(draw_method=MermaidDrawMethod.PYPPETEER)\n",
    "\n",
    "# IPython 환경(Jupyter Notebook 등)에서 이미지를 화면에 표시\n",
    "display(Image(img))"
   ]
  },
  {
   "cell_type": "code",
   "execution_count": null,
   "id": "a06f0fb2",
   "metadata": {},
   "outputs": [],
   "source": []
  },
  {
   "cell_type": "code",
   "execution_count": null,
   "id": "f94e21d5",
   "metadata": {},
   "outputs": [],
   "source": [
    "print(result['messages'])"
   ]
  },
  {
   "cell_type": "code",
   "execution_count": null,
   "id": "c28bd346",
   "metadata": {},
   "outputs": [],
   "source": [
    "# print(result['messages'][0])\n",
    "print(result['messages'][1])"
   ]
  },
  {
   "cell_type": "code",
   "execution_count": null,
   "id": "9579e743",
   "metadata": {},
   "outputs": [],
   "source": [
    "\n",
    "\n",
    "\n",
    "def query_argument(state: GraphState)-> GraphState:\n",
    "    # 사용자 query 증강 3개\n",
    "    query=[]\n",
    "    return GraphState(argument_question=query)\n",
    "\n",
    "def tool_decision_bot(state: GraphState)->GraphState:\n",
    "    return {\"messages\": [llm_with_tools.invoke(state[\"messages\"])]}\n",
    "\n"
   ]
  }
 ],
 "metadata": {
  "kernelspec": {
   "display_name": "langchain-kr-qU3nSgPx-py3.11",
   "language": "python",
   "name": "python3"
  },
  "language_info": {
   "codemirror_mode": {
    "name": "ipython",
    "version": 3
   },
   "file_extension": ".py",
   "mimetype": "text/x-python",
   "name": "python",
   "nbconvert_exporter": "python",
   "pygments_lexer": "ipython3",
   "version": "3.11.3"
  }
 },
 "nbformat": 4,
 "nbformat_minor": 5
}
