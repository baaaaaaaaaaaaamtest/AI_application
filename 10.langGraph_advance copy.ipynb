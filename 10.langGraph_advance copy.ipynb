{
 "cells": [
  {
   "cell_type": "code",
   "execution_count": 1,
   "id": "e8256352",
   "metadata": {},
   "outputs": [
    {
     "name": "stderr",
     "output_type": "stream",
     "text": [
      "USER_AGENT environment variable not set, consider setting it to identify your requests.\n"
     ]
    }
   ],
   "source": [
    "\n",
    "from module.get_naver_news import get_mcp_server_response\n",
    "from module.get_naver_news import get_news_origin\n",
    "from module.get_local_pdf import rag_pdf\n",
    "\n",
    "from langchain_core.tools import tool\n",
    "from typing import List, Dict, Annotated, TypedDict\n",
    "from langgraph.prebuilt import ToolNode, tools_condition\n",
    "from langchain_openai import ChatOpenAI\n",
    "from langgraph.graph import StateGraph, START, END\n",
    "from langchain.schema import AIMessage\n",
    "\n",
    "from langgraph.graph.message import add_messages\n"
   ]
  },
  {
   "cell_type": "code",
   "execution_count": 2,
   "id": "44cc6401",
   "metadata": {},
   "outputs": [],
   "source": [
    "\n",
    "# GraphState 상태 정의\n",
    "class GraphState(TypedDict):\n",
    "    question: Annotated[str, \"Question\"]  # 질문\n",
    "    context: Annotated[List, \"Context\"]  # 문서의 검색 결과\n",
    "    answer: Annotated[str, \"Answer\"]  # 답변\n",
    "    messages: Annotated[list, add_messages]  # 메시지(누적되는 list)"
   ]
  },
  {
   "cell_type": "code",
   "execution_count": 3,
   "id": "1eb144fa",
   "metadata": {},
   "outputs": [],
   "source": [
    "\n",
    "# 도구 생성\n",
    "@tool\n",
    "async def search_naver_news(query: str) -> List[Dict[str, str]]:\n",
    "    \"\"\"Search naver News by input keyword\"\"\"\n",
    "    mcp_response = await get_mcp_server_response(query)\n",
    "    return {\"context\": get_news_origin(mcp_response)}\n",
    "\n",
    "@tool\n",
    "def search_local_data(query: str) -> List[Dict[str, str]]:\n",
    "    \"\"\"Search pdf file infomation by input keyword\"\"\"\n",
    "    news_tool = rag_pdf()\n",
    "    return {\"context\": news_tool.search_by_keyword(query)}\n",
    "    "
   ]
  },
  {
   "cell_type": "code",
   "execution_count": 4,
   "id": "de5a49a6",
   "metadata": {},
   "outputs": [],
   "source": [
    "# 도구 리스트 생성\n",
    "tools = [search_naver_news, search_local_data]\n",
    "\n",
    "# ToolNode 초기화\n",
    "tool_node = ToolNode(tools)"
   ]
  },
  {
   "cell_type": "code",
   "execution_count": 5,
   "id": "c1f248d9",
   "metadata": {},
   "outputs": [],
   "source": [
    "model_with_tools = ChatOpenAI(model=\"gpt-4o-mini\", temperature=0).bind_tools(tools)"
   ]
  },
  {
   "cell_type": "code",
   "execution_count": 6,
   "id": "58463b57",
   "metadata": {},
   "outputs": [
    {
     "data": {
      "text/plain": [
       "RunnableBinding(bound=ChatOpenAI(client=<openai.resources.chat.completions.completions.Completions object at 0x7f33fd389610>, async_client=<openai.resources.chat.completions.completions.AsyncCompletions object at 0x7f33fcdc6d50>, root_client=<openai.OpenAI object at 0x7f33fd351590>, root_async_client=<openai.AsyncOpenAI object at 0x7f33fcdc69d0>, model_name='gpt-4o-mini', temperature=0.0, model_kwargs={}, openai_api_key=SecretStr('**********')), kwargs={'tools': [{'type': 'function', 'function': {'name': 'search_naver_news', 'description': 'Search naver News by input keyword', 'parameters': {'properties': {'query': {'type': 'string'}}, 'required': ['query'], 'type': 'object'}}}, {'type': 'function', 'function': {'name': 'search_local_data', 'description': 'Search pdf file infomation by input keyword', 'parameters': {'properties': {'query': {'type': 'string'}}, 'required': ['query'], 'type': 'object'}}}]}, config={}, config_factories=[])"
      ]
     },
     "execution_count": 6,
     "metadata": {},
     "output_type": "execute_result"
    }
   ],
   "source": [
    "model_with_tools"
   ]
  },
  {
   "cell_type": "code",
   "execution_count": 7,
   "id": "9bbb56aa",
   "metadata": {},
   "outputs": [],
   "source": [
    "\n",
    "# LLM 모델을 사용하여 메시지 처리 및 응답 생성, 도구 호출이 포함된 응답 반환\n",
    "def call_model(state: GraphState):\n",
    "    question = state[\"question\"]\n",
    "    response = model_with_tools.invoke(question)\n",
    "    return {\"messages\": [response],\"answer\":[response]}\n",
    "\n",
    "\n",
    "# 메시지 상태 기반 워크플로우 그래프 초기화\n",
    "workflow = StateGraph(GraphState)\n",
    "\n",
    "# 에이전트와 도구 노드 정의 및 워크플로우 그래프에 추가\n",
    "workflow.add_node(\"agent\", call_model)\n",
    "workflow.add_node(\"tools\", tool_node)\n",
    "\n",
    "# 워크플로우 시작점에서 에이전트 노드로 연결\n",
    "workflow.add_edge(START, \"agent\")\n",
    "\n",
    "# 에이전트 노드에서 조건부 분기 설정, 도구 노드 또는 종료 지점으로 연결\n",
    "workflow.add_conditional_edges(\"agent\", tools_condition)\n",
    "\n",
    "# 도구 노드에서 에이전트 노드로 순환 연결\n",
    "workflow.add_edge(\"tools\", \"agent\")\n",
    "\n",
    "# 에이전트 노드에서 종료 지점으로 연결\n",
    "workflow.add_edge(\"agent\", END)\n",
    "\n",
    "\n",
    "from langgraph.checkpoint.memory import MemorySaver\n",
    "\n",
    "# 메모리 저장소 생성\n",
    "memory = MemorySaver()\n",
    "\n",
    "# 그래프 빌더 컴파일\n",
    "graph = workflow.compile(checkpointer=memory)"
   ]
  },
  {
   "cell_type": "code",
   "execution_count": 8,
   "id": "48e994e0",
   "metadata": {},
   "outputs": [
    {
     "data": {
      "image/png": "[encoded data removed]",
      "text/plain": [
       "<IPython.core.display.Image object>"
      ]
     },
     "metadata": {},
     "output_type": "display_data"
    }
   ],
   "source": [
    "from langchain_teddynote.graphs import visualize_graph\n",
    "\n",
    "visualize_graph(graph)"
   ]
  },
  {
   "cell_type": "code",
   "execution_count": null,
   "id": "a3d9bab6",
   "metadata": {},
   "outputs": [
    {
     "name": "stdout",
     "output_type": "stream",
     "text": [
      "Step 상태 변화:\n",
      "\n",
      " {'agent': {'messages': [AIMessage(content='', additional_kwargs={'tool_calls': [{'id': 'call_unFJfD8VdkLEYn4Sh7ouCZeP', 'function': {'arguments': '{\"query\":\"삼성전자 AI\"}', 'name': 'search_local_data'}, 'type': 'function'}], 'refusal': None}, response_metadata={'token_usage': {'completion_tokens': 18, 'prompt_tokens': 81, 'total_tokens': 99, 'completion_tokens_details': {'accepted_prediction_tokens': 0, 'audio_tokens': 0, 'reasoning_tokens': 0, 'rejected_prediction_tokens': 0}, 'prompt_tokens_details': {'audio_tokens': 0, 'cached_tokens': 0}}, 'model_name': 'gpt-4o-mini-2024-07-18', 'system_fingerprint': 'fp_560af6e559', 'id': 'chatcmpl-CI7W7CzgycZ9NmLZg3zmqFgMadGgZ', 'service_tier': 'default', 'finish_reason': 'tool_calls', 'logprobs': None}, id='run--921aaa08-b5e8-4c06-ab49-540ee3746117-0', tool_calls=[{'name': 'search_local_data', 'args': {'query': '삼성전자 AI'}, 'id': 'call_unFJfD8VdkLEYn4Sh7ouCZeP', 'type': 'tool_call'}], usage_metadata={'input_tokens': 81, 'output_tokens': 18, 'total_tokens': 99, 'input_token_details': {'audio': 0, 'cache_read': 0}, 'output_token_details': {'audio': 0, 'reasoning': 0}})], 'answer': [AIMessage(content='', additional_kwargs={'tool_calls': [{'id': 'call_unFJfD8VdkLEYn4Sh7ouCZeP', 'function': {'arguments': '{\"query\":\"삼성전자 AI\"}', 'name': 'search_local_data'}, 'type': 'function'}], 'refusal': None}, response_metadata={'token_usage': {'completion_tokens': 18, 'prompt_tokens': 81, 'total_tokens': 99, 'completion_tokens_details': {'accepted_prediction_tokens': 0, 'audio_tokens': 0, 'reasoning_tokens': 0, 'rejected_prediction_tokens': 0}, 'prompt_tokens_details': {'audio_tokens': 0, 'cached_tokens': 0}}, 'model_name': 'gpt-4o-mini-2024-07-18', 'system_fingerprint': 'fp_560af6e559', 'id': 'chatcmpl-CI7W7CzgycZ9NmLZg3zmqFgMadGgZ', 'service_tier': 'default', 'finish_reason': 'tool_calls', 'logprobs': None}, id='run--921aaa08-b5e8-4c06-ab49-540ee3746117-0', tool_calls=[{'name': 'search_local_data', 'args': {'query': '삼성전자 AI'}, 'id': 'call_unFJfD8VdkLEYn4Sh7ouCZeP', 'type': 'tool_call'}], usage_metadata={'input_tokens': 81, 'output_tokens': 18, 'total_tokens': 99, 'input_token_details': {'audio': 0, 'cache_read': 0}, 'output_token_details': {'audio': 0, 'reasoning': 0}})]}}\n",
      "Step 상태 변화:\n",
      "\n",
      " {'tools': {'messages': [ToolMessage(content=\"{'context': [Document(id='7dffbaf5-6ae8-4811-b278-bfc8da3347d6', metadata={'producer': 'Hancom PDF 1.3.0.542', 'creator': 'Hwp 2018 10.0.0.13462', 'creationdate': '2023-12-08T13:28:38+09:00', 'author': 'dj', 'moddate': '2023-12-08T13:28:38+09:00', 'pdfversion': '1.4', 'source': 'data/SPRI_AI_Brief_2023년12월호_F.pdf', 'total_pages': 23, 'page': 2, 'page_label': '3'}, page_content='Ⅰ. 인공지능 산업 동향 브리프'), Document(id='106af418-f6bd-4aa8-884a-61a00b471720', metadata={'producer': 'Hancom PDF 1.3.0.542', 'creator': 'Hwp 2018 10.0.0.13462', 'creationdate': '2023-12-08T13:28:38+09:00', 'author': 'dj', 'moddate': '2023-12-08T13:28:38+09:00', 'pdfversion': '1.4', 'source': 'data/SPRI_AI_Brief_2023년12월호_F.pdf', 'total_pages': 23, 'page': 12, 'page_label': '13'}, page_content='SPRi AI Brief |  \\\\n2023-12 월호\\\\n10삼성전자 , 자체 개발 생성 AI ‘삼성 가우스 ’ 공개\\\\nn삼성전자가 온디바이스에서 작동 가능하며 언어, 코드, 이미지의 3개 모델로 구성된 자체 개발 생성 \\\\nAI 모델 ‘삼성 가우스 ’를 공개\\\\nn삼성전자는 삼성 가우스를 다양한 제품에 단계적으로 탑재할 계획으로 , 온디바이스 작동이 가능한 \\\\n삼성 가우스는 외부로 사용자 정보가 유출될 위험이 없다는 장점을 보유KEY Contents\\\\n£언어, 코드, 이미지의 3개 모델로 구성된 삼성 가우스 , 온디바이스 작동 지원\\\\nn삼성전자가 2023 년 11월 8일 열린 ‘삼성 AI 포럼 2023’ 행사에서 자체 개발한 생성 AI 모델 \\\\n‘삼성 가우스 ’를 최초 공개\\\\n∙정규분포 이론을 정립한 천재 수학자 가우스 (Gauss) 의 이름을 본뜬 삼성 가우스는 다양한 상황에 \\\\n최적화된 크기의 모델 선택이 가능\\\\n∙삼성 가우스는 라이선스나 개인정보를 침해하지 않는 안전한 데이터를 통해 학습되었으며 , \\\\n온디바이스에서 작동하도록 설계되어 외부로 사용자의 정보가 유출되지 않는 장점을 보유\\\\n∙삼성전자는 삼성 가우스를 활용한 온디바이스 AI 기술도 소개했으며 , 생성 AI 모델을 다양한 제품에 \\\\n단계적으로 탑재할 계획\\\\nn삼성 가우스는 △텍스트를 생성하는 언어모델 △코드를 생성하는 코드 모델 △이미지를 생성하는  \\\\n이미지 모델의 3개 모델로 구성\\\\n∙언어 모델은 클라우드와 온디바이스 대상 다양한 모델로 구성되며 , 메일 작성, 문서 요약, 번역 업무의 \\\\n처리를 지원\\\\n∙코드 모델 기반의 AI 코딩 어시스턴트 ‘코드아이 (code.i)’ 는 대화형 인터페이스로 서비스를 제공하며 \\\\n사내 소프트웨어 개발에 최적화\\\\n∙이미지 모델은 창의적인 이미지를 생성하고 기존 이미지를 원하는 대로 바꿀 수 있도록 지원하며 \\\\n저해상도 이미지의 고해상도 전환도 지원\\\\nnIT 전문지 테크리퍼블릭 (TechRepublic) 은 온디바이스 AI가 주요 기술 트렌드로 부상했다며 ,'), Document(id='b38302ce-7ada-408c-8f32-c325e6ba4e5e', metadata={'producer': 'Hancom PDF 1.3.0.542', 'creator': 'Hwp 2018 10.0.0.13462', 'creationdate': '2023-12-08T13:28:38+09:00', 'author': 'dj', 'moddate': '2023-12-08T13:28:38+09:00', 'pdfversion': '1.4', 'source': 'data/SPRI_AI_Brief_2023년12월호_F.pdf', 'total_pages': 23, 'page': 11, 'page_label': '12'}, page_content='∙이 플랫폼은 데이터 관리, 모델 배포와 평가, 신속한 엔지니어링을 위한 종합 도구 모음을 제공하여 \\\\n다양한 기업들이 맞춤형 AI 모델을 한층 쉽게 개발할 수 있도록 지원\\\\n∙생성 AI 개발에 필요한 컴퓨팅과 데이터 처리 요구사항을 지원하기 위해 AI 플랫폼 (PAI), \\\\n데이터베이스 솔루션 , 컨테이너 서비스와 같은 클라우드 신제품도 발표\\\\nn알리바바 클라우드는 AI 개발을 촉진하기 위해 올해 말까지 720억 개 매개변수를 가진 통이치엔원  \\\\n모델을 오픈소스화한다는 계획도 공개\\\\n☞ 출처 : Alibaba Cloud, Alibaba Cloud Launches Tongyi Qianwen 2.0 and Industry-specific Models to Support \\\\nCustomers Reap Benefits of Generative AI, 2023.10.31.'), Document(id='bcc9fc18-8903-4169-958f-46bf851930df', metadata={'producer': 'Hancom PDF 1.3.0.542', 'creator': 'Hwp 2018 10.0.0.13462', 'creationdate': '2023-12-08T13:28:38+09:00', 'author': 'dj', 'moddate': '2023-12-08T13:28:38+09:00', 'pdfversion': '1.4', 'source': 'data/SPRI_AI_Brief_2023년12월호_F.pdf', 'total_pages': 23, 'page': 11, 'page_label': '12'}, page_content='1. 정책/법제  2. 기업/산업 3. 기술/연구  4. 인력/교육\\\\n알리바바 클라우드 , 최신 LLM ‘통이치엔원 2.0’ 공개\\\\nn알리바바 클라우드가 복잡한 지침 이해, 광고문구 작성, 추론, 암기 등에서 성능이 향상된 최신 \\\\nLLM ‘통이치엔원 2.0’을 공개\\\\nn알리바바 클라우드는 산업별로 특화된 생성 AI 모델을 공개하는 한편, 모델 개발과 애플리케이션 \\\\n구축 절차를 간소화하는 올인원 AI 모델 구축 플랫폼도 출시KEY Contents\\\\n£알리바바의 통이치엔원 2.0, 주요 벤치마크 테스트에서 여타 LLM 능가\\\\nn중국의 알리바바 클라우드가 2023 년 10월 31일 열린 연례 기술 컨퍼런스에서 최신 LLM ‘통이\\\\n치엔원 (Tongyi Qianwen) 2.0’을 공개\\\\n∙알리바바 클라우드는 통이치엔원 2.0이 2023 년 4월 출시된 1.0 버전보다 복잡한 지침 이해, \\\\n광고문구 작성, 추론, 암기 등에서 성능이 향상되었다고 설명\\\\n∙통이치엔원 2.0은 언어 이해 테스트 (MMLU), 수학(GSM8k), 질문 답변(ARC-C) 과 같은 벤치마크 \\\\n테스트에서 라마(Llama-2-70B) 와 GPT-3.5 를 비롯한 주요 AI 모델을 능가 \\\\n∙통이치엔원 2.0은 알리바바 클라우드의 웹사이트와 모바일 앱을 통해 대중에 제공되며 개발자는 \\\\nAPI를 통해 사용 가능 \\\\nn알리바바 클라우드는 여러 산업 영역에서 생성 AI를 활용해 사업 성과를 개선할 수 있도록 지원\\\\n하는 산업별 모델도 출시\\\\n∙산업 영역은 고객지원 , 법률 상담, 의료, 금융, 문서관리 , 오디오와 동영상 관리, 코드 개발, 캐릭터 \\\\n제작을 포함\\\\nn알리바바 클라우드는 급증하는 생성 AI 수요에 대응해 모델 개발과 애플리케이션 구축 절차를 \\\\n간소화하는 올인원 AI 모델 구축 플랫폼 ‘젠AI(GenAI)’ 도 공개\\\\n∙이 플랫폼은 데이터 관리, 모델 배포와 평가, 신속한 엔지니어링을 위한 종합 도구 모음을 제공하여 \\\\n다양한 기업들이 맞춤형 AI 모델을 한층 쉽게 개발할 수 있도록 지원')]}\", name='search_local_data', id='e9688dec-be35-49fa-b372-68601f95180c', tool_call_id='call_unFJfD8VdkLEYn4Sh7ouCZeP')]}}\n",
      "Step 상태 변화:\n",
      "\n",
      " {'agent': {'messages': [AIMessage(content='', additional_kwargs={'tool_calls': [{'id': 'call_Z8f6gkvRvnt2GA9uFp1wAmQa', 'function': {'arguments': '{\"query\":\"삼성전자 AI\"}', 'name': 'search_local_data'}, 'type': 'function'}], 'refusal': None}, response_metadata={'token_usage': {'completion_tokens': 18, 'prompt_tokens': 81, 'total_tokens': 99, 'completion_tokens_details': {'accepted_prediction_tokens': 0, 'audio_tokens': 0, 'reasoning_tokens': 0, 'rejected_prediction_tokens': 0}, 'prompt_tokens_details': {'audio_tokens': 0, 'cached_tokens': 0}}, 'model_name': 'gpt-4o-mini-2024-07-18', 'system_fingerprint': 'fp_560af6e559', 'id': 'chatcmpl-CI7WKVr6l64EGqGyp6Eu29TqTHxPW', 'service_tier': 'default', 'finish_reason': 'tool_calls', 'logprobs': None}, id='run--20e698fb-a8e9-4468-8bda-2ae247a315a8-0', tool_calls=[{'name': 'search_local_data', 'args': {'query': '삼성전자 AI'}, 'id': 'call_Z8f6gkvRvnt2GA9uFp1wAmQa', 'type': 'tool_call'}], usage_metadata={'input_tokens': 81, 'output_tokens': 18, 'total_tokens': 99, 'input_token_details': {'audio': 0, 'cache_read': 0}, 'output_token_details': {'audio': 0, 'reasoning': 0}})], 'answer': [AIMessage(content='', additional_kwargs={'tool_calls': [{'id': 'call_Z8f6gkvRvnt2GA9uFp1wAmQa', 'function': {'arguments': '{\"query\":\"삼성전자 AI\"}', 'name': 'search_local_data'}, 'type': 'function'}], 'refusal': None}, response_metadata={'token_usage': {'completion_tokens': 18, 'prompt_tokens': 81, 'total_tokens': 99, 'completion_tokens_details': {'accepted_prediction_tokens': 0, 'audio_tokens': 0, 'reasoning_tokens': 0, 'rejected_prediction_tokens': 0}, 'prompt_tokens_details': {'audio_tokens': 0, 'cached_tokens': 0}}, 'model_name': 'gpt-4o-mini-2024-07-18', 'system_fingerprint': 'fp_560af6e559', 'id': 'chatcmpl-CI7WKVr6l64EGqGyp6Eu29TqTHxPW', 'service_tier': 'default', 'finish_reason': 'tool_calls', 'logprobs': None}, id='run--20e698fb-a8e9-4468-8bda-2ae247a315a8-0', tool_calls=[{'name': 'search_local_data', 'args': {'query': '삼성전자 AI'}, 'id': 'call_Z8f6gkvRvnt2GA9uFp1wAmQa', 'type': 'tool_call'}], usage_metadata={'input_tokens': 81, 'output_tokens': 18, 'total_tokens': 99, 'input_token_details': {'audio': 0, 'cache_read': 0}, 'output_token_details': {'audio': 0, 'reasoning': 0}})]}}\n",
      "Step 상태 변화:\n",
      "\n",
      " {'tools': {'messages': [ToolMessage(content=\"{'context': [Document(id='2708a3fc-1540-49c9-b4b1-93f5fb0f508d', metadata={'producer': 'Hancom PDF 1.3.0.542', 'creator': 'Hwp 2018 10.0.0.13462', 'creationdate': '2023-12-08T13:28:38+09:00', 'author': 'dj', 'moddate': '2023-12-08T13:28:38+09:00', 'pdfversion': '1.4', 'source': 'data/SPRI_AI_Brief_2023년12월호_F.pdf', 'total_pages': 23, 'page': 2, 'page_label': '3'}, page_content='Ⅰ. 인공지능 산업 동향 브리프'), Document(id='7c093f0d-a8e8-4904-b16f-5b05adc5e111', metadata={'producer': 'Hancom PDF 1.3.0.542', 'creator': 'Hwp 2018 10.0.0.13462', 'creationdate': '2023-12-08T13:28:38+09:00', 'author': 'dj', 'moddate': '2023-12-08T13:28:38+09:00', 'pdfversion': '1.4', 'source': 'data/SPRI_AI_Brief_2023년12월호_F.pdf', 'total_pages': 23, 'page': 12, 'page_label': '13'}, page_content='SPRi AI Brief |  \\\\n2023-12 월호\\\\n10삼성전자 , 자체 개발 생성 AI ‘삼성 가우스 ’ 공개\\\\nn삼성전자가 온디바이스에서 작동 가능하며 언어, 코드, 이미지의 3개 모델로 구성된 자체 개발 생성 \\\\nAI 모델 ‘삼성 가우스 ’를 공개\\\\nn삼성전자는 삼성 가우스를 다양한 제품에 단계적으로 탑재할 계획으로 , 온디바이스 작동이 가능한 \\\\n삼성 가우스는 외부로 사용자 정보가 유출될 위험이 없다는 장점을 보유KEY Contents\\\\n£언어, 코드, 이미지의 3개 모델로 구성된 삼성 가우스 , 온디바이스 작동 지원\\\\nn삼성전자가 2023 년 11월 8일 열린 ‘삼성 AI 포럼 2023’ 행사에서 자체 개발한 생성 AI 모델 \\\\n‘삼성 가우스 ’를 최초 공개\\\\n∙정규분포 이론을 정립한 천재 수학자 가우스 (Gauss) 의 이름을 본뜬 삼성 가우스는 다양한 상황에 \\\\n최적화된 크기의 모델 선택이 가능\\\\n∙삼성 가우스는 라이선스나 개인정보를 침해하지 않는 안전한 데이터를 통해 학습되었으며 , \\\\n온디바이스에서 작동하도록 설계되어 외부로 사용자의 정보가 유출되지 않는 장점을 보유\\\\n∙삼성전자는 삼성 가우스를 활용한 온디바이스 AI 기술도 소개했으며 , 생성 AI 모델을 다양한 제품에 \\\\n단계적으로 탑재할 계획\\\\nn삼성 가우스는 △텍스트를 생성하는 언어모델 △코드를 생성하는 코드 모델 △이미지를 생성하는  \\\\n이미지 모델의 3개 모델로 구성\\\\n∙언어 모델은 클라우드와 온디바이스 대상 다양한 모델로 구성되며 , 메일 작성, 문서 요약, 번역 업무의 \\\\n처리를 지원\\\\n∙코드 모델 기반의 AI 코딩 어시스턴트 ‘코드아이 (code.i)’ 는 대화형 인터페이스로 서비스를 제공하며 \\\\n사내 소프트웨어 개발에 최적화\\\\n∙이미지 모델은 창의적인 이미지를 생성하고 기존 이미지를 원하는 대로 바꿀 수 있도록 지원하며 \\\\n저해상도 이미지의 고해상도 전환도 지원\\\\nnIT 전문지 테크리퍼블릭 (TechRepublic) 은 온디바이스 AI가 주요 기술 트렌드로 부상했다며 ,'), Document(id='aa10f386-8b11-4c35-856b-1d66a237b056', metadata={'producer': 'Hancom PDF 1.3.0.542', 'creator': 'Hwp 2018 10.0.0.13462', 'creationdate': '2023-12-08T13:28:38+09:00', 'author': 'dj', 'moddate': '2023-12-08T13:28:38+09:00', 'pdfversion': '1.4', 'source': 'data/SPRI_AI_Brief_2023년12월호_F.pdf', 'total_pages': 23, 'page': 11, 'page_label': '12'}, page_content='∙이 플랫폼은 데이터 관리, 모델 배포와 평가, 신속한 엔지니어링을 위한 종합 도구 모음을 제공하여 \\\\n다양한 기업들이 맞춤형 AI 모델을 한층 쉽게 개발할 수 있도록 지원\\\\n∙생성 AI 개발에 필요한 컴퓨팅과 데이터 처리 요구사항을 지원하기 위해 AI 플랫폼 (PAI), \\\\n데이터베이스 솔루션 , 컨테이너 서비스와 같은 클라우드 신제품도 발표\\\\nn알리바바 클라우드는 AI 개발을 촉진하기 위해 올해 말까지 720억 개 매개변수를 가진 통이치엔원  \\\\n모델을 오픈소스화한다는 계획도 공개\\\\n☞ 출처 : Alibaba Cloud, Alibaba Cloud Launches Tongyi Qianwen 2.0 and Industry-specific Models to Support \\\\nCustomers Reap Benefits of Generative AI, 2023.10.31.'), Document(id='b1fa988c-1ed4-4f11-931c-713da88f98e3', metadata={'producer': 'Hancom PDF 1.3.0.542', 'creator': 'Hwp 2018 10.0.0.13462', 'creationdate': '2023-12-08T13:28:38+09:00', 'author': 'dj', 'moddate': '2023-12-08T13:28:38+09:00', 'pdfversion': '1.4', 'source': 'data/SPRI_AI_Brief_2023년12월호_F.pdf', 'total_pages': 23, 'page': 11, 'page_label': '12'}, page_content='1. 정책/법제  2. 기업/산업 3. 기술/연구  4. 인력/교육\\\\n알리바바 클라우드 , 최신 LLM ‘통이치엔원 2.0’ 공개\\\\nn알리바바 클라우드가 복잡한 지침 이해, 광고문구 작성, 추론, 암기 등에서 성능이 향상된 최신 \\\\nLLM ‘통이치엔원 2.0’을 공개\\\\nn알리바바 클라우드는 산업별로 특화된 생성 AI 모델을 공개하는 한편, 모델 개발과 애플리케이션 \\\\n구축 절차를 간소화하는 올인원 AI 모델 구축 플랫폼도 출시KEY Contents\\\\n£알리바바의 통이치엔원 2.0, 주요 벤치마크 테스트에서 여타 LLM 능가\\\\nn중국의 알리바바 클라우드가 2023 년 10월 31일 열린 연례 기술 컨퍼런스에서 최신 LLM ‘통이\\\\n치엔원 (Tongyi Qianwen) 2.0’을 공개\\\\n∙알리바바 클라우드는 통이치엔원 2.0이 2023 년 4월 출시된 1.0 버전보다 복잡한 지침 이해, \\\\n광고문구 작성, 추론, 암기 등에서 성능이 향상되었다고 설명\\\\n∙통이치엔원 2.0은 언어 이해 테스트 (MMLU), 수학(GSM8k), 질문 답변(ARC-C) 과 같은 벤치마크 \\\\n테스트에서 라마(Llama-2-70B) 와 GPT-3.5 를 비롯한 주요 AI 모델을 능가 \\\\n∙통이치엔원 2.0은 알리바바 클라우드의 웹사이트와 모바일 앱을 통해 대중에 제공되며 개발자는 \\\\nAPI를 통해 사용 가능 \\\\nn알리바바 클라우드는 여러 산업 영역에서 생성 AI를 활용해 사업 성과를 개선할 수 있도록 지원\\\\n하는 산업별 모델도 출시\\\\n∙산업 영역은 고객지원 , 법률 상담, 의료, 금융, 문서관리 , 오디오와 동영상 관리, 코드 개발, 캐릭터 \\\\n제작을 포함\\\\nn알리바바 클라우드는 급증하는 생성 AI 수요에 대응해 모델 개발과 애플리케이션 구축 절차를 \\\\n간소화하는 올인원 AI 모델 구축 플랫폼 ‘젠AI(GenAI)’ 도 공개\\\\n∙이 플랫폼은 데이터 관리, 모델 배포와 평가, 신속한 엔지니어링을 위한 종합 도구 모음을 제공하여 \\\\n다양한 기업들이 맞춤형 AI 모델을 한층 쉽게 개발할 수 있도록 지원')]}\", name='search_local_data', id='acb65605-17b1-4acc-a203-1f8e3335b8e0', tool_call_id='call_Z8f6gkvRvnt2GA9uFp1wAmQa')]}}\n",
      "Step 상태 변화:\n",
      "\n",
      " {'agent': {'messages': [AIMessage(content='', additional_kwargs={'tool_calls': [{'id': 'call_PcatXPkjhxka8KOR8evu4MJM', 'function': {'arguments': '{\"query\":\"삼성전자 AI\"}', 'name': 'search_local_data'}, 'type': 'function'}], 'refusal': None}, response_metadata={'token_usage': {'completion_tokens': 18, 'prompt_tokens': 81, 'total_tokens': 99, 'completion_tokens_details': {'accepted_prediction_tokens': 0, 'audio_tokens': 0, 'reasoning_tokens': 0, 'rejected_prediction_tokens': 0}, 'prompt_tokens_details': {'audio_tokens': 0, 'cached_tokens': 0}}, 'model_name': 'gpt-4o-mini-2024-07-18', 'system_fingerprint': 'fp_560af6e559', 'id': 'chatcmpl-CI7WWThwfrOyYeOvdZ1K0KVbhDDUl', 'service_tier': 'default', 'finish_reason': 'tool_calls', 'logprobs': None}, id='run--06dd240c-b50d-4879-a0c1-c07a5daa9a87-0', tool_calls=[{'name': 'search_local_data', 'args': {'query': '삼성전자 AI'}, 'id': 'call_PcatXPkjhxka8KOR8evu4MJM', 'type': 'tool_call'}], usage_metadata={'input_tokens': 81, 'output_tokens': 18, 'total_tokens': 99, 'input_token_details': {'audio': 0, 'cache_read': 0}, 'output_token_details': {'audio': 0, 'reasoning': 0}})], 'answer': [AIMessage(content='', additional_kwargs={'tool_calls': [{'id': 'call_PcatXPkjhxka8KOR8evu4MJM', 'function': {'arguments': '{\"query\":\"삼성전자 AI\"}', 'name': 'search_local_data'}, 'type': 'function'}], 'refusal': None}, response_metadata={'token_usage': {'completion_tokens': 18, 'prompt_tokens': 81, 'total_tokens': 99, 'completion_tokens_details': {'accepted_prediction_tokens': 0, 'audio_tokens': 0, 'reasoning_tokens': 0, 'rejected_prediction_tokens': 0}, 'prompt_tokens_details': {'audio_tokens': 0, 'cached_tokens': 0}}, 'model_name': 'gpt-4o-mini-2024-07-18', 'system_fingerprint': 'fp_560af6e559', 'id': 'chatcmpl-CI7WWThwfrOyYeOvdZ1K0KVbhDDUl', 'service_tier': 'default', 'finish_reason': 'tool_calls', 'logprobs': None}, id='run--06dd240c-b50d-4879-a0c1-c07a5daa9a87-0', tool_calls=[{'name': 'search_local_data', 'args': {'query': '삼성전자 AI'}, 'id': 'call_PcatXPkjhxka8KOR8evu4MJM', 'type': 'tool_call'}], usage_metadata={'input_tokens': 81, 'output_tokens': 18, 'total_tokens': 99, 'input_token_details': {'audio': 0, 'cache_read': 0}, 'output_token_details': {'audio': 0, 'reasoning': 0}})]}}\n"
     ]
    },
    {
     "ename": "GraphRecursionError",
     "evalue": "Recursion limit of 5 reached without hitting a stop condition. You can increase the limit by setting the `recursion_limit` config key.\nFor troubleshooting, visit: https://python.langchain.com/docs/troubleshooting/errors/GRAPH_RECURSION_LIMIT",
     "output_type": "error",
     "traceback": [
      "\u001b[31m---------------------------------------------------------------------------\u001b[39m",
      "\u001b[31mGraphRecursionError\u001b[39m                       Traceback (most recent call last)",
      "\u001b[36mCell\u001b[39m\u001b[36m \u001b[39m\u001b[32mIn[12]\u001b[39m\u001b[32m, line 11\u001b[39m\n\u001b[32m      5\u001b[39m config = RunnableConfig(\n\u001b[32m      6\u001b[39m     recursion_limit=\u001b[32m5\u001b[39m,  \u001b[38;5;66;03m# 최대 10개의 노드까지 방문. 그 이상은 RecursionError 발생\u001b[39;00m\n\u001b[32m      7\u001b[39m     configurable={\u001b[33m\"\u001b[39m\u001b[33mthread_id\u001b[39m\u001b[33m\"\u001b[39m: \u001b[33m\"\u001b[39m\u001b[33m1\u001b[39m\u001b[33m\"\u001b[39m},  \u001b[38;5;66;03m# 스레드 ID 설정  \u001b[39;00m\n\u001b[32m      8\u001b[39m )\n\u001b[32m      9\u001b[39m \u001b[38;5;66;03m# result = await graph.ainvoke({\"question\":\"내부 문서중에서 삼성전자 AI 정보\"},config)\u001b[39;00m\n\u001b[32m     10\u001b[39m \u001b[38;5;66;03m# print(result)\u001b[39;00m\n\u001b[32m---> \u001b[39m\u001b[32m11\u001b[39m \u001b[38;5;28;01masync\u001b[39;00m \u001b[38;5;28;01mfor\u001b[39;00m step \u001b[38;5;129;01min\u001b[39;00m graph.astream({\u001b[33m\"\u001b[39m\u001b[33mquestion\u001b[39m\u001b[33m\"\u001b[39m:\u001b[33m\"\u001b[39m\u001b[33m내부 문서중에서 삼성전자 AI 정보\u001b[39m\u001b[33m\"\u001b[39m}, config):\n\u001b[32m     12\u001b[39m     \u001b[38;5;28mprint\u001b[39m(\u001b[33m\"\u001b[39m\u001b[33mStep 상태 변화:\u001b[39m\u001b[38;5;130;01m\\n\u001b[39;00m\u001b[38;5;130;01m\\n\u001b[39;00m\u001b[33m\"\u001b[39m, step)\n\u001b[32m     14\u001b[39m \u001b[38;5;66;03m# result = await graph.ainvoke( {\"messages\": [(\"human\", \"내부 문서중에서 삼성전자 AI 정보\")]},config)\u001b[39;00m\n\u001b[32m     15\u001b[39m \u001b[38;5;66;03m# print(result)\u001b[39;00m\n\u001b[32m     16\u001b[39m \u001b[38;5;66;03m# for chunk in graph.astream(\u001b[39;00m\n\u001b[32m   (...)\u001b[39m\u001b[32m     19\u001b[39m \u001b[38;5;66;03m# ):\u001b[39;00m\n\u001b[32m     20\u001b[39m \u001b[38;5;66;03m#     chunk[\"messages\"][-1].pretty_print()\u001b[39;00m\n",
      "\u001b[36mFile \u001b[39m\u001b[32m~/.cache/pypoetry/virtualenvs/langchain-kr-qU3nSgPx-py3.11/lib/python3.11/site-packages/langgraph/pregel/main.py:2977\u001b[39m, in \u001b[36mPregel.astream\u001b[39m\u001b[34m(self, input, config, context, stream_mode, print_mode, output_keys, interrupt_before, interrupt_after, durability, subgraphs, debug, **kwargs)\u001b[39m\n\u001b[32m   2968\u001b[39m \u001b[38;5;28;01mif\u001b[39;00m loop.status == \u001b[33m\"\u001b[39m\u001b[33mout_of_steps\u001b[39m\u001b[33m\"\u001b[39m:\n\u001b[32m   2969\u001b[39m     msg = create_error_message(\n\u001b[32m   2970\u001b[39m         message=(\n\u001b[32m   2971\u001b[39m             \u001b[33mf\u001b[39m\u001b[33m\"\u001b[39m\u001b[33mRecursion limit of \u001b[39m\u001b[38;5;132;01m{\u001b[39;00mconfig[\u001b[33m'\u001b[39m\u001b[33mrecursion_limit\u001b[39m\u001b[33m'\u001b[39m]\u001b[38;5;132;01m}\u001b[39;00m\u001b[33m reached \u001b[39m\u001b[33m\"\u001b[39m\n\u001b[32m   (...)\u001b[39m\u001b[32m   2975\u001b[39m         error_code=ErrorCode.GRAPH_RECURSION_LIMIT,\n\u001b[32m   2976\u001b[39m     )\n\u001b[32m-> \u001b[39m\u001b[32m2977\u001b[39m     \u001b[38;5;28;01mraise\u001b[39;00m GraphRecursionError(msg)\n\u001b[32m   2978\u001b[39m \u001b[38;5;66;03m# set final channel values as run output\u001b[39;00m\n\u001b[32m   2979\u001b[39m \u001b[38;5;28;01mawait\u001b[39;00m run_manager.on_chain_end(loop.output)\n",
      "\u001b[31mGraphRecursionError\u001b[39m: Recursion limit of 5 reached without hitting a stop condition. You can increase the limit by setting the `recursion_limit` config key.\nFor troubleshooting, visit: https://python.langchain.com/docs/troubleshooting/errors/GRAPH_RECURSION_LIMIT"
     ]
    }
   ],
   "source": [
    "# 검색 질문 수행\n",
    "\n",
    "from langchain_core.runnables import RunnableConfig\n",
    "\n",
    "config = RunnableConfig(\n",
    "    recursion_limit=5,  # 최대 10개의 노드까지 방문. 그 이상은 RecursionError 발생\n",
    "    configurable={\"thread_id\": \"1\"},  # 스레드 ID 설정  \n",
    ")\n",
    "# result = await graph.ainvoke({\"question\":\"내부 문서중에서 삼성전자 AI 정보\"},config)\n",
    "# print(result)\n",
    "async for step in graph.astream({\"question\":\"내부 문서중에서 삼성전자 AI 정보\"}, config):\n",
    "    print(\"Step 상태 변화:\\n\\n\", step)\n",
    "\n",
    "# result = await graph.ainvoke( {\"messages\": [(\"human\", \"내부 문서중에서 삼성전자 AI 정보\")]},config)\n",
    "# print(result)\n",
    "# for chunk in graph.astream(\n",
    "#     {\"messages\": [(\"human\", \"내부 문서중에서 삼성전자 AI 정보\")]},\n",
    "#     stream_mode=\"values\",\n",
    "# ):\n",
    "#     chunk[\"messages\"][-1].pretty_print()"
   ]
  },
  {
   "cell_type": "code",
   "execution_count": null,
   "id": "3b49f4f2",
   "metadata": {},
   "outputs": [],
   "source": [
    "outputs =  graph.get_state(config).values\n"
   ]
  },
  {
   "cell_type": "code",
   "execution_count": null,
   "id": "8885efb6",
   "metadata": {},
   "outputs": [],
   "source": [
    "print(f'Question: {outputs[\"messages\"]}')\n",
    "print(\"===\" * 20)\n",
    "print(f'Answer:\\n{outputs[\"answer\"]}')"
   ]
  },
  {
   "cell_type": "code",
   "execution_count": null,
   "id": "95654222",
   "metadata": {},
   "outputs": [],
   "source": [
    "print(result['messages'][1])"
   ]
  },
  {
   "cell_type": "markdown",
   "id": "4186ccaf",
   "metadata": {},
   "source": [
    "##  메모리 추가"
   ]
  },
  {
   "cell_type": "code",
   "execution_count": null,
   "id": "a91bdb8f",
   "metadata": {},
   "outputs": [],
   "source": [
    "from langgraph.checkpoint.memory import MemorySaver\n",
    "\n",
    "# 메모리 저장소 생성\n",
    "memory = MemorySaver()\n",
    "\n",
    "# 그래프 빌더 컴파일\n",
    "graph = workflow.compile(checkpointer=memory)"
   ]
  },
  {
   "cell_type": "code",
   "execution_count": null,
   "id": "7440fe20",
   "metadata": {},
   "outputs": [],
   "source": [
    "from langchain_core.runnables import RunnableConfig\n",
    "\n",
    "config = RunnableConfig(\n",
    "    recursion_limit=10,  # 최대 10개의 노드까지 방문. 그 이상은 RecursionError 발생\n",
    "    configurable={\"thread_id\": \"1\"},  # 스레드 ID 설정  \n",
    ")\n",
    "inputs = GraphState(question=\"내부 문서중에서 삼성전자 AI 정보\")\n"
   ]
  },
  {
   "cell_type": "code",
   "execution_count": null,
   "id": "5220faba",
   "metadata": {},
   "outputs": [],
   "source": [
    "inputs"
   ]
  },
  {
   "cell_type": "code",
   "execution_count": null,
   "id": "1bb0cd44",
   "metadata": {},
   "outputs": [],
   "source": [
    "result = await graph.ainvoke(inputs,config)\n",
    "print(result)"
   ]
  }
 ],
 "metadata": {
  "kernelspec": {
   "display_name": "langchain-kr-qU3nSgPx-py3.11",
   "language": "python",
   "name": "python3"
  },
  "language_info": {
   "codemirror_mode": {
    "name": "ipython",
    "version": 3
   },
   "file_extension": ".py",
   "mimetype": "text/x-python",
   "name": "python",
   "nbconvert_exporter": "python",
   "pygments_lexer": "ipython3",
   "version": "3.11.3"
  }
 },
 "nbformat": 4,
 "nbformat_minor": 5
}
