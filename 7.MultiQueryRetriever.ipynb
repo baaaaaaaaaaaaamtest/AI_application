{
 "cells": [
  {
   "cell_type": "code",
   "execution_count": 10,
   "id": "a1264725",
   "metadata": {},
   "outputs": [],
   "source": [
    "from langchain.text_splitter import RecursiveCharacterTextSplitter \n",
    "from langchain.vectorstores import FAISS\n",
    "from langchain.chains import RetrievalQA\n",
    "from langchain_ollama import OllamaLLM\n",
    "from langchain import PromptTemplate\n",
    "from langchain_community.document_loaders import TextLoader\n",
    "from langchain.schema import Document\n",
    "from langgraph.prebuilt import create_react_agent\n",
    "import datetime\n",
    "import numpy as np\n",
    "import time\n",
    "from langchain_huggingface.embeddings import HuggingFaceEmbeddings\n",
    "from langchain_openai import ChatOpenAI, OpenAIEmbeddings\n",
    "from langchain.retrievers import ContextualCompressionRetriever\n",
    "from langchain.retrievers.document_compressors import CrossEncoderReranker\n",
    "from langchain_community.cross_encoders import HuggingFaceCrossEncoder\n",
    "from langchain_community.document_transformers import LongContextReorder\n",
    "from operator import itemgetter\n",
    "from langchain_core.output_parsers import StrOutputParser\n",
    "from langchain_core.runnables import RunnableLambda\n",
    "from langchain.retrievers.multi_query import MultiQueryRetriever\n"
   ]
  },
  {
   "cell_type": "code",
   "execution_count": 1,
   "id": "62105a6c",
   "metadata": {},
   "outputs": [
    {
     "data": {
      "text/plain": [
       "True"
      ]
     },
     "execution_count": 1,
     "metadata": {},
     "output_type": "execute_result"
    }
   ],
   "source": [
    "# API 키를 환경변수로 관리하기 위한 설정 파일\n",
    "from dotenv import load_dotenv\n",
    "\n",
    "# API 키 정보 로드\n",
    "load_dotenv()"
   ]
  },
  {
   "cell_type": "code",
   "execution_count": null,
   "id": "919e9423",
   "metadata": {},
   "outputs": [],
   "source": [
    "# LangSmith 추적을 설정합니다. https://smith.langchain.com\n",
    "# !pip install langchain-teddynote\n",
    "from langchain_teddynote import logging\n",
    "\n",
    "# 프로젝트 이름을 입력합니다.\n",
    "logging.langsmith(\"CH07-MultiQuery\")"
   ]
  },
  {
   "cell_type": "code",
   "execution_count": null,
   "id": "9bbca13c",
   "metadata": {},
   "outputs": [],
   "source": [
    "OLLAMA_BASE_URL = \"http://localhost:11434\" # Ollama 서버 주소\n",
    "OLLAMA_CHAT_MODEL = \"ollama-ko-0710:latest\" # Ollama에서 실행중인 모델 이름"
   ]
  },
  {
   "cell_type": "code",
   "execution_count": 3,
   "id": "6ffeaad5",
   "metadata": {},
   "outputs": [],
   "source": [
    "def get_split_docs():\n",
    "    # 1. 텍스트 청크 분할 (chunk_size=1000, chunk_overlap=50)\n",
    "    text_splitter = RecursiveCharacterTextSplitter(chunk_size=500, chunk_overlap=100)\n",
    "\n",
    "    # 2. Text loader\n",
    "    loader = TextLoader(\"./data/text.txt\", encoding=\"utf-8\")\n",
    "    return loader.load_and_split(text_splitter)"
   ]
  },
  {
   "cell_type": "markdown",
   "id": "932de4ef",
   "metadata": {},
   "source": [
    "## MMR 알고리즘 특징\n",
    "- 쿼리(query)와 각 문서(document)의 관련성(유사도)을 높이되\n",
    "- 이미 선택된 문서와의 중복(유사성)을 최소화하여 서로 다른 내용을 가진 문서를 선택합니다."
   ]
  },
  {
   "cell_type": "code",
   "execution_count": 4,
   "id": "2272d43d",
   "metadata": {},
   "outputs": [],
   "source": [
    "def get_retriever(split_docs): \n",
    "    model_name = \"intfloat/multilingual-e5-large-instruct\"\n",
    "    hf_embeddings = HuggingFaceEmbeddings(\n",
    "        model_name=model_name,\n",
    "        model_kwargs={\"device\": \"cuda\"},  # cuda, cpu\n",
    "        encode_kwargs={\"normalize_embeddings\": True},\n",
    "    )\n",
    "    db = FAISS.from_documents(documents=split_docs, embedding=hf_embeddings)\n",
    "    retriever = db.as_retriever(\n",
    "        search_type=\"mmr\", search_kwargs={\"k\": 10, \"lambda_mult\": 0.25, \"fetch_k\": 20}\n",
    "    )\n",
    "    return retriever"
   ]
  },
  {
   "cell_type": "code",
   "execution_count": 5,
   "id": "1d624cc6",
   "metadata": {},
   "outputs": [],
   "source": [
    "\n",
    "docs = get_split_docs()\n",
    "retriever = get_retriever(docs)"
   ]
  },
  {
   "cell_type": "code",
   "execution_count": 7,
   "id": "cc67ddee",
   "metadata": {},
   "outputs": [
    {
     "name": "stdout",
     "output_type": "stream",
     "text": [
      "10\n"
     ]
    }
   ],
   "source": [
    "_docs = retriever.invoke(\"삼성전자 하반기 실적\")\n",
    "print(len(_docs))"
   ]
  },
  {
   "cell_type": "code",
   "execution_count": null,
   "id": "312c4f3e",
   "metadata": {},
   "outputs": [
    {
     "name": "stdout",
     "output_type": "stream",
     "text": [
      "특히 파운드리 고객사를 확보한 것이 단기 실적에는 영향을 미치지 않지만, 중장기 경쟁력 회복을 위한 기반이 될 것이라고 평가했다. 류 연구원은 \"여러 기대감이 모여 밸류에이션이 정상화되는 국면\"이라고 분석했다. \n",
      "이어 3분기 영업이익은 9조원으로 1년 전보다는 1.9% 감소하지만 직전 분기 대비 91.9% 늘어날 것으로 낙관했다.\n",
      "미래에셋증권은 15일 보고서에서 삼성전자의 올해와 내년 영업이익 전망치를 기존대비 각각 2.9%, 5.3%씩 올렸다. 동시에 목표 주가를 기존 8만8000원에서 9만6000원으로 9% 높였다.\n",
      "미래에셋증권은 주가 상향 이유로 내년 메모리 반도체 공급 부족을 꼽았다. 반도체 업체들은 제한된 D램 생산라인을 갖고 있는데, 업황 불확실성 탓에 설비를 크게 늘리지 못했다. 새로 증설한 시설도 대부분 차세대 반도체인 고대역폭 메모리(HBM) 생산에 집중돼 있어 범용 D램의 생산량이 줄면서 가격이 오르고 있다.\n"
     ]
    }
   ],
   "source": [
    "print(_docs[0].page_content)"
   ]
  },
  {
   "cell_type": "markdown",
   "id": "497b73cb",
   "metadata": {},
   "source": [
    "## MutiQuery Retriever\n",
    "\n",
    "LLM 을 사용하여 3가지 쿼리문 생성하여 연결된 retriever 에서 관련된 데이터를 검색 후 병합하여 최종 데이터 context 출력 메커니즘"
   ]
  },
  {
   "cell_type": "code",
   "execution_count": 11,
   "id": "e870e6c3",
   "metadata": {},
   "outputs": [],
   "source": [
    "# ChatOpenAI 언어 모델을 초기화합니다. temperature는 0으로 설정합니다.\n",
    "llm = ChatOpenAI(temperature=0, model=\"gpt-4o-mini\")\n",
    "\n",
    "multiquery_retriever = MultiQueryRetriever.from_llm(  # MultiQueryRetriever를 언어 모델을 사용하여 초기화합니다.\n",
    "    # 벡터 데이터베이스의 retriever와 언어 모델을 전달합니다.\n",
    "    retriever=retriever,\n",
    "    llm=llm,\n",
    ")"
   ]
  },
  {
   "cell_type": "code",
   "execution_count": 12,
   "id": "3b7a9d73",
   "metadata": {},
   "outputs": [],
   "source": [
    "# 쿼리에 대한 로깅 설정\n",
    "import logging\n",
    "\n",
    "logging.basicConfig()\n",
    "logging.getLogger(\"langchain.retrievers.multi_query\").setLevel(logging.INFO)"
   ]
  },
  {
   "cell_type": "code",
   "execution_count": 18,
   "id": "5a5d28b6",
   "metadata": {},
   "outputs": [],
   "source": [
    "# 문서 출력 도우미 함수\n",
    "def pretty_print_docs(docs):\n",
    "    print(\n",
    "        f\"\\n{'-' * 100}\\n\".join(\n",
    "            [f\"Document {i+1}:\\n\\n\" + d.page_content for i, d in enumerate(docs)]\n",
    "        )\n",
    "    )"
   ]
  },
  {
   "cell_type": "code",
   "execution_count": 16,
   "id": "b8097169",
   "metadata": {},
   "outputs": [
    {
     "name": "stderr",
     "output_type": "stream",
     "text": [
      "INFO:langchain.retrievers.multi_query:Generated queries: ['2025년 삼성전자의 하반기 실적 예측은 어떻게 되나요?  ', '2025년 삼성전자의 하반기 재무 성과에 대한 전망은 무엇인가요?  ', '2025년 하반기 삼성전자의 실적에 대한 분석이나 예측이 있나요?']\n"
     ]
    },
    {
     "name": "stdout",
     "output_type": "stream",
     "text": [
      "===============\n",
      "검색된 문서 개수: 15\n",
      "===============\n",
      "Q. 2010년대 노키아 몰락후 핀란드가 크게 흔들렸습니다. TSMC 의존도가 절대적으로 높은 대만도 그런 위험에 빠질 가능성이 있을까요?\n",
      "Q. 2027년 중국의 대만 침공설이 나돌 정도로 중국은 대만 경제 의 앞날에 최대 리스크입니다. 대만내에서는 중국 침공 가능성을 어떻게 보고 있나요?\n",
      "Q. 한국은 10년째 3만달러 박스에 갇혀 있습니다. 성장률은 잠재성장률에도 못미치는 1% 대로 떨어졌죠.  가장 큰 이유는 무엇일까요?  \n",
      "Q. 대만 경제의 4만달러 진입 전망이 우리 경제에 주는 시사점은 무엇인가요?\n",
      "(자세한 내용은 동영상을 시청하시기 바랍니다.)'삼성 AI 포럼 2025' 2일차\n",
      "전경훈 삼성전자 CTO 강조\n",
      " \n",
      "전경훈 삼성전자 디바이스경험(DX) 최고기술책임자(CTO) 겸 삼성리서치장(사장)이 16일 열린 '삼성 AI 포럼 2025' 2일차 행사에서 발언하고 있다. 삼성전자 제공\n"
     ]
    }
   ],
   "source": [
    "# 질문을 정의합니다.\n",
    "question = \"2025년 삼성전자 하반기 실적 전망은\"\n",
    "# 문서 검색\n",
    "relevant_docs = multiquery_retriever.invoke(question)\n",
    "\n",
    "# 검색된 고유한 문서의 개수를 반환합니다.\n",
    "print(\n",
    "    f\"===============\\n검색된 문서 개수: {len(relevant_docs)}\",\n",
    "    end=\"\\n===============\\n\",\n",
    ")\n",
    "\n",
    "# 검색된 문서의 내용을 출력합니다.\n",
    "print(relevant_docs[0].page_content)"
   ]
  },
  {
   "cell_type": "code",
   "execution_count": 19,
   "id": "36a38ee4",
   "metadata": {},
   "outputs": [
    {
     "name": "stdout",
     "output_type": "stream",
     "text": [
      "Document 1:\n",
      "\n",
      "Q. 2010년대 노키아 몰락후 핀란드가 크게 흔들렸습니다. TSMC 의존도가 절대적으로 높은 대만도 그런 위험에 빠질 가능성이 있을까요?\n",
      "Q. 2027년 중국의 대만 침공설이 나돌 정도로 중국은 대만 경제 의 앞날에 최대 리스크입니다. 대만내에서는 중국 침공 가능성을 어떻게 보고 있나요?\n",
      "Q. 한국은 10년째 3만달러 박스에 갇혀 있습니다. 성장률은 잠재성장률에도 못미치는 1% 대로 떨어졌죠.  가장 큰 이유는 무엇일까요?  \n",
      "Q. 대만 경제의 4만달러 진입 전망이 우리 경제에 주는 시사점은 무엇인가요?\n",
      "(자세한 내용은 동영상을 시청하시기 바랍니다.)'삼성 AI 포럼 2025' 2일차\n",
      "전경훈 삼성전자 CTO 강조\n",
      " \n",
      "전경훈 삼성전자 디바이스경험(DX) 최고기술책임자(CTO) 겸 삼성리서치장(사장)이 16일 열린 '삼성 AI 포럼 2025' 2일차 행사에서 발언하고 있다. 삼성전자 제공\n",
      "----------------------------------------------------------------------------------------------------\n",
      "Document 2:\n",
      "\n",
      "당초 한국은행으로 알려졌던 지난해 법인세 납부액 1위도 실제로는 SK하이닉스였다. SK하이닉스는 2024년 연결기준 영업이익 약 23조5,000억 원을 거뒀고, 국내 법인세로 3조6,307억8,300만 원을 납부했다. 2위는 현대차(3조433억 원), 3위는 한국은행(2조5,782억 원), 4위는 기아(2조825억 원) 순이었다. 2023년 별도 영업적자 11조5263억 원을 낸 삼성전자는 2023~2024년 2년 연속 법인세를 내지 않았다.처음으로 19조원 돌파\n",
      "        이재용 삼성전자 회장의 주식 재산이 처음으로 19조원을 넘어섰다. 지난 11일 18조원을 돌파한 데 이어 3거래일 만이다.\n",
      "16일 한국CXO연구소에 따르면 이 회장의 주식 재산은 이날 종가 기준 19조152억원으로 집계됐다. 이 회장이 보유한 삼성전자 보통주와 우선주, 삼성물산, 삼성생명, 삼성SDS, 삼성E&A, 삼성화재 등의 주식 평가 가치를 합산한 결과다.\n",
      "----------------------------------------------------------------------------------------------------\n",
      "Document 3:\n",
      "\n",
      "기존 프리미엄 제품인 OLED(유기발광다이오드) TV시장을 주도하고 있는 LG전자도 RGB TV 출시를 계획하고 있다.\n",
      "아울러 투명 OLED TV로 기술을 선도하며 프리미엄 시장도 계속 이끌겠다는 복안이다. LG전자에 따르면 세계 최초 무선 투명 OLED TV인 ‘시그니처 올레드(OLED) T’는 ‘IFA2025’에서 최고 영예인 ‘베스트 오브 IFA(Best of IFA)로 선정되기도 했다.주신영 엘프스 변호사/사진제공=엘프스\n",
      "지난달 한 정유사가 폐수를 불법 배출했다는 이유로 환경부에서 약 1761억원의 과징금을 물렸다. 환경범죄단속법이 2020년 11월 개정된 이후 가장 큰 규모다. 중대 환경범죄에 대해 매출액을 기준으로 과징금을 부과하도록 바뀐 사례다.\n",
      "----------------------------------------------------------------------------------------------------\n",
      "Document 4:\n",
      "\n",
      "김영건 미래에셋증권 연구원은 \"HBM 생산이 늘어나면서 D램 생산능력이 계속 줄어들 것으로 예상했다. 여기에 PC, 스마트폰, 서버 등 IT 기기의 수요가 살아날 경우 범용 D램 공급난이 심화될 수 있다\"고 설명했다.\n",
      "이 때문에 범용 D램 생산능력을 경쟁사 대비 많이 확보하고 있는 삼성전자가 수혜를 볼 것으로 전망했다. 삼성전자는 월 45만장 규모의 범용 메모리 생산능력을 갖추고 있으며 이는 글로벌 메모리 빅3(삼성전자·SK하이닉스·마이크론) 전체 생산량의 41%에 해당한다.\n",
      "미래에셋은 삼성전자의 내년 DS(반도체) 부문 영업이익이 29조1000억원으로 올해보다 149% 늘어날 것으로 내다봤다.\n",
      "또한 AI 반도체 대표주자인 엔비디아의 HBM4 양산이 임박한 가운데, 삼성전자가 검증을 통과할 가능성이 높다는 점도 호재로 꼽힌다. 김 연구원은 \"샘플 물량이 늘면서 매출 반영이 본격화될 것\"이라며 \"후공정 수율 개선과 차세대 공정 적용으로 성능 대비 전력 효율이 높아졌다\"고 말했다.\n",
      "----------------------------------------------------------------------------------------------------\n",
      "Document 5:\n",
      "\n",
      "연합뉴스TV 배시진입니다.\n",
      "[영상취재 문주형]\n",
      "[영상편집 박상규]\n",
      "#코스피 #코스닥 #삼성전자 #반도체 #SK하이닉스\n",
      "연합뉴스TV 기사문의 및 제보 : 카톡/라인 jebo23서울 삼성전자 서초사옥./한국경제 김범준 기자\n",
      "\"1년 넘게 갇혀있는 8층(주가 8만원) 구조대 오나요?(삼성전자 주식 커뮤니티)\n",
      "삼성전자 주가가 연일 급등하면서 투자자들 사이에서는 '8만 전자'를 향한 기대감이 살아나고 있다. 이달 들어 삼성전자 주가는 9월 1일과 9월 5일을 제외하고는 모두 상승세를 이어갔다.\n",
      "16일에는 전날보다 3.66% 상승한 7만9300원에 거래를 마감하며 8만원대에 다가섰다. 삼성전자 주가를 견인하는 투자자는 외국인과 기관이다. 외국인은 이날 하루동안 삼성전자를 1조원 이상 쓸어 담았고, 기관은 692억원 어치를 순매수했다. 매수창구 상위에도 메릴린치, 골드만삭스, UBS 등 외국계 투자은행이 올랐다. 외국계 증권사와 투자은행은 16일 총 1283만주를 매수한 것으로 추정된다.\n",
      "----------------------------------------------------------------------------------------------------\n",
      "Document 6:\n",
      "\n",
      "(자료제공 = 한국CXO연구소)일렉트로니카 인디아 참가\n",
      "  【파이낸셜뉴스 뉴델리(인도)=프라갸 아와사티 통신원】삼성전기가 인도의 정보기술(IT) 기기, 전기차, 데이터 센터 시장의 급속한 성장에 대응해 현지 진출 저울질에 나섰다.  \n",
      " \n",
      "16일 인도 현지 매체에 따르면 삼성전기는 17일부터 19일까지 인도 벵갈루루 소재 벵갈루루국제전시센터(BIEC)에서 열리는 '일렉트로니카 인디아 2025'에 참가해 △적층세라믹커패시터(MLCC) △카메라 모듈 △반도체 기판 등 주요 전자 부품을 선보일 계획이다. 이는 인도 고객과의 협력을 강화하려는 전략의 일환으로 풀이된다.\n",
      "----------------------------------------------------------------------------------------------------\n",
      "Document 7:\n",
      "\n",
      "전경훈 삼성전자 디바이스경험(DX) 최고기술책임자(CTO) 겸 삼성리서치장(사장)이 16일 열린 '삼성 AI 포럼 2025' 2일차 행사에서 발언하고 있다. 삼성전자 제공\n",
      " \n",
      "\"스스로 사고하고 행동하는 '에이전틱 인공지능(AI)' 시대가 본격화하고 있다. 삼성전자도 시대에 발맞춰 사용자에게 실질적인 도움이 되는 기술을 준비하겠다.\"  \n",
      " \n",
      "전경훈 삼성전자 디바이스경험(DX) 최고기술책임자(CTO) 겸 삼성리서치장(사장)은 16일 열린 '삼성 AI 포럼 2025' 2일차 행사에서 \"에이전틱 AI의 핵심은 고도화된 추론 능력, 능동적 도구 활용\"이라며 이같이 말했다. 그는 그러면서 \"에이전틱 AI가 바로 오늘 우리가 논의할 주제\"라며 \"에이전틱 AI 시대로의 전환을 맞이해 기반 기술과 실제 제품 및 서비스에 적용된 사례를 공유하는 자리가 될 수 있기 바란다\"고 덧붙였다.\n",
      "----------------------------------------------------------------------------------------------------\n",
      "Document 8:\n",
      "\n",
      "회계기준을 바꿀 경우 삼성생명은 삼성전자 지분 매각 압력에 직면하게 된다. 이로 인해 삼성전자 지배구조가 흔들릴 수도 있다. '삼바 분식회계' 의혹에 대한 검찰의 무리한 기소로 이재용 삼성전자 회장이 사법리스크에 시달리다 최종 무죄판결을 받은 게 불과 두 달 전이다. 회계리스크로 삼성이 다시 흔들린다면 국가적인 손실을 피할 수 없을 것이다.LG전자는 최근 멕시코 칸쿤의 한 5성급 리조트에 500RT(냉동톤) 규모의 냉난방시설 ‘인버터 칠러’를 공급했다. 인버터 칠러는 건물 냉난방 시스템에서 쓰는 냉온수를 생산하는 장치다. 500RT는 5000평 규모로 냉난방을 제공할 수 있는 수준이다.\n",
      "----------------------------------------------------------------------------------------------------\n",
      "Document 9:\n",
      "\n",
      "프리미엄TV 시장에서도 중국업체의 위협은 거세지고 있다. 같은 기간 프리미엄 TV 시장에서 하이센스와 TCL의 합산 점유율이 39%로, 전년 동기 대비 12%포인트 늘었다. 반면 삼성전자의 점유율은 39%에서 28%로 11%포인트나 감소했다.\n",
      " [사진출처 = 삼성전자]\n",
      "이에 따라 삼성전자 VD사업부의 올해 2분기 매출은 7조원으로 전년 동기 대비 7% 줄었으며, 증권가에서는 영업이익이 1000억원에 그친 것으로 추정하고 있다. 같은 기간 LG전자 MS사업부는 1917억원의 영업손실을 내며 적자 전환했다.\n",
      "이들 기업들은 중국 업체 추격에 기술 격차로 승부를 보겠다는 전략이다. 이른바 초(超)프리미엄 제품들이다.\n",
      "일례로 삼성전자는 최근 독일 베를린에서 열린 유럽 최대 가전 박람회 ‘IFA 2025’에서 세계 최초로 115형 RGB 마이크로 LED(발광 다이오드) TV를 공개했다. 각각 빨강, 초록, 파랑 빛을 내는 LED 소자를 사용해 더 높은 색 재현율을 달성했다.\n",
      "----------------------------------------------------------------------------------------------------\n",
      "Document 10:\n",
      "\n",
      "도이체방크는 “마이크론이 시장 예상치를 웃도는 실적을 내놓을 것”이라며 “고대역폭메모리(HBM)와 D램 모두 공급 부족 현상이 내년까지 이어질 수 있다”고 전망했다. 목표주가는 155달러에서 175달러로 올렸다.삼성생명이 보유한 삼성전자 지분에 관한 회계처리 기준 변경 움직임이 가시화되고 있다. 회계기준을 갑자기 바꿀 경우 삼성 지배구조가 요동칠 수 있는 파급력이 있지만 당국과 관계기관은 전문가들의 의견을 충분히 반영하지 않고 기준 변경을 추진하고 있다. 반도체 패권경쟁과 미국발 관세전쟁의 한가운데 있는 삼성전자를 도와주지는 못할망정 무거운 족쇄를 채우는 격이다. 설사 관행에 문제가 있다 하더라도 의견 수렴과 유예기간을 거쳐 풀어나가는 게 순리다.\n",
      "----------------------------------------------------------------------------------------------------\n",
      "Document 11:\n",
      "\n",
      "경기도 이천시 SK하이닉스 본사 모습. 이천=연합뉴스\n",
      "올해 상반기 16조6,000억 원대로 국내 1위 영업이익을 달성한 SK하이닉스가 같은 기간 국내 법인세도 가장 많이 낸 것으로 나타났다.\n",
      "----------------------------------------------------------------------------------------------------\n",
      "Document 12:\n",
      "\n",
      "일탈 조항\n",
      "국제회계기준 IFRS17의 원칙적인 적용이 어려운 특수한 상황에서 예외적인 회계처리를 허용하는 규정. 일탈 조항의 적용을 받지 못하게 되면 삼성생명 측은 향후 삼성전자 주식을 어떻게 매각해서 계약자에게 돌려줘야 할지 계획을 세워야 하는 상황에 몰리게 된다.\n",
      "[박창영 기자]\"절차 정당성·구속력에 문제\"\n",
      "국제회계기준 부합도 따져야\n",
      "삼성생명의 회계처리 방식과 관련해 한국회계기준원이 적용의견서 발표에 속도를 내는 가운데 회계학 전문가들 사이에서는 절차적 정당성이나 국제호계기준과 합치 여부, 기업과 시장의 혼란 가능성 등에 대한 우려도 나온다.\n",
      "----------------------------------------------------------------------------------------------------\n",
      "Document 13:\n",
      "\n",
      "증권업계는 올해 '9만 전자' 달성도 가능하다고 전망한다. 16일 금융투자업계에 따르면, 키움증권(9만원), KB증권(9만원), BNK투자증권(9만1000원), NH투자증권(9만4000원), 한국투자증권(9만5000원), 미래에셋증권(9만6000원) 등이 삼성전자 목표가를 9만원 이상으로 제시했다. \n",
      "특히 NH투자증권은 16일 삼성전자 목표 주가를 기존보다 11.9% 상향했다. 류영호 NH투자증권 연구원은 16일 관련 보고서에서 \"최근 파운드리 부문에서 테슬라와 애플 등 의미 있는 고객사가 확보된 점, 1c(10나노급 6세대) 수율 개선과 함께 하반기 엔비디아 고대역폭 메모리(HBM) 공급이 가능할 것이란 기대감 등에 힘입어 주가가 긍정적 흐름을 보이고 있다\"며 이같이 밝혔다.\n",
      "----------------------------------------------------------------------------------------------------\n",
      "Document 14:\n",
      "\n",
      "같은 기간 삼성물산에서도 이 회장의 주식 재산은 6조 3186억 원에서 6조 6371억 원으로 3184억 원 이상 증가했다. \n",
      "또한 삼성SDS에서도 11일 1조 1639억 원이던 이 회장의 주식 가치가 이날 1조 1859억 원으로 220억 원 이상 증가했다.\n",
      "이재명 대통령 취임 시점 이 회장의 주식 재산은 14조 2852억 원이었는데, 이날까지 4조 7300억 원가량 불어난 것으로 파악됐다. 같은 기간 주식평가액 증가율은 33.1%로 30%를 넘어섰다. \n",
      "오일선 한국CXO연구소 소장은 \"향후 이 회장의 주식 재산이 20조 원까지는 앞으로 5% 정도 남아 있는 상태\"라며 \"추석 이전에 20조 원을 달성할지 아니면 추석 이후나 연말 사이에 20조 원을 달성할 수 있을지가 초미의 관심사로 모인 형국\"이라고 말했다.\n",
      "(자료제공 = 한국CXO연구소)일렉트로니카 인디아 참가\n",
      "----------------------------------------------------------------------------------------------------\n",
      "Document 15:\n",
      "\n",
      "현재 삼성전기는 인도에 소프트웨어(SW) 개발 조직을 운영 중이나, 현지 생산시설은 아직 없다. 현지 매체는 \"삼성전자가 노이다에서 스마트폰 생산공장을 운영 중이며, 애플 또한 연간 7000~8000만대의 아이폰을 인도에서 생산하는 상황에서 MLCC와 카메라 모듈 등 스마트폰 핵심 부품 분야에서 강점을 가진 삼성전기가 현지 파트너십 구축, 적시 납품 체계 및 품질관리 강화를 모색할 것\"이라고 전망했다.SK하이닉스가 올해 상반기에만 법인세를 3조원 가까이 납부하며 납부 실적 1위를 기록했다. 고대역폭메모리(HBM) 시장을 선점하면서 사상 최대 영업이익을 달성해서다.\n",
      "16일 국내 상위 대기업들의 개별 기준 반기보고서에 따르면 SK하이닉스는 상반기 2조7717억원에 달하는 법인세를 낸 것으로 나타났다. 통상 기업들이 국내에 납부하는 법인세는 해외 현지법인이나 자회사 등을 제외한 개별 기준 재무제표상 이익을 기준으로 한다.\n"
     ]
    }
   ],
   "source": [
    "pretty_print_docs(relevant_docs)"
   ]
  }
 ],
 "metadata": {
  "kernelspec": {
   "display_name": "langchain-kr-qU3nSgPx-py3.11",
   "language": "python",
   "name": "python3"
  },
  "language_info": {
   "codemirror_mode": {
    "name": "ipython",
    "version": 3
   },
   "file_extension": ".py",
   "mimetype": "text/x-python",
   "name": "python",
   "nbconvert_exporter": "python",
   "pygments_lexer": "ipython3",
   "version": "3.11.3"
  }
 },
 "nbformat": 4,
 "nbformat_minor": 5
}
