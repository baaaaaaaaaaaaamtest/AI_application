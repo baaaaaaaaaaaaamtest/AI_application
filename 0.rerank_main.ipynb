{
 "cells": [
  {
   "cell_type": "code",
   "execution_count": 1,
   "id": "5bb4cac0",
   "metadata": {},
   "outputs": [],
   "source": [
    "from langchain.text_splitter import RecursiveCharacterTextSplitter \n",
    "from langchain.vectorstores import FAISS\n",
    "from langchain.chains import RetrievalQA\n",
    "from langchain_ollama import OllamaLLM\n",
    "from langchain import PromptTemplate\n",
    "from langchain_community.document_loaders import TextLoader\n",
    "from langchain.schema import Document\n",
    "from langgraph.prebuilt import create_react_agent\n",
    "import datetime\n",
    "import numpy as np\n",
    "import time\n",
    "from langchain_huggingface.embeddings import HuggingFaceEmbeddings\n",
    "from langchain_openai import ChatOpenAI, OpenAIEmbeddings\n",
    "from langchain.retrievers import ContextualCompressionRetriever\n",
    "from langchain.retrievers.document_compressors import CrossEncoderReranker\n",
    "from langchain_community.cross_encoders import HuggingFaceCrossEncoder\n"
   ]
  },
  {
   "cell_type": "code",
   "execution_count": 2,
   "id": "94c2b2e3",
   "metadata": {},
   "outputs": [
    {
     "data": {
      "text/plain": [
       "True"
      ]
     },
     "execution_count": 2,
     "metadata": {},
     "output_type": "execute_result"
    }
   ],
   "source": [
    "# API 키를 환경변수로 관리하기 위한 설정 파일\n",
    "from dotenv import load_dotenv\n",
    "\n",
    "# API 키 정보 로드\n",
    "load_dotenv()"
   ]
  },
  {
   "cell_type": "code",
   "execution_count": 3,
   "id": "03ee0ae7",
   "metadata": {},
   "outputs": [
    {
     "name": "stdout",
     "output_type": "stream",
     "text": [
      "LangSmith 추적을 시작합니다.\n",
      "[프로젝트명]\n",
      "CH00-RAG-Chatbot\n"
     ]
    }
   ],
   "source": [
    "# LangSmith 추적을 설정합니다. https://smith.langchain.com\n",
    "# !pip install langchain-teddynote\n",
    "from langchain_teddynote import logging\n",
    "\n",
    "# 프로젝트 이름을 입력합니다.\n",
    "logging.langsmith(\"CH00-RAG-Chatbot\")"
   ]
  },
  {
   "cell_type": "code",
   "execution_count": null,
   "id": "7edd4ece",
   "metadata": {},
   "outputs": [],
   "source": [
    "OLLAMA_BASE_URL = \"http://localhost:11434\" # Ollama 서버 주소\n",
    "OLLAMA_CHAT_MODEL = \"ollama-ko-0710:latest\" # Ollama에서 실행중인 모델 이름"
   ]
  },
  {
   "cell_type": "markdown",
   "id": "26a62a92",
   "metadata": {},
   "source": [
    "## ReRank 추가 버전"
   ]
  },
  {
   "cell_type": "code",
   "execution_count": 4,
   "id": "b28d59f3",
   "metadata": {},
   "outputs": [],
   "source": [
    "def general_llm():\n",
    "    # 3. 텍스트 청크 분할 (chunk_size=1000, chunk_overlap=50)\n",
    "    text_splitter = RecursiveCharacterTextSplitter(chunk_size=500, chunk_overlap=100)\n",
    "    loader = TextLoader(\"./data/text.txt\", encoding=\"utf-8\")\n",
    "    split_docs = loader.load_and_split(text_splitter)\n",
    "    model_name = \"intfloat/multilingual-e5-large-instruct\"\n",
    "    hf_embeddings = HuggingFaceEmbeddings(\n",
    "        model_name=model_name,\n",
    "        model_kwargs={\"device\": \"cuda\"},  # cuda, cpu\n",
    "        encode_kwargs={\"normalize_embeddings\": True},\n",
    "    )\n",
    "\n",
    "    db = FAISS.from_documents(documents=split_docs, embedding=hf_embeddings)\n",
    "\n",
    "    # 5. 리트리버 생성\n",
    "    retriever = db.as_retriever(\n",
    "        search_type=\"mmr\", search_kwargs={\"k\": 10, \"lambda_mult\": 0.25, \"fetch_k\": 20}\n",
    "    )\n",
    "\n",
    "    reranker = HuggingFaceCrossEncoder(model_name=\"BAAI/bge-reranker-v2-m3\")\n",
    "    compressor = CrossEncoderReranker(model=reranker, top_n=6)\n",
    "    compression_retriever = ContextualCompressionRetriever(\n",
    "        base_compressor=compressor, base_retriever=retriever\n",
    "    )\n",
    "    # compressed_docs = compression_retriever.invoke(\"삼성전자 하반기 실적 전망은?\")\n",
    "    # pretty_print_docs(compressed_docs)\n",
    "\n",
    "    template = \"\"\"당신은 유용한 AI 어시스턴트입니다. 사용자의 질의에 대해 친절하고 정확하게 답변해야 합니다.\n",
    "    You are a helpful AI assistant, you'll need to answer users' queries in a friendly and accurate manner.\n",
    "    모든 대답은 반드시 한국말로 대답해주세요.\n",
    "    \n",
    "    문서 내용:\n",
    "    {context}\n",
    "    질문: {question}\n",
    "    답변:\"\"\"\n",
    "    prompt = PromptTemplate(template=template, input_variables=[\"context\", \"question\"])\n",
    "    \n",
    "    # # 7. Ollama LLM 초기화\n",
    "    # llm = OllamaLLM(model=OLLAMA_CHAT_MODEL, base_url=OLLAMA_BASE_URL,temperature=1, max_tokens=1024)\n",
    "    llm = ChatOpenAI(model_name=\"gpt-4.1-mini\", temperature=0.7, max_tokens=1024)\n",
    "\n",
    "    # # 8. RAG 체인 생성\n",
    "    chain = RetrievalQA.from_chain_type(\n",
    "        llm=llm,\n",
    "        chain_type=\"stuff\",\n",
    "        retriever=compression_retriever,\n",
    "        return_source_documents=True,\n",
    "        chain_type_kwargs={\"prompt\": prompt}\n",
    "    )\n",
    "\n",
    "    result = chain.invoke({\"query\": \"삼성전자 하반기 실적 전망은?\"})\n",
    "    answer = result[\"result\"]\n",
    "    return answer"
   ]
  },
  {
   "cell_type": "code",
   "execution_count": null,
   "id": "25167a07",
   "metadata": {},
   "outputs": [
    {
     "data": {
      "text/plain": [
       "'삼성전자의 2023년 하반기 실적 전망은 긍정적입니다. 3분기 영업이익은 약 9조 원으로, 전년 동기 대비 1.9% 감소하나 직전 분기 대비 91.9% 증가할 것으로 예상됩니다. 또한, 미래에셋증권은 삼성전자의 올해와 내년 영업이익 전망치를 각각 2.9%, 5.3% 상향 조정했고, 목표주가도 8만8000원에서 9만6000원으로 9% 높였습니다. 이는 내년 메모리 반도체 공급 부족과 제한된 D램 생산라인, 차세대 반도체(HBM) 증설 집중 덕분에 범용 D램 가격이 오를 것으로 전망되기 때문입니다. 전반적으로 중장기 경쟁력 회복과 밸류에이션 정상화에 대한 기대감이 커지고 있습니다.'"
      ]
     },
     "execution_count": 5,
     "metadata": {},
     "output_type": "execute_result"
    },
    {
     "ename": "",
     "evalue": "",
     "output_type": "error",
     "traceback": [
      "\u001b[1;31mThe Kernel crashed while executing code in the current cell or a previous cell. \n",
      "\u001b[1;31mPlease review the code in the cell(s) to identify a possible cause of the failure. \n",
      "\u001b[1;31mClick <a href='https://aka.ms/vscodeJupyterKernelCrash'>here</a> for more info. \n",
      "\u001b[1;31mView Jupyter <a href='command:jupyter.viewOutput'>log</a> for further details."
     ]
    }
   ],
   "source": [
    "general_llm()\n",
    "\n"
   ]
  }
 ],
 "metadata": {
  "kernelspec": {
   "display_name": "langchain-kr-qU3nSgPx-py3.11",
   "language": "python",
   "name": "python3"
  },
  "language_info": {
   "codemirror_mode": {
    "name": "ipython",
    "version": 3
   },
   "file_extension": ".py",
   "mimetype": "text/x-python",
   "name": "python",
   "nbconvert_exporter": "python",
   "pygments_lexer": "ipython3",
   "version": "3.11.3"
  }
 },
 "nbformat": 4,
 "nbformat_minor": 5
}
