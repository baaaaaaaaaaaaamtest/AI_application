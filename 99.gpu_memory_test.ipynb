{
 "cells": [
  {
   "cell_type": "code",
   "execution_count": 1,
   "id": "8121c8ed",
   "metadata": {},
   "outputs": [],
   "source": [
    "from langchain_community.document_loaders import TextLoader\n",
    "from langchain.text_splitter import RecursiveCharacterTextSplitter\n",
    "import faiss\n",
    "from langchain_community.vectorstores import FAISS\n",
    "from langchain_community.docstore.in_memory import InMemoryDocstore\n",
    "from langchain_openai import OpenAIEmbeddings\n"
   ]
  },
  {
   "cell_type": "code",
   "execution_count": 2,
   "id": "a1473bf6",
   "metadata": {},
   "outputs": [
    {
     "data": {
      "text/plain": [
       "True"
      ]
     },
     "execution_count": 2,
     "metadata": {},
     "output_type": "execute_result"
    }
   ],
   "source": [
    "# API 키를 환경변수로 관리하기 위한 설정 파일\n",
    "from dotenv import load_dotenv\n",
    "\n",
    "# API 키 정보 로드\n",
    "load_dotenv()"
   ]
  },
  {
   "cell_type": "code",
   "execution_count": 3,
   "id": "074829af",
   "metadata": {},
   "outputs": [
    {
     "name": "stdout",
     "output_type": "stream",
     "text": [
      "LangSmith 추적을 시작합니다.\n",
      "[프로젝트명]\n",
      "CH99-memory_test\n"
     ]
    }
   ],
   "source": [
    "# LangSmith 추적을 설정합니다. https://smith.langchain.com\n",
    "# !pip install langchain-teddynote\n",
    "from langchain_teddynote import logging\n",
    "\n",
    "# 프로젝트 이름을 입력합니다.\n",
    "logging.langsmith(\"CH99-memory_test\")"
   ]
  },
  {
   "cell_type": "code",
   "execution_count": 4,
   "id": "23a8647d",
   "metadata": {},
   "outputs": [
    {
     "name": "stdout",
     "output_type": "stream",
     "text": [
      "<class 'list'>\n",
      "page_content='2021년 5월에는 상속 절차가 진행돼 홍라희 리움미술관 명예관장에게 9분의 3, 이재용 삼성전자 회장·이부진 호텔신라 사장·이서현 삼성물산 사장에게 각각 9분의 2씩 지분이 나눠졌다. 삼성 일가는 약 4년간 이 집을 보유하다가 올 초부터 매각 절차를 진행해 6월에 거래를 마무리했다.\n",
      "해당 주택은 ‘삼성가족타운’으로 불리는 이태원 언덕길 인근에 자리하고 있다. 이번 거래가는 토지 기준 3.3㎡(평)당 약 7000만원 수준으로, 2010년 당시 3.3㎡당 2500만원에 거래된 것과 비교해 약 175% 오른 셈이다.\n",
      "1984년생인 강나연 회장은 에너지·철강 트레이딩 전문기업인 태화홀딩스의 창업자다. 2013년에 설립된 태화홀딩스는 러시아, 인도네시아, 호주 등에서 석탄, 펫콕, 합금철 등 에너지 및 철강 원자재를 수입해 아시아 시장에 공급하고 있다.\n",
      "태화홀딩스의 최근 3년 매출은 2022년 2733억원, 2023년 3376억원, 2024년 4055억원으로 꾸준히 성장세를 보이고 있다.\n",
      "한편 삼성 일가는 지난해 10월에도 이 선대회장이 남긴 또 다른 이태원 단독주택을 매각한 바 있다.16일 서울 여의도 한국거래소 전광판에 코스피 종가가 표시돼 있다.' metadata={'source': './data/text.txt'}\n",
      "85\n"
     ]
    }
   ],
   "source": [
    "loader1 = TextLoader(\"./data/text.txt\", encoding=\"utf-8\")\n",
    "text_splitter = RecursiveCharacterTextSplitter(chunk_size=600, chunk_overlap=0)\n",
    "split_doc1 = loader1.load_and_split(text_splitter)\n",
    "print(type(split_doc1))\n",
    "print(split_doc1[1])\n",
    "print(len(split_doc1))  "
   ]
  },
  {
   "cell_type": "code",
   "execution_count": 5,
   "id": "ad6f5694",
   "metadata": {},
   "outputs": [],
   "source": [
    "from langchain_huggingface.embeddings import HuggingFaceEmbeddings\n",
    "\n",
    "model_name = \"intfloat/multilingual-e5-large-instruct\"\n",
    "# model_name = \"intfloat/multilingual-e5-large\"\n",
    "\n",
    "hf_embeddings = HuggingFaceEmbeddings(\n",
    "    model_name=model_name,\n",
    "    model_kwargs={\"device\": \"cuda\"},  # cuda, cpu\n",
    "    encode_kwargs={\"normalize_embeddings\": True},\n",
    ")"
   ]
  },
  {
   "cell_type": "code",
   "execution_count": 6,
   "id": "af1ed541",
   "metadata": {},
   "outputs": [],
   "source": [
    "db = FAISS.from_documents(documents=split_doc1, embedding=hf_embeddings)"
   ]
  },
  {
   "cell_type": "code",
   "execution_count": null,
   "id": "2bae7393",
   "metadata": {},
   "outputs": [],
   "source": [
    "import torch\n",
    "import gc\n",
    "\n",
    "del db \n",
    "del hf_embeddings               # Delete embedding object\n",
    "gc.collect()                   # Garbage collect\n",
    "torch.cuda.empty_cache()       # Empty CUDA cache"
   ]
  },
  {
   "cell_type": "code",
   "execution_count": null,
   "id": "8f828889",
   "metadata": {},
   "outputs": [],
   "source": []
  }
 ],
 "metadata": {
  "kernelspec": {
   "display_name": "langchain-kr-qU3nSgPx-py3.11",
   "language": "python",
   "name": "python3"
  },
  "language_info": {
   "codemirror_mode": {
    "name": "ipython",
    "version": 3
   },
   "file_extension": ".py",
   "mimetype": "text/x-python",
   "name": "python",
   "nbconvert_exporter": "python",
   "pygments_lexer": "ipython3",
   "version": "3.11.3"
  }
 },
 "nbformat": 4,
 "nbformat_minor": 5
}
