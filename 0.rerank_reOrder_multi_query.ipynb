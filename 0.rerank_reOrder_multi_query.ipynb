{
 "cells": [
  {
   "cell_type": "code",
   "execution_count": null,
   "id": "5bb4cac0",
   "metadata": {},
   "outputs": [],
   "source": [
    "from langchain.text_splitter import RecursiveCharacterTextSplitter \n",
    "from langchain.vectorstores import FAISS\n",
    "from langchain.chains import RetrievalQA\n",
    "from langchain_ollama import OllamaLLM\n",
    "from langchain import PromptTemplate\n",
    "from langchain_community.document_loaders import TextLoader\n",
    "from langchain.schema import Document\n",
    "from langgraph.prebuilt import create_react_agent\n",
    "import datetime\n",
    "import numpy as np\n",
    "import time\n",
    "from langchain_huggingface.embeddings import HuggingFaceEmbeddings\n",
    "from langchain_openai import ChatOpenAI, OpenAIEmbeddings\n",
    "from langchain.retrievers import ContextualCompressionRetriever\n",
    "from langchain.retrievers.document_compressors import CrossEncoderReranker\n",
    "from langchain_community.cross_encoders import HuggingFaceCrossEncoder\n",
    "from langchain_community.document_transformers import LongContextReorder\n",
    "from operator import itemgetter\n",
    "from langchain_core.output_parsers import StrOutputParser\n",
    "from langchain_core.runnables import RunnableLambda\n",
    "from langchain.retrievers.multi_query import MultiQueryRetriever"
   ]
  },
  {
   "cell_type": "code",
   "execution_count": null,
   "id": "94c2b2e3",
   "metadata": {},
   "outputs": [],
   "source": [
    "# API 키를 환경변수로 관리하기 위한 설정 파일\n",
    "from dotenv import load_dotenv\n",
    "\n",
    "# API 키 정보 로드\n",
    "load_dotenv()"
   ]
  },
  {
   "cell_type": "code",
   "execution_count": null,
   "id": "03ee0ae7",
   "metadata": {},
   "outputs": [],
   "source": [
    "# LangSmith 추적을 설정합니다. https://smith.langchain.com\n",
    "# !pip install langchain-teddynote\n",
    "from langchain_teddynote import logging\n",
    "\n",
    "# 프로젝트 이름을 입력합니다.\n",
    "logging.langsmith(\"CH00-RAG-Chatbot\")"
   ]
  },
  {
   "cell_type": "code",
   "execution_count": null,
   "id": "7edd4ece",
   "metadata": {},
   "outputs": [],
   "source": [
    "OLLAMA_BASE_URL = \"http://localhost:11434\" # Ollama 서버 주소\n",
    "OLLAMA_CHAT_MODEL = \"ollama-ko-0710:latest\" # Ollama에서 실행중인 모델 이름"
   ]
  },
  {
   "cell_type": "code",
   "execution_count": null,
   "id": "df421d8b",
   "metadata": {},
   "outputs": [],
   "source": [
    "def get_split_docs():\n",
    "    # 1. 텍스트 청크 분할 (chunk_size=1000, chunk_overlap=50)\n",
    "    text_splitter = RecursiveCharacterTextSplitter(chunk_size=500, chunk_overlap=100)\n",
    "\n",
    "    # 2. Text loader\n",
    "    loader = TextLoader(\"./data/text.txt\", encoding=\"utf-8\")\n",
    "    return loader.load_and_split(text_splitter)"
   ]
  },
  {
   "cell_type": "code",
   "execution_count": null,
   "id": "e800fcc9",
   "metadata": {},
   "outputs": [],
   "source": [
    "def get_retriever(split_docs): \n",
    "    model_name = \"intfloat/multilingual-e5-large-instruct\"\n",
    "    hf_embeddings = HuggingFaceEmbeddings(\n",
    "        model_name=model_name,\n",
    "        model_kwargs={\"device\": \"cuda\"},  # cuda, cpu\n",
    "        encode_kwargs={\"normalize_embeddings\": True},\n",
    "    )\n",
    "    db = FAISS.from_documents(documents=split_docs, embedding=hf_embeddings)\n",
    "    retriever = db.as_retriever(\n",
    "        search_type=\"mmr\", search_kwargs={\"k\": 10, \"lambda_mult\": 0.25, \"fetch_k\": 20}\n",
    "    )\n",
    "    return retriever"
   ]
  },
  {
   "cell_type": "code",
   "execution_count": null,
   "id": "67508888",
   "metadata": {},
   "outputs": [],
   "source": [
    "def get_reranker(retriever):\n",
    "    reranker = HuggingFaceCrossEncoder(model_name=\"BAAI/bge-reranker-v2-m3\")\n",
    "    compressor = CrossEncoderReranker(model=reranker, top_n=6)\n",
    "    return ContextualCompressionRetriever(\n",
    "        base_compressor=compressor, base_retriever=retriever\n",
    "    )"
   ]
  },
  {
   "cell_type": "code",
   "execution_count": null,
   "id": "7d8a8e96",
   "metadata": {},
   "outputs": [],
   "source": [
    "# 문서 출력 도우미 함수\n",
    "def pretty_print_docs(docs):\n",
    "    print(\n",
    "        f\"\\n{'-' * 100}\\n\".join(\n",
    "            [f\"Document {i+1}:\\n\\n\" + d.page_content for i, d in enumerate(docs)]\n",
    "        )\n",
    "    )"
   ]
  },
  {
   "cell_type": "code",
   "execution_count": null,
   "id": "421ad485",
   "metadata": {},
   "outputs": [],
   "source": [
    "def reorder_documents(docs):\n",
    "    # 재정렬\n",
    "    reordering = LongContextReorder()\n",
    "    reordered_docs = reordering.transform_documents(docs)\n",
    "    return reordered_docs"
   ]
  },
  {
   "cell_type": "code",
   "execution_count": null,
   "id": "16ed2c9b",
   "metadata": {},
   "outputs": [],
   "source": [
    "def get_prompt():\n",
    "    template = \"\"\"당신은 유용한 AI 어시스턴트입니다. 사용자의 질의에 대해 친절하고 정확하게 답변해야 합니다.\n",
    "    You are a helpful AI assistant, you'll need to answer users' queries in a friendly and accurate manner.\n",
    "    모든 대답은 반드시 한국말로 대답해주세요.\n",
    "    \n",
    "    문서 내용:\n",
    "    {context}\n",
    "    질문: {question}\n",
    "    답변:\"\"\"\n",
    "    prompt = PromptTemplate(template=template, input_variables=[\"context\", \"question\"])\n",
    "    return prompt"
   ]
  },
  {
   "cell_type": "code",
   "execution_count": null,
   "id": "571ddc53",
   "metadata": {},
   "outputs": [],
   "source": [
    "def multi_query_retriever(retriever):\n",
    "    # 다중 질의어 생성\n",
    "    llm = ChatOpenAI(temperature=0, model=\"gpt-4o-mini\")\n",
    "    multiquery_retriever = MultiQueryRetriever.from_llm(  # MultiQueryRetriever를 언어 모델을 사용하여 초기화합니다.\n",
    "    # 벡터 데이터베이스의 retriever와 언어 모델을 전달합니다.\n",
    "    retriever=retriever,\n",
    "    llm=llm,\n",
    "    )\n",
    "    return multiquery_retriever"
   ]
  },
  {
   "cell_type": "markdown",
   "id": "26a62a92",
   "metadata": {},
   "source": [
    "## ReRank+ ReOrder  추가 버전"
   ]
  },
  {
   "cell_type": "code",
   "execution_count": null,
   "id": "b28d59f3",
   "metadata": {},
   "outputs": [],
   "source": [
    "def general_llm():\n",
    "\n",
    "    import logging\n",
    "    logging.basicConfig()\n",
    "    logging.getLogger(\"langchain.retrievers.multi_query\").setLevel(logging.INFO)\n",
    "\n",
    "    split_docs = get_split_docs()\n",
    "\n",
    "    retriever = get_retriever(split_docs)\n",
    "\n",
    "    multi_retriever = multi_query_retriever(retriever)\n",
    "\n",
    "    compression_retriever = get_reranker(multi_retriever)\n",
    "    \n",
    "    prompt= get_prompt()\n",
    "    \n",
    "    \n",
    "    # 7. Ollama LLM 초기화\n",
    "    # llm = OllamaLLM(model=OLLAMA_CHAT_MODEL, base_url=OLLAMA_BASE_URL,temperature=1, max_tokens=1024)\n",
    "    llm = ChatOpenAI(model_name=\"gpt-4.1-mini\", temperature=0.7, max_tokens=1024)\n",
    "    chain = (\n",
    "    {\n",
    "        \"context\": itemgetter(\"question\")\n",
    "        | compression_retriever\n",
    "        | RunnableLambda(reorder_documents),  # 질문을 기반으로 문맥을 검색합니다.\n",
    "        \"question\": itemgetter(\"question\"),  # 질문을 추출합니다.\n",
    "    }\n",
    "    | prompt  # 프롬프트 템플릿에 값을 전달합니다.\n",
    "    | llm # 언어 모델에 프롬프트를 전달합니다.\n",
    "    | StrOutputParser()  # 모델의 출력을 문자열로 파싱합니다.\n",
    "    )\n",
    "\n",
    "    answer = chain.invoke({\"question\": \"삼성전자 하반기 실적 전망은?\"})\n",
    "    return answer"
   ]
  },
  {
   "cell_type": "code",
   "execution_count": null,
   "id": "25167a07",
   "metadata": {},
   "outputs": [],
   "source": [
    "general_llm()\n",
    "\n"
   ]
  }
 ],
 "metadata": {
  "kernelspec": {
   "display_name": "langchain-kr-qU3nSgPx-py3.11",
   "language": "python",
   "name": "python3"
  },
  "language_info": {
   "codemirror_mode": {
    "name": "ipython",
    "version": 3
   },
   "file_extension": ".py",
   "mimetype": "text/x-python",
   "name": "python",
   "nbconvert_exporter": "python",
   "pygments_lexer": "ipython3",
   "version": "3.11.3"
  }
 },
 "nbformat": 4,
 "nbformat_minor": 5
}
