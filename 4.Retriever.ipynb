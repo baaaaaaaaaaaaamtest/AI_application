{
 "cells": [
  {
   "cell_type": "code",
   "execution_count": 1,
   "id": "00988f1b",
   "metadata": {},
   "outputs": [],
   "source": [
    "# 문서 출력 도우미 함수\n",
    "def pretty_print_docs(docs):\n",
    "    print(\n",
    "        f\"\\n{'-' * 100}\\n\".join(\n",
    "            [f\"Document {i+1}:\\n\\n\" + d.page_content for i, d in enumerate(docs)]\n",
    "        )\n",
    "    )"
   ]
  },
  {
   "cell_type": "code",
   "execution_count": null,
   "id": "c681d3ac",
   "metadata": {},
   "outputs": [
    {
     "name": "stdout",
     "output_type": "stream",
     "text": [
      "Document 1:\n",
      "\n",
      "특히 파운드리 고객사를 확보한 것이 단기 실적에는 영향을 미치지 않지만, 중장기 경쟁력 회복을 위한 기반이 될 것이라고 평가했다. 류 연구원은 \"여러 기대감이 모여 밸류에이션이 정상화되는 국면\"이라고 분석했다. \n",
      "이어 3분기 영업이익은 9조원으로 1년 전보다는 1.9% 감소하지만 직전 분기 대비 91.9% 늘어날 것으로 낙관했다.\n",
      "미래에셋증권은 15일 보고서에서 삼성전자의 올해와 내년 영업이익 전망치를 기존대비 각각 2.9%, 5.3%씩 올렸다. 동시에 목표 주가를 기존 8만8000원에서 9만6000원으로 9% 높였다.\n",
      "미래에셋증권은 주가 상향 이유로 내년 메모리 반도체 공급 부족을 꼽았다. 반도체 업체들은 제한된 D램 생산라인을 갖고 있는데, 업황 불확실성 탓에 설비를 크게 늘리지 못했다. 새로 증설한 시설도 대부분 차세대 반도체인 고대역폭 메모리(HBM) 생산에 집중돼 있어 범용 D램의 생산량이 줄면서 가격이 오르고 있다.\n",
      "----------------------------------------------------------------------------------------------------\n",
      "Document 2:\n",
      "\n",
      "경기도 이천시 SK하이닉스 본사 모습. 이천=연합뉴스\n",
      "올해 상반기 16조6,000억 원대로 국내 1위 영업이익을 달성한 SK하이닉스가 같은 기간 국내 법인세도 가장 많이 낸 것으로 나타났다.\n",
      "----------------------------------------------------------------------------------------------------\n",
      "Document 3:\n",
      "\n",
      "Q. 2010년대 노키아 몰락후 핀란드가 크게 흔들렸습니다. TSMC 의존도가 절대적으로 높은 대만도 그런 위험에 빠질 가능성이 있을까요?\n",
      "Q. 2027년 중국의 대만 침공설이 나돌 정도로 중국은 대만 경제 의 앞날에 최대 리스크입니다. 대만내에서는 중국 침공 가능성을 어떻게 보고 있나요?\n",
      "Q. 한국은 10년째 3만달러 박스에 갇혀 있습니다. 성장률은 잠재성장률에도 못미치는 1% 대로 떨어졌죠.  가장 큰 이유는 무엇일까요?  \n",
      "Q. 대만 경제의 4만달러 진입 전망이 우리 경제에 주는 시사점은 무엇인가요?\n",
      "(자세한 내용은 동영상을 시청하시기 바랍니다.)'삼성 AI 포럼 2025' 2일차\n",
      "전경훈 삼성전자 CTO 강조\n",
      " \n",
      "전경훈 삼성전자 디바이스경험(DX) 최고기술책임자(CTO) 겸 삼성리서치장(사장)이 16일 열린 '삼성 AI 포럼 2025' 2일차 행사에서 발언하고 있다. 삼성전자 제공\n",
      "----------------------------------------------------------------------------------------------------\n",
      "Document 4:\n",
      "\n",
      "회계기준을 바꿀 경우 삼성생명은 삼성전자 지분 매각 압력에 직면하게 된다. 이로 인해 삼성전자 지배구조가 흔들릴 수도 있다. '삼바 분식회계' 의혹에 대한 검찰의 무리한 기소로 이재용 삼성전자 회장이 사법리스크에 시달리다 최종 무죄판결을 받은 게 불과 두 달 전이다. 회계리스크로 삼성이 다시 흔들린다면 국가적인 손실을 피할 수 없을 것이다.LG전자는 최근 멕시코 칸쿤의 한 5성급 리조트에 500RT(냉동톤) 규모의 냉난방시설 ‘인버터 칠러’를 공급했다. 인버터 칠러는 건물 냉난방 시스템에서 쓰는 냉온수를 생산하는 장치다. 500RT는 5000평 규모로 냉난방을 제공할 수 있는 수준이다.\n",
      "----------------------------------------------------------------------------------------------------\n",
      "Document 5:\n",
      "\n",
      "그러면서 \"첨단산업 연구개발(R&D) 세액공제 확대도 코스닥 펀더멘털(기초체력)에 우호적으로 작용할 것\"이라며 \"코스닥 합산 R&D 지출이 연평균 11.8% 증가하고 있는 만큼 세액공제로 재무 부담을 줄일 수 있다\"고 강조했다.[서울=뉴시스] 홍효식 기자 = 일본 출장을 마친 이재용 삼성전자 회장이 9일 서울 강서구 김포비즈니스항공센터(SGBAC)로 귀국하고 있다. 2025.04.09. yesphoto@newsis.com\n",
      "[서울=뉴시스]이현주 기자 = 국내 주식부자 1위 이재용 삼성전자 회장의 주식재산이 16일 19조원을 돌파했다. 앞으로 20조원 달성까지는 5% 정도가 남아 그 시점이 주목받는 모양새다. \n",
      "한국CXO연구소에 따르면 이 회장은 ▲삼성전자 ▲삼성물산 ▲삼성생명 ▲삼성SDS ▲삼성E&A ▲삼성화재 ▲삼성전자 우선주 총 7개 종목을 보유하고 있으며, 주식가치는 이날 기준 19조152억원으로 평가됐다.\n",
      "----------------------------------------------------------------------------------------------------\n",
      "Document 6:\n",
      "\n",
      "연합뉴스TV 배시진입니다.\n",
      "[영상취재 문주형]\n",
      "[영상편집 박상규]\n",
      "#코스피 #코스닥 #삼성전자 #반도체 #SK하이닉스\n",
      "연합뉴스TV 기사문의 및 제보 : 카톡/라인 jebo23서울 삼성전자 서초사옥./한국경제 김범준 기자\n",
      "\"1년 넘게 갇혀있는 8층(주가 8만원) 구조대 오나요?(삼성전자 주식 커뮤니티)\n",
      "삼성전자 주가가 연일 급등하면서 투자자들 사이에서는 '8만 전자'를 향한 기대감이 살아나고 있다. 이달 들어 삼성전자 주가는 9월 1일과 9월 5일을 제외하고는 모두 상승세를 이어갔다.\n",
      "16일에는 전날보다 3.66% 상승한 7만9300원에 거래를 마감하며 8만원대에 다가섰다. 삼성전자 주가를 견인하는 투자자는 외국인과 기관이다. 외국인은 이날 하루동안 삼성전자를 1조원 이상 쓸어 담았고, 기관은 692억원 어치를 순매수했다. 매수창구 상위에도 메릴린치, 골드만삭스, UBS 등 외국계 투자은행이 올랐다. 외국계 증권사와 투자은행은 16일 총 1283만주를 매수한 것으로 추정된다.\n"
     ]
    },
    {
     "ename": "",
     "evalue": "",
     "output_type": "error",
     "traceback": [
      "\u001b[1;31mThe Kernel crashed while executing code in the current cell or a previous cell. \n",
      "\u001b[1;31mPlease review the code in the cell(s) to identify a possible cause of the failure. \n",
      "\u001b[1;31mClick <a href='https://aka.ms/vscodeJupyterKernelCrash'>here</a> for more info. \n",
      "\u001b[1;31mView Jupyter <a href='command:jupyter.viewOutput'>log</a> for further details."
     ]
    }
   ],
   "source": [
    "from langchain_community.document_loaders import TextLoader\n",
    "from langchain_community.vectorstores import FAISS\n",
    "from langchain_huggingface import HuggingFaceEmbeddings\n",
    "from langchain_text_splitters import RecursiveCharacterTextSplitter\n",
    "\n",
    "\n",
    "\n",
    "\n",
    "# 텍스트 분할기 설정\n",
    "text_splitter = RecursiveCharacterTextSplitter(chunk_size=500, chunk_overlap=100)\n",
    "# 문서 로드\n",
    "loader = TextLoader(\"./data/text.txt\", encoding=\"utf-8\")\n",
    "# 문서 분할\n",
    "split_docs = loader.load_and_split(text_splitter)\n",
    "\n",
    "# 임베딩 모델 설정\n",
    "model_name = \"intfloat/multilingual-e5-large-instruct\"\n",
    "hf_embeddings = HuggingFaceEmbeddings(\n",
    "    model_name=model_name,\n",
    "    model_kwargs={\"device\": \"cuda\"},  # cuda, cpu\n",
    "    encode_kwargs={\"normalize_embeddings\": True},\n",
    ")\n",
    "\n",
    "# 문서로부터 FAISS\n",
    "db = FAISS.from_documents(documents=split_docs, embedding=hf_embeddings)\n",
    "\n",
    "    # 5. 리트리버 생성\n",
    "retriever = db.as_retriever(\n",
    "    search_type=\"mmr\", search_kwargs={\"k\": 6, \"lambda_mult\": 0.25, \"fetch_k\": 10}\n",
    ")\n",
    "\n",
    "# 질의 설정\n",
    "query = \"삼성전자 하반기 실적 전망은?\"\n",
    "\n",
    "# 질의 수행 및 결과 문서 반환\n",
    "docs = retriever.invoke(query)\n",
    "\n",
    "# 결과 문서 출력\n",
    "pretty_print_docs(docs)"
   ]
  }
 ],
 "metadata": {
  "kernelspec": {
   "display_name": "langchain-kr-qU3nSgPx-py3.11",
   "language": "python",
   "name": "python3"
  },
  "language_info": {
   "codemirror_mode": {
    "name": "ipython",
    "version": 3
   },
   "file_extension": ".py",
   "mimetype": "text/x-python",
   "name": "python",
   "nbconvert_exporter": "python",
   "pygments_lexer": "ipython3",
   "version": "3.11.3"
  }
 },
 "nbformat": 4,
 "nbformat_minor": 5
}
